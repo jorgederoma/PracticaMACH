{
 "cells": [
  {
   "cell_type": "markdown",
   "id": "mkbDhgDRwmw1",
   "metadata": {
    "id": "mkbDhgDRwmw1"
   },
   "source": [
    "**PRÁCTICA FINAL MACHINE LEARNING**\n",
    "\n",
    "Nombres:\n",
    "\n",
    "    -María Cifuentes Pascual.\n",
    "    -Martina Díaz González.\n",
    "    -Óscar Domínguez Figueros.\n",
    "    -Carlota García Bonilla.\n",
    "    -Óscar Guerrero Calle.\n",
    "    -Jorge de Rosario Martínez.\n",
    "\n"
   ]
  },
  {
   "cell_type": "code",
   "execution_count": 3,
   "id": "44e4d2e5",
   "metadata": {
    "executionInfo": {
     "elapsed": 2989,
     "status": "ok",
     "timestamp": 1654114539446,
     "user": {
      "displayName": "Oscar Domínguez Figueros",
      "userId": "04563558011432022510"
     },
     "user_tz": -120
    },
    "id": "44e4d2e5"
   },
   "outputs": [],
   "source": [
    "# Importamos librerías\n",
    "\n",
    "%matplotlib inline\n",
    "\n",
    "import pandas as pd\n",
    "import numpy as np\n",
    "import seaborn as sns\n",
    "import matplotlib.pyplot as plt\n",
    "import random\n",
    "import plotly.express as px\n",
    "import scipy.stats as ss\n",
    "import warnings\n",
    "import sklearn\n",
    "from sklearn.preprocessing import LabelEncoder\n",
    "from sklearn.model_selection import train_test_split\n",
    "from sklearn.impute import KNNImputer\n",
    "from sklearn.pipeline import Pipeline"
   ]
  },
  {
   "cell_type": "markdown",
   "id": "NvN8MlLPxlko",
   "metadata": {
    "id": "NvN8MlLPxlko"
   },
   "source": [
    "Cargamos y visualizamos los datos. "
   ]
  },
  {
   "cell_type": "code",
   "execution_count": 4,
   "id": "190a20ac",
   "metadata": {
    "colab": {
     "base_uri": "https://localhost:8080/",
     "height": 353
    },
    "executionInfo": {
     "elapsed": 266,
     "status": "error",
     "timestamp": 1654114612568,
     "user": {
      "displayName": "Oscar Domínguez Figueros",
      "userId": "04563558011432022510"
     },
     "user_tz": -120
    },
    "id": "190a20ac",
    "outputId": "505ab312-81be-4619-ed29-b33f7db2642f",
    "scrolled": false
   },
   "outputs": [
    {
     "data": {
      "text/html": [
       "<div>\n",
       "<style scoped>\n",
       "    .dataframe tbody tr th:only-of-type {\n",
       "        vertical-align: middle;\n",
       "    }\n",
       "\n",
       "    .dataframe tbody tr th {\n",
       "        vertical-align: top;\n",
       "    }\n",
       "\n",
       "    .dataframe thead th {\n",
       "        text-align: right;\n",
       "    }\n",
       "</style>\n",
       "<table border=\"1\" class=\"dataframe\">\n",
       "  <thead>\n",
       "    <tr style=\"text-align: right;\">\n",
       "      <th></th>\n",
       "      <th>C_YEAR</th>\n",
       "      <th>C_MNTH</th>\n",
       "      <th>C_WDAY</th>\n",
       "      <th>C_HOUR</th>\n",
       "      <th>C_SEV</th>\n",
       "      <th>C_VEHS</th>\n",
       "      <th>C_CONF</th>\n",
       "      <th>C_RCFG</th>\n",
       "      <th>C_WTHR</th>\n",
       "      <th>C_RSUR</th>\n",
       "      <th>...</th>\n",
       "      <th>V_ID</th>\n",
       "      <th>V_TYPE</th>\n",
       "      <th>V_YEAR</th>\n",
       "      <th>P_ID</th>\n",
       "      <th>P_SEX</th>\n",
       "      <th>P_AGE</th>\n",
       "      <th>P_PSN</th>\n",
       "      <th>P_ISEV</th>\n",
       "      <th>P_SAFE</th>\n",
       "      <th>P_USER</th>\n",
       "    </tr>\n",
       "  </thead>\n",
       "  <tbody>\n",
       "    <tr>\n",
       "      <th>0</th>\n",
       "      <td>1999</td>\n",
       "      <td>1.0</td>\n",
       "      <td>1.0</td>\n",
       "      <td>20.0</td>\n",
       "      <td>2</td>\n",
       "      <td>2.0</td>\n",
       "      <td>34</td>\n",
       "      <td>NaN</td>\n",
       "      <td>1</td>\n",
       "      <td>5</td>\n",
       "      <td>...</td>\n",
       "      <td>1.0</td>\n",
       "      <td>06</td>\n",
       "      <td>1990</td>\n",
       "      <td>01</td>\n",
       "      <td>M</td>\n",
       "      <td>41</td>\n",
       "      <td>11</td>\n",
       "      <td>1</td>\n",
       "      <td>NaN</td>\n",
       "      <td>1.0</td>\n",
       "    </tr>\n",
       "    <tr>\n",
       "      <th>1</th>\n",
       "      <td>1999</td>\n",
       "      <td>1.0</td>\n",
       "      <td>1.0</td>\n",
       "      <td>20.0</td>\n",
       "      <td>2</td>\n",
       "      <td>2.0</td>\n",
       "      <td>34</td>\n",
       "      <td>NaN</td>\n",
       "      <td>1</td>\n",
       "      <td>5</td>\n",
       "      <td>...</td>\n",
       "      <td>2.0</td>\n",
       "      <td>01</td>\n",
       "      <td>1987</td>\n",
       "      <td>01</td>\n",
       "      <td>M</td>\n",
       "      <td>19</td>\n",
       "      <td>11</td>\n",
       "      <td>1</td>\n",
       "      <td>NaN</td>\n",
       "      <td>1.0</td>\n",
       "    </tr>\n",
       "    <tr>\n",
       "      <th>2</th>\n",
       "      <td>1999</td>\n",
       "      <td>1.0</td>\n",
       "      <td>1.0</td>\n",
       "      <td>20.0</td>\n",
       "      <td>2</td>\n",
       "      <td>2.0</td>\n",
       "      <td>34</td>\n",
       "      <td>NaN</td>\n",
       "      <td>1</td>\n",
       "      <td>5</td>\n",
       "      <td>...</td>\n",
       "      <td>2.0</td>\n",
       "      <td>01</td>\n",
       "      <td>1987</td>\n",
       "      <td>02</td>\n",
       "      <td>F</td>\n",
       "      <td>20</td>\n",
       "      <td>13</td>\n",
       "      <td>2</td>\n",
       "      <td>02</td>\n",
       "      <td>2.0</td>\n",
       "    </tr>\n",
       "    <tr>\n",
       "      <th>3</th>\n",
       "      <td>1999</td>\n",
       "      <td>1.0</td>\n",
       "      <td>1.0</td>\n",
       "      <td>8.0</td>\n",
       "      <td>2</td>\n",
       "      <td>1.0</td>\n",
       "      <td>01</td>\n",
       "      <td>NaN</td>\n",
       "      <td>5</td>\n",
       "      <td>3</td>\n",
       "      <td>...</td>\n",
       "      <td>1.0</td>\n",
       "      <td>01</td>\n",
       "      <td>1986</td>\n",
       "      <td>01</td>\n",
       "      <td>M</td>\n",
       "      <td>46</td>\n",
       "      <td>11</td>\n",
       "      <td>1</td>\n",
       "      <td>NaN</td>\n",
       "      <td>1.0</td>\n",
       "    </tr>\n",
       "    <tr>\n",
       "      <th>4</th>\n",
       "      <td>1999</td>\n",
       "      <td>1.0</td>\n",
       "      <td>1.0</td>\n",
       "      <td>8.0</td>\n",
       "      <td>2</td>\n",
       "      <td>1.0</td>\n",
       "      <td>01</td>\n",
       "      <td>NaN</td>\n",
       "      <td>5</td>\n",
       "      <td>3</td>\n",
       "      <td>...</td>\n",
       "      <td>99.0</td>\n",
       "      <td>NN</td>\n",
       "      <td>NNNN</td>\n",
       "      <td>01</td>\n",
       "      <td>M</td>\n",
       "      <td>05</td>\n",
       "      <td>99</td>\n",
       "      <td>2</td>\n",
       "      <td>NaN</td>\n",
       "      <td>3.0</td>\n",
       "    </tr>\n",
       "    <tr>\n",
       "      <th>5</th>\n",
       "      <td>1999</td>\n",
       "      <td>1.0</td>\n",
       "      <td>1.0</td>\n",
       "      <td>17.0</td>\n",
       "      <td>2</td>\n",
       "      <td>3.0</td>\n",
       "      <td>QQ</td>\n",
       "      <td>QQ</td>\n",
       "      <td>1</td>\n",
       "      <td>2</td>\n",
       "      <td>...</td>\n",
       "      <td>1.0</td>\n",
       "      <td>01</td>\n",
       "      <td>1984</td>\n",
       "      <td>01</td>\n",
       "      <td>M</td>\n",
       "      <td>28</td>\n",
       "      <td>11</td>\n",
       "      <td>1</td>\n",
       "      <td>NaN</td>\n",
       "      <td>1.0</td>\n",
       "    </tr>\n",
       "    <tr>\n",
       "      <th>6</th>\n",
       "      <td>1999</td>\n",
       "      <td>1.0</td>\n",
       "      <td>1.0</td>\n",
       "      <td>17.0</td>\n",
       "      <td>2</td>\n",
       "      <td>3.0</td>\n",
       "      <td>QQ</td>\n",
       "      <td>QQ</td>\n",
       "      <td>1</td>\n",
       "      <td>2</td>\n",
       "      <td>...</td>\n",
       "      <td>2.0</td>\n",
       "      <td>01</td>\n",
       "      <td>1991</td>\n",
       "      <td>01</td>\n",
       "      <td>M</td>\n",
       "      <td>21</td>\n",
       "      <td>11</td>\n",
       "      <td>1</td>\n",
       "      <td>NaN</td>\n",
       "      <td>1.0</td>\n",
       "    </tr>\n",
       "    <tr>\n",
       "      <th>7</th>\n",
       "      <td>1999</td>\n",
       "      <td>1.0</td>\n",
       "      <td>1.0</td>\n",
       "      <td>17.0</td>\n",
       "      <td>2</td>\n",
       "      <td>3.0</td>\n",
       "      <td>QQ</td>\n",
       "      <td>QQ</td>\n",
       "      <td>1</td>\n",
       "      <td>2</td>\n",
       "      <td>...</td>\n",
       "      <td>2.0</td>\n",
       "      <td>01</td>\n",
       "      <td>1991</td>\n",
       "      <td>02</td>\n",
       "      <td>F</td>\n",
       "      <td>NaN</td>\n",
       "      <td>13</td>\n",
       "      <td>2</td>\n",
       "      <td>NaN</td>\n",
       "      <td>2.0</td>\n",
       "    </tr>\n",
       "    <tr>\n",
       "      <th>8</th>\n",
       "      <td>1999</td>\n",
       "      <td>1.0</td>\n",
       "      <td>1.0</td>\n",
       "      <td>17.0</td>\n",
       "      <td>2</td>\n",
       "      <td>3.0</td>\n",
       "      <td>QQ</td>\n",
       "      <td>QQ</td>\n",
       "      <td>1</td>\n",
       "      <td>2</td>\n",
       "      <td>...</td>\n",
       "      <td>3.0</td>\n",
       "      <td>01</td>\n",
       "      <td>1992</td>\n",
       "      <td>01</td>\n",
       "      <td>M</td>\n",
       "      <td>NaN</td>\n",
       "      <td>11</td>\n",
       "      <td>2</td>\n",
       "      <td>NaN</td>\n",
       "      <td>1.0</td>\n",
       "    </tr>\n",
       "    <tr>\n",
       "      <th>9</th>\n",
       "      <td>1999</td>\n",
       "      <td>1.0</td>\n",
       "      <td>1.0</td>\n",
       "      <td>15.0</td>\n",
       "      <td>2</td>\n",
       "      <td>1.0</td>\n",
       "      <td>04</td>\n",
       "      <td>NaN</td>\n",
       "      <td>1</td>\n",
       "      <td>5</td>\n",
       "      <td>...</td>\n",
       "      <td>1.0</td>\n",
       "      <td>01</td>\n",
       "      <td>1997</td>\n",
       "      <td>01</td>\n",
       "      <td>M</td>\n",
       "      <td>61</td>\n",
       "      <td>11</td>\n",
       "      <td>1</td>\n",
       "      <td>NaN</td>\n",
       "      <td>1.0</td>\n",
       "    </tr>\n",
       "  </tbody>\n",
       "</table>\n",
       "<p>10 rows × 22 columns</p>\n",
       "</div>"
      ],
      "text/plain": [
       "   C_YEAR  C_MNTH  C_WDAY  C_HOUR  C_SEV  C_VEHS C_CONF C_RCFG C_WTHR C_RSUR  \\\n",
       "0    1999     1.0     1.0    20.0      2     2.0     34    NaN      1      5   \n",
       "1    1999     1.0     1.0    20.0      2     2.0     34    NaN      1      5   \n",
       "2    1999     1.0     1.0    20.0      2     2.0     34    NaN      1      5   \n",
       "3    1999     1.0     1.0     8.0      2     1.0     01    NaN      5      3   \n",
       "4    1999     1.0     1.0     8.0      2     1.0     01    NaN      5      3   \n",
       "5    1999     1.0     1.0    17.0      2     3.0     QQ     QQ      1      2   \n",
       "6    1999     1.0     1.0    17.0      2     3.0     QQ     QQ      1      2   \n",
       "7    1999     1.0     1.0    17.0      2     3.0     QQ     QQ      1      2   \n",
       "8    1999     1.0     1.0    17.0      2     3.0     QQ     QQ      1      2   \n",
       "9    1999     1.0     1.0    15.0      2     1.0     04    NaN      1      5   \n",
       "\n",
       "   ...  V_ID V_TYPE  V_YEAR P_ID P_SEX P_AGE P_PSN P_ISEV P_SAFE P_USER  \n",
       "0  ...   1.0     06    1990   01     M    41    11      1    NaN    1.0  \n",
       "1  ...   2.0     01    1987   01     M    19    11      1    NaN    1.0  \n",
       "2  ...   2.0     01    1987   02     F    20    13      2     02    2.0  \n",
       "3  ...   1.0     01    1986   01     M    46    11      1    NaN    1.0  \n",
       "4  ...  99.0     NN    NNNN   01     M    05    99      2    NaN    3.0  \n",
       "5  ...   1.0     01    1984   01     M    28    11      1    NaN    1.0  \n",
       "6  ...   2.0     01    1991   01     M    21    11      1    NaN    1.0  \n",
       "7  ...   2.0     01    1991   02     F   NaN    13      2    NaN    2.0  \n",
       "8  ...   3.0     01    1992   01     M   NaN    11      2    NaN    1.0  \n",
       "9  ...   1.0     01    1997   01     M    61    11      1    NaN    1.0  \n",
       "\n",
       "[10 rows x 22 columns]"
      ]
     },
     "execution_count": 4,
     "metadata": {},
     "output_type": "execute_result"
    }
   ],
   "source": [
    "df = pd.read_csv(\"NCDB_1999_to_2014.csv\", sep = ',', na_values=[\"U\", \"UU\", \"UUUU\", \"X\", \"XX\", \"XXXX\"])\n",
    "df.head(10)"
   ]
  },
  {
   "cell_type": "markdown",
   "id": "JjcTwlSpx2E1",
   "metadata": {
    "id": "JjcTwlSpx2E1"
   },
   "source": [
    "Este conjunto de datos presenta 1942851 entradas para 22 variables."
   ]
  },
  {
   "cell_type": "code",
   "execution_count": 5,
   "id": "Dglyan4vBuC0",
   "metadata": {
    "colab": {
     "base_uri": "https://localhost:8080/"
    },
    "id": "Dglyan4vBuC0",
    "outputId": "f6e7b276-5b99-4101-c0c6-eea5a8b4fcd1"
   },
   "outputs": [
    {
     "data": {
      "text/plain": [
       "(5860405, 22)"
      ]
     },
     "execution_count": 5,
     "metadata": {},
     "output_type": "execute_result"
    }
   ],
   "source": [
    "df.shape"
   ]
  },
  {
   "cell_type": "markdown",
   "id": "ef16ccce",
   "metadata": {
    "id": "ef16ccce"
   },
   "source": [
    "    -U - Unknown\n",
    "    -X - Jurisdiction not provide\n",
    "    -Q - otro (categoría other)\n",
    "    -N - not applicable (dummy)\n",
    "    \n",
    "    # U y X son missings"
   ]
  },
  {
   "cell_type": "markdown",
   "id": "YGZTou__yDJv",
   "metadata": {
    "id": "YGZTou__yDJv"
   },
   "source": [
    "Eliminamos las variables V_ID y P_ID porque los datos referidos a la identidad no influyen sobre las causas y tipos de accidentes."
   ]
  },
  {
   "cell_type": "code",
   "execution_count": 6,
   "id": "e757e75f",
   "metadata": {
    "id": "e757e75f"
   },
   "outputs": [],
   "source": [
    "#df = df.drop('V_ID', axis = 1)\n",
    "#df = df.drop('P_ID', axis = 1)"
   ]
  },
  {
   "cell_type": "markdown",
   "id": "N-Bky5UCy7SH",
   "metadata": {
    "id": "N-Bky5UCy7SH"
   },
   "source": [
    "Vemos cuales son las columnas de nuestro conjunto de datos, es decir, las variables."
   ]
  },
  {
   "cell_type": "code",
   "execution_count": 7,
   "id": "0381858d",
   "metadata": {
    "id": "0381858d",
    "outputId": "fc84d753-0d7b-4d41-bcd3-d3c80cebdbe2"
   },
   "outputs": [
    {
     "data": {
      "text/plain": [
       "Index(['C_YEAR', 'C_MNTH', 'C_WDAY', 'C_HOUR', 'C_SEV', 'C_VEHS', 'C_CONF',\n",
       "       'C_RCFG', 'C_WTHR', 'C_RSUR', 'C_RALN', 'C_TRAF', 'V_ID', 'V_TYPE',\n",
       "       'V_YEAR', 'P_ID', 'P_SEX', 'P_AGE', 'P_PSN', 'P_ISEV', 'P_SAFE',\n",
       "       'P_USER'],\n",
       "      dtype='object')"
      ]
     },
     "execution_count": 7,
     "metadata": {},
     "output_type": "execute_result"
    }
   ],
   "source": [
    "variables = df.columns\n",
    "variables"
   ]
  },
  {
   "cell_type": "code",
   "execution_count": 8,
   "id": "0dbc0ebd",
   "metadata": {
    "id": "0dbc0ebd"
   },
   "outputs": [],
   "source": [
    "#df = df[(df['C_YEAR'] == 1999) | (df['C_YEAR'] == 2014)]"
   ]
  },
  {
   "cell_type": "markdown",
   "id": "ZTiqCrkwzg-p",
   "metadata": {
    "id": "ZTiqCrkwzg-p"
   },
   "source": [
    "Vemos si hay datos missing en nuestro conjunto de datos."
   ]
  },
  {
   "cell_type": "code",
   "execution_count": 9,
   "id": "0206f7da",
   "metadata": {
    "id": "0206f7da"
   },
   "outputs": [],
   "source": [
    "#df.isna()"
   ]
  },
  {
   "cell_type": "markdown",
   "id": "BRQU81rGzVS9",
   "metadata": {
    "id": "BRQU81rGzVS9"
   },
   "source": [
    "Calculamos la suma de datos missing en cada variable. "
   ]
  },
  {
   "cell_type": "code",
   "execution_count": 10,
   "id": "1fd72f1f",
   "metadata": {
    "colab": {
     "base_uri": "https://localhost:8080/"
    },
    "id": "1fd72f1f",
    "outputId": "fd21a6a4-5bc5-44c0-8a24-194cd9c4e944"
   },
   "outputs": [
    {
     "data": {
      "text/plain": [
       "C_YEAR         0\n",
       "C_MNTH       385\n",
       "C_WDAY      1323\n",
       "C_HOUR     59409\n",
       "C_SEV          0\n",
       "C_VEHS       544\n",
       "C_CONF    179019\n",
       "C_RCFG    504648\n",
       "C_WTHR     87975\n",
       "C_RSUR     78451\n",
       "C_RALN    434710\n",
       "C_TRAF    223483\n",
       "V_ID         433\n",
       "V_TYPE     29754\n",
       "V_YEAR    324122\n",
       "P_ID          16\n",
       "P_SEX     234954\n",
       "P_AGE     377140\n",
       "P_PSN      57662\n",
       "P_ISEV     80701\n",
       "P_SAFE    615188\n",
       "P_USER    175586\n",
       "dtype: int64"
      ]
     },
     "execution_count": 10,
     "metadata": {},
     "output_type": "execute_result"
    }
   ],
   "source": [
    "df.isna().sum()"
   ]
  },
  {
   "cell_type": "markdown",
   "id": "45AdLhETzxgY",
   "metadata": {
    "id": "45AdLhETzxgY"
   },
   "source": [
    "Suma del total de datos missing en el conjunto de todas las variables."
   ]
  },
  {
   "cell_type": "code",
   "execution_count": 11,
   "id": "5b66be18",
   "metadata": {
    "colab": {
     "base_uri": "https://localhost:8080/"
    },
    "id": "5b66be18",
    "outputId": "891c6c25-de10-4c6e-ff65-1a4b91575d54"
   },
   "outputs": [
    {
     "data": {
      "text/plain": [
       "3465503"
      ]
     },
     "execution_count": 11,
     "metadata": {},
     "output_type": "execute_result"
    }
   ],
   "source": [
    "df.isna().sum().sum()"
   ]
  },
  {
   "cell_type": "code",
   "execution_count": 12,
   "id": "bdee0526",
   "metadata": {
    "id": "bdee0526"
   },
   "outputs": [],
   "source": [
    "def NA(data):\n",
    "    null_sum = data.isnull().sum()\n",
    "    total = null_sum.sort_values(ascending = False)\n",
    "    percent = (((null_sum / len(data.index))*100).round(2)).sort_values(ascending = False)\n",
    "    df_NA = pd.concat([total, percent], axis=1, keys=['NA', '% NA'])\n",
    "    return df_NA"
   ]
  },
  {
   "cell_type": "code",
   "execution_count": 13,
   "id": "c61e0d2f",
   "metadata": {
    "colab": {
     "base_uri": "https://localhost:8080/",
     "height": 739
    },
    "id": "c61e0d2f",
    "outputId": "087c3093-79b7-4b99-d5c3-86bbc487e282"
   },
   "outputs": [
    {
     "data": {
      "text/html": [
       "<div>\n",
       "<style scoped>\n",
       "    .dataframe tbody tr th:only-of-type {\n",
       "        vertical-align: middle;\n",
       "    }\n",
       "\n",
       "    .dataframe tbody tr th {\n",
       "        vertical-align: top;\n",
       "    }\n",
       "\n",
       "    .dataframe thead th {\n",
       "        text-align: right;\n",
       "    }\n",
       "</style>\n",
       "<table border=\"1\" class=\"dataframe\">\n",
       "  <thead>\n",
       "    <tr style=\"text-align: right;\">\n",
       "      <th></th>\n",
       "      <th>NA</th>\n",
       "      <th>% NA</th>\n",
       "    </tr>\n",
       "  </thead>\n",
       "  <tbody>\n",
       "    <tr>\n",
       "      <th>P_SAFE</th>\n",
       "      <td>615188</td>\n",
       "      <td>10.50</td>\n",
       "    </tr>\n",
       "    <tr>\n",
       "      <th>C_RCFG</th>\n",
       "      <td>504648</td>\n",
       "      <td>8.61</td>\n",
       "    </tr>\n",
       "    <tr>\n",
       "      <th>C_RALN</th>\n",
       "      <td>434710</td>\n",
       "      <td>7.42</td>\n",
       "    </tr>\n",
       "    <tr>\n",
       "      <th>P_AGE</th>\n",
       "      <td>377140</td>\n",
       "      <td>6.44</td>\n",
       "    </tr>\n",
       "    <tr>\n",
       "      <th>V_YEAR</th>\n",
       "      <td>324122</td>\n",
       "      <td>5.53</td>\n",
       "    </tr>\n",
       "    <tr>\n",
       "      <th>P_SEX</th>\n",
       "      <td>234954</td>\n",
       "      <td>4.01</td>\n",
       "    </tr>\n",
       "    <tr>\n",
       "      <th>C_TRAF</th>\n",
       "      <td>223483</td>\n",
       "      <td>3.81</td>\n",
       "    </tr>\n",
       "    <tr>\n",
       "      <th>C_CONF</th>\n",
       "      <td>179019</td>\n",
       "      <td>3.05</td>\n",
       "    </tr>\n",
       "    <tr>\n",
       "      <th>P_USER</th>\n",
       "      <td>175586</td>\n",
       "      <td>3.00</td>\n",
       "    </tr>\n",
       "    <tr>\n",
       "      <th>C_WTHR</th>\n",
       "      <td>87975</td>\n",
       "      <td>1.50</td>\n",
       "    </tr>\n",
       "    <tr>\n",
       "      <th>P_ISEV</th>\n",
       "      <td>80701</td>\n",
       "      <td>1.38</td>\n",
       "    </tr>\n",
       "    <tr>\n",
       "      <th>C_RSUR</th>\n",
       "      <td>78451</td>\n",
       "      <td>1.34</td>\n",
       "    </tr>\n",
       "    <tr>\n",
       "      <th>C_HOUR</th>\n",
       "      <td>59409</td>\n",
       "      <td>1.01</td>\n",
       "    </tr>\n",
       "    <tr>\n",
       "      <th>P_PSN</th>\n",
       "      <td>57662</td>\n",
       "      <td>0.98</td>\n",
       "    </tr>\n",
       "    <tr>\n",
       "      <th>V_TYPE</th>\n",
       "      <td>29754</td>\n",
       "      <td>0.51</td>\n",
       "    </tr>\n",
       "    <tr>\n",
       "      <th>C_WDAY</th>\n",
       "      <td>1323</td>\n",
       "      <td>0.02</td>\n",
       "    </tr>\n",
       "    <tr>\n",
       "      <th>C_VEHS</th>\n",
       "      <td>544</td>\n",
       "      <td>0.01</td>\n",
       "    </tr>\n",
       "    <tr>\n",
       "      <th>V_ID</th>\n",
       "      <td>433</td>\n",
       "      <td>0.01</td>\n",
       "    </tr>\n",
       "    <tr>\n",
       "      <th>C_MNTH</th>\n",
       "      <td>385</td>\n",
       "      <td>0.01</td>\n",
       "    </tr>\n",
       "    <tr>\n",
       "      <th>P_ID</th>\n",
       "      <td>16</td>\n",
       "      <td>0.00</td>\n",
       "    </tr>\n",
       "    <tr>\n",
       "      <th>C_SEV</th>\n",
       "      <td>0</td>\n",
       "      <td>0.00</td>\n",
       "    </tr>\n",
       "    <tr>\n",
       "      <th>C_YEAR</th>\n",
       "      <td>0</td>\n",
       "      <td>0.00</td>\n",
       "    </tr>\n",
       "  </tbody>\n",
       "</table>\n",
       "</div>"
      ],
      "text/plain": [
       "            NA   % NA\n",
       "P_SAFE  615188  10.50\n",
       "C_RCFG  504648   8.61\n",
       "C_RALN  434710   7.42\n",
       "P_AGE   377140   6.44\n",
       "V_YEAR  324122   5.53\n",
       "P_SEX   234954   4.01\n",
       "C_TRAF  223483   3.81\n",
       "C_CONF  179019   3.05\n",
       "P_USER  175586   3.00\n",
       "C_WTHR   87975   1.50\n",
       "P_ISEV   80701   1.38\n",
       "C_RSUR   78451   1.34\n",
       "C_HOUR   59409   1.01\n",
       "P_PSN    57662   0.98\n",
       "V_TYPE   29754   0.51\n",
       "C_WDAY    1323   0.02\n",
       "C_VEHS     544   0.01\n",
       "V_ID       433   0.01\n",
       "C_MNTH     385   0.01\n",
       "P_ID        16   0.00\n",
       "C_SEV        0   0.00\n",
       "C_YEAR       0   0.00"
      ]
     },
     "execution_count": 13,
     "metadata": {},
     "output_type": "execute_result"
    }
   ],
   "source": [
    "NA(df)"
   ]
  },
  {
   "cell_type": "markdown",
   "id": "uCjbpTeU01KO",
   "metadata": {
    "id": "uCjbpTeU01KO"
   },
   "source": [
    "Codificamos las variables objetivo. Distinguimos entre variables categóricas y continuas."
   ]
  },
  {
   "cell_type": "code",
   "execution_count": 14,
   "id": "efc6f597",
   "metadata": {
    "colab": {
     "base_uri": "https://localhost:8080/"
    },
    "id": "efc6f597",
    "outputId": "3bda1e3b-ce43-46c1-a999-220a65492176"
   },
   "outputs": [
    {
     "data": {
      "text/plain": [
       "array(['M', 'F', nan, 'N'], dtype=object)"
      ]
     },
     "execution_count": 14,
     "metadata": {},
     "output_type": "execute_result"
    }
   ],
   "source": [
    "df['P_SEX'].unique()"
   ]
  },
  {
   "cell_type": "code",
   "execution_count": 15,
   "id": "f52eb451",
   "metadata": {
    "id": "f52eb451"
   },
   "outputs": [],
   "source": [
    "df['P_SEX'] = df['P_SEX'].map({'F' : 0, 'M' : 1, 'N' : 'N'})"
   ]
  },
  {
   "cell_type": "code",
   "execution_count": 16,
   "id": "9e2f8af8",
   "metadata": {
    "colab": {
     "base_uri": "https://localhost:8080/"
    },
    "id": "9e2f8af8",
    "outputId": "83ce0c9b-b19c-4a77-fdbd-c0873003dbca"
   },
   "outputs": [
    {
     "data": {
      "text/plain": [
       "array([1, 0, nan, 'N'], dtype=object)"
      ]
     },
     "execution_count": 16,
     "metadata": {},
     "output_type": "execute_result"
    }
   ],
   "source": [
    "df['P_SEX'].unique()"
   ]
  },
  {
   "cell_type": "code",
   "execution_count": 17,
   "id": "f43a4d61",
   "metadata": {
    "id": "f43a4d61"
   },
   "outputs": [],
   "source": [
    "var_cont = ['C_HOUR', 'C_VEHS', 'P_AGE']"
   ]
  },
  {
   "cell_type": "code",
   "execution_count": 18,
   "id": "qdmxzlpBDbzQ",
   "metadata": {
    "colab": {
     "base_uri": "https://localhost:8080/"
    },
    "id": "qdmxzlpBDbzQ",
    "outputId": "42a43e11-9319-40d2-8820-e593be46c18a"
   },
   "outputs": [
    {
     "data": {
      "text/plain": [
       "array(['41', '19', '20', '46', '05', '28', '21', nan, '61', '56', '34',\n",
       "       '22', '30', '49', '32', '31', '68', '08', '45', '17', '33', '82',\n",
       "       '39', '37', '55', '38', '43', '35', '23', '25', '65', '44', '36',\n",
       "       '70', '50', '40', '27', '26', '15', '53', '16', '13', '14', '12',\n",
       "       '18', '77', '86', '42', '24', '47', '62', '06', '57', '83', '74',\n",
       "       '67', '51', '29', '01', '02', '54', '71', '10', '79', '63', '58',\n",
       "       '48', '60', '07', '64', '75', '52', '85', '93', '92', '69', '72',\n",
       "       '11', '59', '09', '66', '76', '73', '04', '78', '80', '84', '03',\n",
       "       '81', '89', '87', '88', '90', 'NN', '91', '95', '97', '94', '99',\n",
       "       '98', '96'], dtype=object)"
      ]
     },
     "execution_count": 18,
     "metadata": {},
     "output_type": "execute_result"
    }
   ],
   "source": [
    "df['P_AGE'].unique()"
   ]
  },
  {
   "cell_type": "code",
   "execution_count": 19,
   "id": "K8IP3at1DhTg",
   "metadata": {
    "colab": {
     "base_uri": "https://localhost:8080/"
    },
    "id": "K8IP3at1DhTg",
    "outputId": "a4f9b8bd-6770-48e2-ea07-5d62e00b1c27"
   },
   "outputs": [
    {
     "data": {
      "text/plain": [
       "array([20.,  8., 17., 15., 14.,  1., 11., 13., 19., 16.,  9.,  2., 18.,\n",
       "       12., 10., 23.,  0.,  6.,  7., 21., nan,  5., 22.,  3.,  4.])"
      ]
     },
     "execution_count": 19,
     "metadata": {},
     "output_type": "execute_result"
    }
   ],
   "source": [
    "df['C_HOUR'].unique()"
   ]
  },
  {
   "cell_type": "code",
   "execution_count": 20,
   "id": "xyuoAF0mDk03",
   "metadata": {
    "colab": {
     "base_uri": "https://localhost:8080/"
    },
    "id": "xyuoAF0mDk03",
    "outputId": "9e760373-d4a0-4cb5-ceca-20d0563d7dc1"
   },
   "outputs": [
    {
     "data": {
      "text/plain": [
       "array([ 2.,  1.,  3.,  4.,  6.,  7.,  9., nan,  5., 13.,  8., 12., 14.,\n",
       "       10., 11., 16., 26., 71., 19., 25., 21., 27., 15., 35., 22., 41.,\n",
       "       46., 31., 18., 56., 23., 36., 17., 20., 29., 77., 28., 38., 32.,\n",
       "       33., 54., 72., 40., 44., 58., 30., 24., 34., 39., 51., 57., 43.,\n",
       "       37.])"
      ]
     },
     "execution_count": 20,
     "metadata": {},
     "output_type": "execute_result"
    }
   ],
   "source": [
    "df['C_VEHS'].unique()"
   ]
  },
  {
   "cell_type": "code",
   "execution_count": 21,
   "id": "ad6804c6",
   "metadata": {
    "id": "ad6804c6"
   },
   "outputs": [],
   "source": [
    "def codificar_continuas(df, lista):\n",
    "    listN = ['N', 'NN', 'NNNN'] #dummies\n",
    "    listQ = ['Q', 'QQ'] #otra categoría más\n",
    "    #listU = ['U', 'UU', 'UUUU'] #datos faltantes\n",
    "    #listX = ['X', 'XX', 'XXXX'] #datos faltantes\n",
    "    for variable in lista:\n",
    "        for i in listN:\n",
    "            df[variable] = df[variable].replace([i], 11111)\n",
    "        for i in listQ:\n",
    "            df[variable] = df[variable].replace([i], 33333)\n",
    "        #for i in listU:\n",
    "        #    df[variable] = df[variable].replace([i], 55555)\n",
    "        #for i in listX:\n",
    "        #    df[variable] = df[variable].replace([i], 55555)\n",
    "        df[variable] = df[variable].fillna(int(df[variable].median()))\n",
    "        df[variable] = df[variable].apply(int)"
   ]
  },
  {
   "cell_type": "code",
   "execution_count": 22,
   "id": "9ccb057c",
   "metadata": {
    "id": "9ccb057c"
   },
   "outputs": [],
   "source": [
    "codificar_continuas(df, var_cont)"
   ]
  },
  {
   "cell_type": "code",
   "execution_count": 23,
   "id": "aaeeaa4d",
   "metadata": {
    "colab": {
     "base_uri": "https://localhost:8080/"
    },
    "id": "aaeeaa4d",
    "outputId": "ec789550-0c4a-4a4c-8101-85c578881615"
   },
   "outputs": [
    {
     "data": {
      "text/plain": [
       "array([20,  8, 17, 15, 14,  1, 11, 13, 19, 16,  9,  2, 18, 12, 10, 23,  0,\n",
       "        6,  7, 21,  5, 22,  3,  4], dtype=int64)"
      ]
     },
     "execution_count": 23,
     "metadata": {},
     "output_type": "execute_result"
    }
   ],
   "source": [
    "df['C_HOUR'].unique()"
   ]
  },
  {
   "cell_type": "code",
   "execution_count": 24,
   "id": "349a17b4",
   "metadata": {
    "colab": {
     "base_uri": "https://localhost:8080/"
    },
    "id": "349a17b4",
    "outputId": "b4e64aa8-1365-4c27-cdd7-738669b399a1"
   },
   "outputs": [
    {
     "data": {
      "text/plain": [
       "array([ 2,  1,  3,  4,  6,  7,  9,  5, 13,  8, 12, 14, 10, 11, 16, 26, 71,\n",
       "       19, 25, 21, 27, 15, 35, 22, 41, 46, 31, 18, 56, 23, 36, 17, 20, 29,\n",
       "       77, 28, 38, 32, 33, 54, 72, 40, 44, 58, 30, 24, 34, 39, 51, 57, 43,\n",
       "       37], dtype=int64)"
      ]
     },
     "execution_count": 24,
     "metadata": {},
     "output_type": "execute_result"
    }
   ],
   "source": [
    "df['C_VEHS'].unique()"
   ]
  },
  {
   "cell_type": "code",
   "execution_count": 25,
   "id": "af9376b4",
   "metadata": {
    "colab": {
     "base_uri": "https://localhost:8080/"
    },
    "id": "af9376b4",
    "outputId": "a2f08117-395c-49cb-dac0-b3e1427ff80c"
   },
   "outputs": [
    {
     "data": {
      "text/plain": [
       "array([   41,    19,    20,    46,     5,    28,    21,    34,    61,\n",
       "          56,    22,    30,    49,    32,    31,    68,     8,    45,\n",
       "          17,    33,    82,    39,    37,    55,    38,    43,    35,\n",
       "          23,    25,    65,    44,    36,    70,    50,    40,    27,\n",
       "          26,    15,    53,    16,    13,    14,    12,    18,    77,\n",
       "          86,    42,    24,    47,    62,     6,    57,    83,    74,\n",
       "          67,    51,    29,     1,     2,    54,    71,    10,    79,\n",
       "          63,    58,    48,    60,     7,    64,    75,    52,    85,\n",
       "          93,    92,    69,    72,    11,    59,     9,    66,    76,\n",
       "          73,     4,    78,    80,    84,     3,    81,    89,    87,\n",
       "          88,    90, 11111,    91,    95,    97,    94,    99,    98,\n",
       "          96], dtype=int64)"
      ]
     },
     "execution_count": 25,
     "metadata": {},
     "output_type": "execute_result"
    }
   ],
   "source": [
    "df['P_AGE'].unique()"
   ]
  },
  {
   "cell_type": "code",
   "execution_count": 26,
   "id": "80989c11",
   "metadata": {
    "colab": {
     "base_uri": "https://localhost:8080/"
    },
    "id": "80989c11",
    "outputId": "e9133987-6922-4172-873a-0aa1e0546723"
   },
   "outputs": [
    {
     "data": {
      "text/plain": [
       "34    469307\n",
       "18    171719\n",
       "19    167721\n",
       "20    158747\n",
       "17    158163\n",
       "       ...  \n",
       "99       321\n",
       "95       292\n",
       "96       201\n",
       "98       193\n",
       "97       110\n",
       "Name: P_AGE, Length: 100, dtype: int64"
      ]
     },
     "execution_count": 26,
     "metadata": {},
     "output_type": "execute_result"
    }
   ],
   "source": [
    "df['P_AGE'].value_counts()"
   ]
  },
  {
   "cell_type": "markdown",
   "id": "W6z1lxBj3Llq",
   "metadata": {
    "id": "W6z1lxBj3Llq"
   },
   "source": [
    "Agrupamos los datos en función de la variable P_AGE y el resto de las variables. Es decir, para las personas que lleven un año conduciendo, en el año que se esté considerando, habrán 11517 accidentes. "
   ]
  },
  {
   "cell_type": "code",
   "execution_count": 27,
   "id": "4a036505",
   "metadata": {
    "colab": {
     "base_uri": "https://localhost:8080/",
     "height": 519
    },
    "id": "4a036505",
    "outputId": "84a60a47-34eb-4538-d01f-775b07308267"
   },
   "outputs": [
    {
     "data": {
      "text/html": [
       "<div>\n",
       "<style scoped>\n",
       "    .dataframe tbody tr th:only-of-type {\n",
       "        vertical-align: middle;\n",
       "    }\n",
       "\n",
       "    .dataframe tbody tr th {\n",
       "        vertical-align: top;\n",
       "    }\n",
       "\n",
       "    .dataframe thead th {\n",
       "        text-align: right;\n",
       "    }\n",
       "</style>\n",
       "<table border=\"1\" class=\"dataframe\">\n",
       "  <thead>\n",
       "    <tr style=\"text-align: right;\">\n",
       "      <th></th>\n",
       "      <th>C_YEAR</th>\n",
       "      <th>C_MNTH</th>\n",
       "      <th>C_WDAY</th>\n",
       "      <th>C_HOUR</th>\n",
       "      <th>C_SEV</th>\n",
       "      <th>C_VEHS</th>\n",
       "      <th>C_CONF</th>\n",
       "      <th>C_RCFG</th>\n",
       "      <th>C_WTHR</th>\n",
       "      <th>C_RSUR</th>\n",
       "      <th>...</th>\n",
       "      <th>C_TRAF</th>\n",
       "      <th>V_ID</th>\n",
       "      <th>V_TYPE</th>\n",
       "      <th>V_YEAR</th>\n",
       "      <th>P_ID</th>\n",
       "      <th>P_SEX</th>\n",
       "      <th>P_PSN</th>\n",
       "      <th>P_ISEV</th>\n",
       "      <th>P_SAFE</th>\n",
       "      <th>P_USER</th>\n",
       "    </tr>\n",
       "    <tr>\n",
       "      <th>P_AGE</th>\n",
       "      <th></th>\n",
       "      <th></th>\n",
       "      <th></th>\n",
       "      <th></th>\n",
       "      <th></th>\n",
       "      <th></th>\n",
       "      <th></th>\n",
       "      <th></th>\n",
       "      <th></th>\n",
       "      <th></th>\n",
       "      <th></th>\n",
       "      <th></th>\n",
       "      <th></th>\n",
       "      <th></th>\n",
       "      <th></th>\n",
       "      <th></th>\n",
       "      <th></th>\n",
       "      <th></th>\n",
       "      <th></th>\n",
       "      <th></th>\n",
       "      <th></th>\n",
       "    </tr>\n",
       "  </thead>\n",
       "  <tbody>\n",
       "    <tr>\n",
       "      <th>1</th>\n",
       "      <td>39423</td>\n",
       "      <td>39422</td>\n",
       "      <td>39420</td>\n",
       "      <td>39423</td>\n",
       "      <td>39423</td>\n",
       "      <td>39423</td>\n",
       "      <td>38801</td>\n",
       "      <td>36158</td>\n",
       "      <td>39010</td>\n",
       "      <td>38992</td>\n",
       "      <td>...</td>\n",
       "      <td>38560</td>\n",
       "      <td>39421</td>\n",
       "      <td>39375</td>\n",
       "      <td>38697</td>\n",
       "      <td>39423</td>\n",
       "      <td>39079</td>\n",
       "      <td>39222</td>\n",
       "      <td>39382</td>\n",
       "      <td>38195</td>\n",
       "      <td>39034</td>\n",
       "    </tr>\n",
       "    <tr>\n",
       "      <th>2</th>\n",
       "      <td>25371</td>\n",
       "      <td>25370</td>\n",
       "      <td>25368</td>\n",
       "      <td>25371</td>\n",
       "      <td>25371</td>\n",
       "      <td>25371</td>\n",
       "      <td>24865</td>\n",
       "      <td>22898</td>\n",
       "      <td>25030</td>\n",
       "      <td>25025</td>\n",
       "      <td>...</td>\n",
       "      <td>24692</td>\n",
       "      <td>25369</td>\n",
       "      <td>25335</td>\n",
       "      <td>24816</td>\n",
       "      <td>25371</td>\n",
       "      <td>25306</td>\n",
       "      <td>25226</td>\n",
       "      <td>25340</td>\n",
       "      <td>24574</td>\n",
       "      <td>25071</td>\n",
       "    </tr>\n",
       "    <tr>\n",
       "      <th>3</th>\n",
       "      <td>25532</td>\n",
       "      <td>25531</td>\n",
       "      <td>25528</td>\n",
       "      <td>25532</td>\n",
       "      <td>25532</td>\n",
       "      <td>25532</td>\n",
       "      <td>25048</td>\n",
       "      <td>23206</td>\n",
       "      <td>25231</td>\n",
       "      <td>25234</td>\n",
       "      <td>...</td>\n",
       "      <td>24837</td>\n",
       "      <td>25531</td>\n",
       "      <td>25493</td>\n",
       "      <td>25042</td>\n",
       "      <td>25532</td>\n",
       "      <td>25463</td>\n",
       "      <td>25400</td>\n",
       "      <td>25502</td>\n",
       "      <td>24633</td>\n",
       "      <td>25232</td>\n",
       "    </tr>\n",
       "    <tr>\n",
       "      <th>4</th>\n",
       "      <td>26407</td>\n",
       "      <td>26407</td>\n",
       "      <td>26401</td>\n",
       "      <td>26407</td>\n",
       "      <td>26407</td>\n",
       "      <td>26407</td>\n",
       "      <td>25891</td>\n",
       "      <td>24027</td>\n",
       "      <td>26096</td>\n",
       "      <td>26101</td>\n",
       "      <td>...</td>\n",
       "      <td>25662</td>\n",
       "      <td>26405</td>\n",
       "      <td>26365</td>\n",
       "      <td>25780</td>\n",
       "      <td>26407</td>\n",
       "      <td>26324</td>\n",
       "      <td>26232</td>\n",
       "      <td>26387</td>\n",
       "      <td>25323</td>\n",
       "      <td>26038</td>\n",
       "    </tr>\n",
       "    <tr>\n",
       "      <th>5</th>\n",
       "      <td>26642</td>\n",
       "      <td>26642</td>\n",
       "      <td>26641</td>\n",
       "      <td>26642</td>\n",
       "      <td>26642</td>\n",
       "      <td>26642</td>\n",
       "      <td>26083</td>\n",
       "      <td>24159</td>\n",
       "      <td>26316</td>\n",
       "      <td>26338</td>\n",
       "      <td>...</td>\n",
       "      <td>25941</td>\n",
       "      <td>26640</td>\n",
       "      <td>26595</td>\n",
       "      <td>25929</td>\n",
       "      <td>26642</td>\n",
       "      <td>26573</td>\n",
       "      <td>26482</td>\n",
       "      <td>26624</td>\n",
       "      <td>25467</td>\n",
       "      <td>26298</td>\n",
       "    </tr>\n",
       "    <tr>\n",
       "      <th>...</th>\n",
       "      <td>...</td>\n",
       "      <td>...</td>\n",
       "      <td>...</td>\n",
       "      <td>...</td>\n",
       "      <td>...</td>\n",
       "      <td>...</td>\n",
       "      <td>...</td>\n",
       "      <td>...</td>\n",
       "      <td>...</td>\n",
       "      <td>...</td>\n",
       "      <td>...</td>\n",
       "      <td>...</td>\n",
       "      <td>...</td>\n",
       "      <td>...</td>\n",
       "      <td>...</td>\n",
       "      <td>...</td>\n",
       "      <td>...</td>\n",
       "      <td>...</td>\n",
       "      <td>...</td>\n",
       "      <td>...</td>\n",
       "      <td>...</td>\n",
       "    </tr>\n",
       "    <tr>\n",
       "      <th>96</th>\n",
       "      <td>201</td>\n",
       "      <td>201</td>\n",
       "      <td>201</td>\n",
       "      <td>201</td>\n",
       "      <td>201</td>\n",
       "      <td>201</td>\n",
       "      <td>192</td>\n",
       "      <td>190</td>\n",
       "      <td>199</td>\n",
       "      <td>198</td>\n",
       "      <td>...</td>\n",
       "      <td>187</td>\n",
       "      <td>201</td>\n",
       "      <td>201</td>\n",
       "      <td>199</td>\n",
       "      <td>201</td>\n",
       "      <td>199</td>\n",
       "      <td>200</td>\n",
       "      <td>201</td>\n",
       "      <td>192</td>\n",
       "      <td>197</td>\n",
       "    </tr>\n",
       "    <tr>\n",
       "      <th>97</th>\n",
       "      <td>110</td>\n",
       "      <td>110</td>\n",
       "      <td>110</td>\n",
       "      <td>110</td>\n",
       "      <td>110</td>\n",
       "      <td>110</td>\n",
       "      <td>107</td>\n",
       "      <td>106</td>\n",
       "      <td>107</td>\n",
       "      <td>109</td>\n",
       "      <td>...</td>\n",
       "      <td>105</td>\n",
       "      <td>110</td>\n",
       "      <td>110</td>\n",
       "      <td>107</td>\n",
       "      <td>110</td>\n",
       "      <td>108</td>\n",
       "      <td>109</td>\n",
       "      <td>110</td>\n",
       "      <td>101</td>\n",
       "      <td>109</td>\n",
       "    </tr>\n",
       "    <tr>\n",
       "      <th>98</th>\n",
       "      <td>193</td>\n",
       "      <td>193</td>\n",
       "      <td>193</td>\n",
       "      <td>193</td>\n",
       "      <td>193</td>\n",
       "      <td>193</td>\n",
       "      <td>186</td>\n",
       "      <td>179</td>\n",
       "      <td>191</td>\n",
       "      <td>191</td>\n",
       "      <td>...</td>\n",
       "      <td>181</td>\n",
       "      <td>193</td>\n",
       "      <td>192</td>\n",
       "      <td>181</td>\n",
       "      <td>193</td>\n",
       "      <td>189</td>\n",
       "      <td>190</td>\n",
       "      <td>190</td>\n",
       "      <td>162</td>\n",
       "      <td>184</td>\n",
       "    </tr>\n",
       "    <tr>\n",
       "      <th>99</th>\n",
       "      <td>321</td>\n",
       "      <td>321</td>\n",
       "      <td>321</td>\n",
       "      <td>321</td>\n",
       "      <td>321</td>\n",
       "      <td>321</td>\n",
       "      <td>291</td>\n",
       "      <td>316</td>\n",
       "      <td>316</td>\n",
       "      <td>318</td>\n",
       "      <td>...</td>\n",
       "      <td>287</td>\n",
       "      <td>321</td>\n",
       "      <td>319</td>\n",
       "      <td>275</td>\n",
       "      <td>321</td>\n",
       "      <td>304</td>\n",
       "      <td>321</td>\n",
       "      <td>321</td>\n",
       "      <td>271</td>\n",
       "      <td>318</td>\n",
       "    </tr>\n",
       "    <tr>\n",
       "      <th>11111</th>\n",
       "      <td>18016</td>\n",
       "      <td>17929</td>\n",
       "      <td>17918</td>\n",
       "      <td>18016</td>\n",
       "      <td>18016</td>\n",
       "      <td>18016</td>\n",
       "      <td>15331</td>\n",
       "      <td>10341</td>\n",
       "      <td>17493</td>\n",
       "      <td>17538</td>\n",
       "      <td>...</td>\n",
       "      <td>15858</td>\n",
       "      <td>17994</td>\n",
       "      <td>17417</td>\n",
       "      <td>13706</td>\n",
       "      <td>18016</td>\n",
       "      <td>17714</td>\n",
       "      <td>18012</td>\n",
       "      <td>18012</td>\n",
       "      <td>17970</td>\n",
       "      <td>3215</td>\n",
       "    </tr>\n",
       "  </tbody>\n",
       "</table>\n",
       "<p>100 rows × 21 columns</p>\n",
       "</div>"
      ],
      "text/plain": [
       "       C_YEAR  C_MNTH  C_WDAY  C_HOUR  C_SEV  C_VEHS  C_CONF  C_RCFG  C_WTHR  \\\n",
       "P_AGE                                                                          \n",
       "1       39423   39422   39420   39423  39423   39423   38801   36158   39010   \n",
       "2       25371   25370   25368   25371  25371   25371   24865   22898   25030   \n",
       "3       25532   25531   25528   25532  25532   25532   25048   23206   25231   \n",
       "4       26407   26407   26401   26407  26407   26407   25891   24027   26096   \n",
       "5       26642   26642   26641   26642  26642   26642   26083   24159   26316   \n",
       "...       ...     ...     ...     ...    ...     ...     ...     ...     ...   \n",
       "96        201     201     201     201    201     201     192     190     199   \n",
       "97        110     110     110     110    110     110     107     106     107   \n",
       "98        193     193     193     193    193     193     186     179     191   \n",
       "99        321     321     321     321    321     321     291     316     316   \n",
       "11111   18016   17929   17918   18016  18016   18016   15331   10341   17493   \n",
       "\n",
       "       C_RSUR  ...  C_TRAF   V_ID  V_TYPE  V_YEAR   P_ID  P_SEX  P_PSN  \\\n",
       "P_AGE          ...                                                       \n",
       "1       38992  ...   38560  39421   39375   38697  39423  39079  39222   \n",
       "2       25025  ...   24692  25369   25335   24816  25371  25306  25226   \n",
       "3       25234  ...   24837  25531   25493   25042  25532  25463  25400   \n",
       "4       26101  ...   25662  26405   26365   25780  26407  26324  26232   \n",
       "5       26338  ...   25941  26640   26595   25929  26642  26573  26482   \n",
       "...       ...  ...     ...    ...     ...     ...    ...    ...    ...   \n",
       "96        198  ...     187    201     201     199    201    199    200   \n",
       "97        109  ...     105    110     110     107    110    108    109   \n",
       "98        191  ...     181    193     192     181    193    189    190   \n",
       "99        318  ...     287    321     319     275    321    304    321   \n",
       "11111   17538  ...   15858  17994   17417   13706  18016  17714  18012   \n",
       "\n",
       "       P_ISEV  P_SAFE  P_USER  \n",
       "P_AGE                          \n",
       "1       39382   38195   39034  \n",
       "2       25340   24574   25071  \n",
       "3       25502   24633   25232  \n",
       "4       26387   25323   26038  \n",
       "5       26624   25467   26298  \n",
       "...       ...     ...     ...  \n",
       "96        201     192     197  \n",
       "97        110     101     109  \n",
       "98        190     162     184  \n",
       "99        321     271     318  \n",
       "11111   18012   17970    3215  \n",
       "\n",
       "[100 rows x 21 columns]"
      ]
     },
     "execution_count": 27,
     "metadata": {},
     "output_type": "execute_result"
    }
   ],
   "source": [
    "df.groupby('P_AGE').count()"
   ]
  },
  {
   "cell_type": "markdown",
   "id": "58wwBm1e5gdq",
   "metadata": {
    "id": "58wwBm1e5gdq"
   },
   "source": [
    "Eliminamos los datos relativos al \"11111\"."
   ]
  },
  {
   "cell_type": "code",
   "execution_count": 28,
   "id": "E_sEz2CeEKwj",
   "metadata": {
    "id": "E_sEz2CeEKwj"
   },
   "outputs": [],
   "source": [
    "df = df.drop(df[df['P_AGE'] == 11111].index)"
   ]
  },
  {
   "cell_type": "code",
   "execution_count": 29,
   "id": "e0stVToDEdq-",
   "metadata": {
    "colab": {
     "base_uri": "https://localhost:8080/"
    },
    "id": "e0stVToDEdq-",
    "outputId": "d34285ef-9fe6-4a46-9e23-4f7b38f32229"
   },
   "outputs": [
    {
     "data": {
      "text/plain": [
       "array([41, 19, 20, 46,  5, 28, 21, 34, 61, 56, 22, 30, 49, 32, 31, 68,  8,\n",
       "       45, 17, 33, 82, 39, 37, 55, 38, 43, 35, 23, 25, 65, 44, 36, 70, 50,\n",
       "       40, 27, 26, 15, 53, 16, 13, 14, 12, 18, 77, 86, 42, 24, 47, 62,  6,\n",
       "       57, 83, 74, 67, 51, 29,  1,  2, 54, 71, 10, 79, 63, 58, 48, 60,  7,\n",
       "       64, 75, 52, 85, 93, 92, 69, 72, 11, 59,  9, 66, 76, 73,  4, 78, 80,\n",
       "       84,  3, 81, 89, 87, 88, 90, 91, 95, 97, 94, 99, 98, 96],\n",
       "      dtype=int64)"
      ]
     },
     "execution_count": 29,
     "metadata": {},
     "output_type": "execute_result"
    }
   ],
   "source": [
    "df['P_AGE'].unique()"
   ]
  },
  {
   "cell_type": "code",
   "execution_count": 30,
   "id": "41fce68c",
   "metadata": {
    "id": "41fce68c"
   },
   "outputs": [],
   "source": [
    "#variables = df.columns"
   ]
  },
  {
   "cell_type": "code",
   "execution_count": 31,
   "id": "273cd1fa",
   "metadata": {
    "colab": {
     "base_uri": "https://localhost:8080/"
    },
    "id": "273cd1fa",
    "outputId": "6249a04a-dfc2-4074-d3ff-a77f5bd98bcd"
   },
   "outputs": [
    {
     "name": "stdout",
     "output_type": "stream",
     "text": [
      "['C_YEAR', 'C_MNTH', 'C_WDAY', 'C_SEV', 'C_CONF', 'C_RCFG', 'C_WTHR', 'C_RSUR', 'C_RALN', 'C_TRAF', 'V_ID', 'V_TYPE', 'V_YEAR', 'P_ID', 'P_SEX', 'P_PSN', 'P_ISEV', 'P_SAFE', 'P_USER'] | 19\n"
     ]
    }
   ],
   "source": [
    "var_cat = list(variables)\n",
    "for var in var_cont:\n",
    "    var_cat.remove(var)\n",
    "print(var_cat, '|', len(var_cat))"
   ]
  },
  {
   "cell_type": "code",
   "execution_count": 32,
   "id": "179fa090",
   "metadata": {
    "id": "179fa090"
   },
   "outputs": [],
   "source": [
    "def codificar_categoricas(df, lista):\n",
    "    listN = ['N', 'NN', 'NNNN']\n",
    "    listQ = ['Q', 'QQ'] #otra categoría más\n",
    "    #listU = ['U', 'UU', 'UUUU'] #datos faltantes\n",
    "    #listX = ['X', 'XX', 'XXXX'] #datos faltantes\n",
    "    for variable in lista:\n",
    "        for i in listN:\n",
    "            df[variable] = df[variable].replace([i], 11111)\n",
    "        for i in listQ:\n",
    "            df[variable] = df[variable].replace([i], 33333)\n",
    "        # for i in listU:\n",
    "            # df[variable] = df[variable].replace([i], 55555)\n",
    "        # for i in listX:\n",
    "            # df[variable] = df[variable].replace([i], 55555)\n",
    "        # df[variable] = df[variable].apply(int)\n",
    "        \n",
    "        df[variable] = df[variable].fillna(55555)\n",
    "        df[variable] = df[variable].apply(int)"
   ]
  },
  {
   "cell_type": "code",
   "execution_count": 33,
   "id": "Wh5jdz0tId07",
   "metadata": {
    "id": "Wh5jdz0tId07"
   },
   "outputs": [],
   "source": [
    "#ponemos los missings por la moda, no cambio la que estaba hecha por si preferimos esa"
   ]
  },
  {
   "cell_type": "code",
   "execution_count": 34,
   "id": "klvJpaB2ILv6",
   "metadata": {
    "id": "klvJpaB2ILv6"
   },
   "outputs": [],
   "source": [
    "from sklearn.impute import SimpleImputer\n",
    "sim_imp = SimpleImputer(strategy = 'most_frequent')\n",
    "def codificar_categoricas(df, lista):\n",
    "    listN = ['N', 'NN', 'NNNN']\n",
    "    listQ = ['Q', 'QQ'] #otra categoría más\n",
    "    #listU = ['U', 'UU', 'UUUU'] #datos faltantes\n",
    "    #listX = ['X', 'XX', 'XXXX'] #datos faltantes\n",
    "    for variable in lista:\n",
    "        for i in listN:\n",
    "            df[variable] = df[variable].replace([i], 11111)\n",
    "        for i in listQ:\n",
    "            df[variable] = df[variable].replace([i], 33333)\n",
    "        # for i in listU:\n",
    "            # df[variable] = df[variable].replace([i], 55555)\n",
    "        # for i in listX:\n",
    "            # df[variable] = df[variable].replace([i], 55555)\n",
    "        # df[variable] = df[variable].apply(int)\n",
    "        \n",
    "        df[variable]=sim_imp.fit_transform(df[variable].values.reshape(-1,1))\n",
    "        df[variable] = df[variable].apply(int)"
   ]
  },
  {
   "cell_type": "code",
   "execution_count": 35,
   "id": "11901ea4",
   "metadata": {
    "id": "11901ea4"
   },
   "outputs": [],
   "source": [
    "codificar_categoricas(df, var_cat)"
   ]
  },
  {
   "cell_type": "markdown",
   "id": "31WDQWdt8tbm",
   "metadata": {
    "id": "31WDQWdt8tbm"
   },
   "source": [
    "Creamos la variables antigüedad del vehículo haciendo la diferencia entre C_YEAR y V_YEAR. \n",
    "Después eliminamos las variables anteriores C_YEAR y V_YEAR. "
   ]
  },
  {
   "cell_type": "code",
   "execution_count": 36,
   "id": "ab580939",
   "metadata": {
    "id": "ab580939"
   },
   "outputs": [],
   "source": [
    "def V_ANT(df):\n",
    "    df['V_ANT'] = df['C_YEAR'] - df['V_YEAR']\n",
    "    for i in df['V_ANT']:\n",
    "        if i < 0:\n",
    "            df['V_ANT'] = df['V_ANT'].replace([i], 11111)"
   ]
  },
  {
   "cell_type": "code",
   "execution_count": 37,
   "id": "21Gq0tE_JV4Q",
   "metadata": {
    "id": "21Gq0tE_JV4Q"
   },
   "outputs": [],
   "source": [
    "V_ANT(df)"
   ]
  },
  {
   "cell_type": "code",
   "execution_count": 38,
   "id": "v-3s59XrJ9S5",
   "metadata": {
    "colab": {
     "base_uri": "https://localhost:8080/"
    },
    "id": "v-3s59XrJ9S5",
    "outputId": "a3960ba6-a11d-48e5-84df-640689213f03"
   },
   "outputs": [
    {
     "data": {
      "text/plain": [
       "array([    9,    12,    13, 11111,    15,     8,     7,     2,     6,\n",
       "          14,    11,     5,     4,     1,    10,     3,    16,     0,\n",
       "          34,    22,    21,    31,    18,    20,    23,    27,    17,\n",
       "          24,    26,    25,    19,    32,    29,    28,    37,    30,\n",
       "          33,    54,    36,    39,    49,    35,    40,    44,    41,\n",
       "          96,    90,    50,    76,    38,    85,    91,    46,    93,\n",
       "          60,    74,    51,    61,    92,    47,    95,    82,    87,\n",
       "          55,    43,    69,    68,    48,    53,    52,    42,    45,\n",
       "          56,    98,    62,    94,    64,    73,    58,    67,    79,\n",
       "          66,    80,    84,    70,    71,    83,    86,    75,    59,\n",
       "          65,    63,    77,    72,    81,    57,   100,    99,   101,\n",
       "          78,    89,    97,    88,   103], dtype=int64)"
      ]
     },
     "execution_count": 38,
     "metadata": {},
     "output_type": "execute_result"
    }
   ],
   "source": [
    "df['V_ANT'].unique()"
   ]
  },
  {
   "cell_type": "code",
   "execution_count": 39,
   "id": "9ansy_YZI-bq",
   "metadata": {
    "id": "9ansy_YZI-bq"
   },
   "outputs": [],
   "source": [
    "df = df.drop('V_YEAR', axis = 1)\n",
    "df = df.drop('C_YEAR', axis = 1)"
   ]
  },
  {
   "cell_type": "code",
   "execution_count": 40,
   "id": "2STtB-5eJBZz",
   "metadata": {
    "id": "2STtB-5eJBZz"
   },
   "outputs": [],
   "source": [
    "# Ahora las N y las Q toman los valores 11111 y 33333. Cuando las metamos al label encoder se codificarán."
   ]
  },
  {
   "cell_type": "code",
   "execution_count": 41,
   "id": "e1f-lLvfI6ge",
   "metadata": {
    "colab": {
     "base_uri": "https://localhost:8080/",
     "height": 519
    },
    "id": "e1f-lLvfI6ge",
    "outputId": "5d6d3015-9933-4012-a5f3-c0707af7aa28"
   },
   "outputs": [
    {
     "data": {
      "text/html": [
       "<div>\n",
       "<style scoped>\n",
       "    .dataframe tbody tr th:only-of-type {\n",
       "        vertical-align: middle;\n",
       "    }\n",
       "\n",
       "    .dataframe tbody tr th {\n",
       "        vertical-align: top;\n",
       "    }\n",
       "\n",
       "    .dataframe thead th {\n",
       "        text-align: right;\n",
       "    }\n",
       "</style>\n",
       "<table border=\"1\" class=\"dataframe\">\n",
       "  <thead>\n",
       "    <tr style=\"text-align: right;\">\n",
       "      <th></th>\n",
       "      <th>C_MNTH</th>\n",
       "      <th>C_WDAY</th>\n",
       "      <th>C_HOUR</th>\n",
       "      <th>C_SEV</th>\n",
       "      <th>C_VEHS</th>\n",
       "      <th>C_CONF</th>\n",
       "      <th>C_RCFG</th>\n",
       "      <th>C_WTHR</th>\n",
       "      <th>C_RSUR</th>\n",
       "      <th>C_RALN</th>\n",
       "      <th>C_TRAF</th>\n",
       "      <th>V_ID</th>\n",
       "      <th>V_TYPE</th>\n",
       "      <th>P_ID</th>\n",
       "      <th>P_SEX</th>\n",
       "      <th>P_AGE</th>\n",
       "      <th>P_PSN</th>\n",
       "      <th>P_ISEV</th>\n",
       "      <th>P_SAFE</th>\n",
       "      <th>P_USER</th>\n",
       "    </tr>\n",
       "    <tr>\n",
       "      <th>V_ANT</th>\n",
       "      <th></th>\n",
       "      <th></th>\n",
       "      <th></th>\n",
       "      <th></th>\n",
       "      <th></th>\n",
       "      <th></th>\n",
       "      <th></th>\n",
       "      <th></th>\n",
       "      <th></th>\n",
       "      <th></th>\n",
       "      <th></th>\n",
       "      <th></th>\n",
       "      <th></th>\n",
       "      <th></th>\n",
       "      <th></th>\n",
       "      <th></th>\n",
       "      <th></th>\n",
       "      <th></th>\n",
       "      <th></th>\n",
       "      <th></th>\n",
       "    </tr>\n",
       "  </thead>\n",
       "  <tbody>\n",
       "    <tr>\n",
       "      <th>0</th>\n",
       "      <td>324413</td>\n",
       "      <td>324413</td>\n",
       "      <td>324413</td>\n",
       "      <td>324413</td>\n",
       "      <td>324413</td>\n",
       "      <td>324413</td>\n",
       "      <td>324413</td>\n",
       "      <td>324413</td>\n",
       "      <td>324413</td>\n",
       "      <td>324413</td>\n",
       "      <td>324413</td>\n",
       "      <td>324413</td>\n",
       "      <td>324413</td>\n",
       "      <td>324413</td>\n",
       "      <td>324413</td>\n",
       "      <td>324413</td>\n",
       "      <td>324413</td>\n",
       "      <td>324413</td>\n",
       "      <td>324413</td>\n",
       "      <td>324413</td>\n",
       "    </tr>\n",
       "    <tr>\n",
       "      <th>1</th>\n",
       "      <td>414312</td>\n",
       "      <td>414312</td>\n",
       "      <td>414312</td>\n",
       "      <td>414312</td>\n",
       "      <td>414312</td>\n",
       "      <td>414312</td>\n",
       "      <td>414312</td>\n",
       "      <td>414312</td>\n",
       "      <td>414312</td>\n",
       "      <td>414312</td>\n",
       "      <td>414312</td>\n",
       "      <td>414312</td>\n",
       "      <td>414312</td>\n",
       "      <td>414312</td>\n",
       "      <td>414312</td>\n",
       "      <td>414312</td>\n",
       "      <td>414312</td>\n",
       "      <td>414312</td>\n",
       "      <td>414312</td>\n",
       "      <td>414312</td>\n",
       "    </tr>\n",
       "    <tr>\n",
       "      <th>2</th>\n",
       "      <td>401543</td>\n",
       "      <td>401543</td>\n",
       "      <td>401543</td>\n",
       "      <td>401543</td>\n",
       "      <td>401543</td>\n",
       "      <td>401543</td>\n",
       "      <td>401543</td>\n",
       "      <td>401543</td>\n",
       "      <td>401543</td>\n",
       "      <td>401543</td>\n",
       "      <td>401543</td>\n",
       "      <td>401543</td>\n",
       "      <td>401543</td>\n",
       "      <td>401543</td>\n",
       "      <td>401543</td>\n",
       "      <td>401543</td>\n",
       "      <td>401543</td>\n",
       "      <td>401543</td>\n",
       "      <td>401543</td>\n",
       "      <td>401543</td>\n",
       "    </tr>\n",
       "    <tr>\n",
       "      <th>3</th>\n",
       "      <td>383303</td>\n",
       "      <td>383303</td>\n",
       "      <td>383303</td>\n",
       "      <td>383303</td>\n",
       "      <td>383303</td>\n",
       "      <td>383303</td>\n",
       "      <td>383303</td>\n",
       "      <td>383303</td>\n",
       "      <td>383303</td>\n",
       "      <td>383303</td>\n",
       "      <td>383303</td>\n",
       "      <td>383303</td>\n",
       "      <td>383303</td>\n",
       "      <td>383303</td>\n",
       "      <td>383303</td>\n",
       "      <td>383303</td>\n",
       "      <td>383303</td>\n",
       "      <td>383303</td>\n",
       "      <td>383303</td>\n",
       "      <td>383303</td>\n",
       "    </tr>\n",
       "    <tr>\n",
       "      <th>4</th>\n",
       "      <td>386340</td>\n",
       "      <td>386340</td>\n",
       "      <td>386340</td>\n",
       "      <td>386340</td>\n",
       "      <td>386340</td>\n",
       "      <td>386340</td>\n",
       "      <td>386340</td>\n",
       "      <td>386340</td>\n",
       "      <td>386340</td>\n",
       "      <td>386340</td>\n",
       "      <td>386340</td>\n",
       "      <td>386340</td>\n",
       "      <td>386340</td>\n",
       "      <td>386340</td>\n",
       "      <td>386340</td>\n",
       "      <td>386340</td>\n",
       "      <td>386340</td>\n",
       "      <td>386340</td>\n",
       "      <td>386340</td>\n",
       "      <td>386340</td>\n",
       "    </tr>\n",
       "    <tr>\n",
       "      <th>...</th>\n",
       "      <td>...</td>\n",
       "      <td>...</td>\n",
       "      <td>...</td>\n",
       "      <td>...</td>\n",
       "      <td>...</td>\n",
       "      <td>...</td>\n",
       "      <td>...</td>\n",
       "      <td>...</td>\n",
       "      <td>...</td>\n",
       "      <td>...</td>\n",
       "      <td>...</td>\n",
       "      <td>...</td>\n",
       "      <td>...</td>\n",
       "      <td>...</td>\n",
       "      <td>...</td>\n",
       "      <td>...</td>\n",
       "      <td>...</td>\n",
       "      <td>...</td>\n",
       "      <td>...</td>\n",
       "      <td>...</td>\n",
       "    </tr>\n",
       "    <tr>\n",
       "      <th>99</th>\n",
       "      <td>21</td>\n",
       "      <td>21</td>\n",
       "      <td>21</td>\n",
       "      <td>21</td>\n",
       "      <td>21</td>\n",
       "      <td>21</td>\n",
       "      <td>21</td>\n",
       "      <td>21</td>\n",
       "      <td>21</td>\n",
       "      <td>21</td>\n",
       "      <td>21</td>\n",
       "      <td>21</td>\n",
       "      <td>21</td>\n",
       "      <td>21</td>\n",
       "      <td>21</td>\n",
       "      <td>21</td>\n",
       "      <td>21</td>\n",
       "      <td>21</td>\n",
       "      <td>21</td>\n",
       "      <td>21</td>\n",
       "    </tr>\n",
       "    <tr>\n",
       "      <th>100</th>\n",
       "      <td>3</td>\n",
       "      <td>3</td>\n",
       "      <td>3</td>\n",
       "      <td>3</td>\n",
       "      <td>3</td>\n",
       "      <td>3</td>\n",
       "      <td>3</td>\n",
       "      <td>3</td>\n",
       "      <td>3</td>\n",
       "      <td>3</td>\n",
       "      <td>3</td>\n",
       "      <td>3</td>\n",
       "      <td>3</td>\n",
       "      <td>3</td>\n",
       "      <td>3</td>\n",
       "      <td>3</td>\n",
       "      <td>3</td>\n",
       "      <td>3</td>\n",
       "      <td>3</td>\n",
       "      <td>3</td>\n",
       "    </tr>\n",
       "    <tr>\n",
       "      <th>101</th>\n",
       "      <td>3</td>\n",
       "      <td>3</td>\n",
       "      <td>3</td>\n",
       "      <td>3</td>\n",
       "      <td>3</td>\n",
       "      <td>3</td>\n",
       "      <td>3</td>\n",
       "      <td>3</td>\n",
       "      <td>3</td>\n",
       "      <td>3</td>\n",
       "      <td>3</td>\n",
       "      <td>3</td>\n",
       "      <td>3</td>\n",
       "      <td>3</td>\n",
       "      <td>3</td>\n",
       "      <td>3</td>\n",
       "      <td>3</td>\n",
       "      <td>3</td>\n",
       "      <td>3</td>\n",
       "      <td>3</td>\n",
       "    </tr>\n",
       "    <tr>\n",
       "      <th>103</th>\n",
       "      <td>2</td>\n",
       "      <td>2</td>\n",
       "      <td>2</td>\n",
       "      <td>2</td>\n",
       "      <td>2</td>\n",
       "      <td>2</td>\n",
       "      <td>2</td>\n",
       "      <td>2</td>\n",
       "      <td>2</td>\n",
       "      <td>2</td>\n",
       "      <td>2</td>\n",
       "      <td>2</td>\n",
       "      <td>2</td>\n",
       "      <td>2</td>\n",
       "      <td>2</td>\n",
       "      <td>2</td>\n",
       "      <td>2</td>\n",
       "      <td>2</td>\n",
       "      <td>2</td>\n",
       "      <td>2</td>\n",
       "    </tr>\n",
       "    <tr>\n",
       "      <th>11111</th>\n",
       "      <td>314910</td>\n",
       "      <td>314910</td>\n",
       "      <td>314910</td>\n",
       "      <td>314910</td>\n",
       "      <td>314910</td>\n",
       "      <td>314910</td>\n",
       "      <td>314910</td>\n",
       "      <td>314910</td>\n",
       "      <td>314910</td>\n",
       "      <td>314910</td>\n",
       "      <td>314910</td>\n",
       "      <td>314910</td>\n",
       "      <td>314910</td>\n",
       "      <td>314910</td>\n",
       "      <td>314910</td>\n",
       "      <td>314910</td>\n",
       "      <td>314910</td>\n",
       "      <td>314910</td>\n",
       "      <td>314910</td>\n",
       "      <td>314910</td>\n",
       "    </tr>\n",
       "  </tbody>\n",
       "</table>\n",
       "<p>104 rows × 20 columns</p>\n",
       "</div>"
      ],
      "text/plain": [
       "       C_MNTH  C_WDAY  C_HOUR   C_SEV  C_VEHS  C_CONF  C_RCFG  C_WTHR  C_RSUR  \\\n",
       "V_ANT                                                                           \n",
       "0      324413  324413  324413  324413  324413  324413  324413  324413  324413   \n",
       "1      414312  414312  414312  414312  414312  414312  414312  414312  414312   \n",
       "2      401543  401543  401543  401543  401543  401543  401543  401543  401543   \n",
       "3      383303  383303  383303  383303  383303  383303  383303  383303  383303   \n",
       "4      386340  386340  386340  386340  386340  386340  386340  386340  386340   \n",
       "...       ...     ...     ...     ...     ...     ...     ...     ...     ...   \n",
       "99         21      21      21      21      21      21      21      21      21   \n",
       "100         3       3       3       3       3       3       3       3       3   \n",
       "101         3       3       3       3       3       3       3       3       3   \n",
       "103         2       2       2       2       2       2       2       2       2   \n",
       "11111  314910  314910  314910  314910  314910  314910  314910  314910  314910   \n",
       "\n",
       "       C_RALN  C_TRAF    V_ID  V_TYPE    P_ID   P_SEX   P_AGE   P_PSN  P_ISEV  \\\n",
       "V_ANT                                                                           \n",
       "0      324413  324413  324413  324413  324413  324413  324413  324413  324413   \n",
       "1      414312  414312  414312  414312  414312  414312  414312  414312  414312   \n",
       "2      401543  401543  401543  401543  401543  401543  401543  401543  401543   \n",
       "3      383303  383303  383303  383303  383303  383303  383303  383303  383303   \n",
       "4      386340  386340  386340  386340  386340  386340  386340  386340  386340   \n",
       "...       ...     ...     ...     ...     ...     ...     ...     ...     ...   \n",
       "99         21      21      21      21      21      21      21      21      21   \n",
       "100         3       3       3       3       3       3       3       3       3   \n",
       "101         3       3       3       3       3       3       3       3       3   \n",
       "103         2       2       2       2       2       2       2       2       2   \n",
       "11111  314910  314910  314910  314910  314910  314910  314910  314910  314910   \n",
       "\n",
       "       P_SAFE  P_USER  \n",
       "V_ANT                  \n",
       "0      324413  324413  \n",
       "1      414312  414312  \n",
       "2      401543  401543  \n",
       "3      383303  383303  \n",
       "4      386340  386340  \n",
       "...       ...     ...  \n",
       "99         21      21  \n",
       "100         3       3  \n",
       "101         3       3  \n",
       "103         2       2  \n",
       "11111  314910  314910  \n",
       "\n",
       "[104 rows x 20 columns]"
      ]
     },
     "execution_count": 41,
     "metadata": {},
     "output_type": "execute_result"
    }
   ],
   "source": [
    "df.groupby('V_ANT').count()"
   ]
  },
  {
   "cell_type": "code",
   "execution_count": 42,
   "id": "qJLdqvRrKmTU",
   "metadata": {
    "id": "qJLdqvRrKmTU"
   },
   "outputs": [],
   "source": [
    "# Hay muchas con valor dummy o other. Parece que las N son para los peatones, reemplazamos este valor por 0."
   ]
  },
  {
   "cell_type": "code",
   "execution_count": 43,
   "id": "gya5oIDKLcoj",
   "metadata": {
    "id": "gya5oIDKLcoj"
   },
   "outputs": [],
   "source": [
    "df['V_ANT'] = df['V_ANT'].replace([11111], 0)"
   ]
  },
  {
   "cell_type": "code",
   "execution_count": 44,
   "id": "jLFP6tFBLp0p",
   "metadata": {
    "colab": {
     "base_uri": "https://localhost:8080/"
    },
    "id": "jLFP6tFBLp0p",
    "outputId": "0533abfd-19ed-43d3-ad5e-7c360057d5dc"
   },
   "outputs": [
    {
     "data": {
      "text/plain": [
       "array([  9,  12,  13,   0,  15,   8,   7,   2,   6,  14,  11,   5,   4,\n",
       "         1,  10,   3,  16,  34,  22,  21,  31,  18,  20,  23,  27,  17,\n",
       "        24,  26,  25,  19,  32,  29,  28,  37,  30,  33,  54,  36,  39,\n",
       "        49,  35,  40,  44,  41,  96,  90,  50,  76,  38,  85,  91,  46,\n",
       "        93,  60,  74,  51,  61,  92,  47,  95,  82,  87,  55,  43,  69,\n",
       "        68,  48,  53,  52,  42,  45,  56,  98,  62,  94,  64,  73,  58,\n",
       "        67,  79,  66,  80,  84,  70,  71,  83,  86,  75,  59,  65,  63,\n",
       "        77,  72,  81,  57, 100,  99, 101,  78,  89,  97,  88, 103],\n",
       "      dtype=int64)"
      ]
     },
     "execution_count": 44,
     "metadata": {},
     "output_type": "execute_result"
    }
   ],
   "source": [
    "df['V_ANT'].unique()"
   ]
  },
  {
   "cell_type": "code",
   "execution_count": 45,
   "id": "0d2bfea3",
   "metadata": {
    "colab": {
     "base_uri": "https://localhost:8080/",
     "height": 708
    },
    "id": "0d2bfea3",
    "outputId": "659d4d6d-fd84-444c-bfd3-44bb21f67a75"
   },
   "outputs": [
    {
     "data": {
      "text/html": [
       "<div>\n",
       "<style scoped>\n",
       "    .dataframe tbody tr th:only-of-type {\n",
       "        vertical-align: middle;\n",
       "    }\n",
       "\n",
       "    .dataframe tbody tr th {\n",
       "        vertical-align: top;\n",
       "    }\n",
       "\n",
       "    .dataframe thead th {\n",
       "        text-align: right;\n",
       "    }\n",
       "</style>\n",
       "<table border=\"1\" class=\"dataframe\">\n",
       "  <thead>\n",
       "    <tr style=\"text-align: right;\">\n",
       "      <th></th>\n",
       "      <th>NA</th>\n",
       "      <th>% NA</th>\n",
       "    </tr>\n",
       "  </thead>\n",
       "  <tbody>\n",
       "    <tr>\n",
       "      <th>C_MNTH</th>\n",
       "      <td>0</td>\n",
       "      <td>0.0</td>\n",
       "    </tr>\n",
       "    <tr>\n",
       "      <th>V_ID</th>\n",
       "      <td>0</td>\n",
       "      <td>0.0</td>\n",
       "    </tr>\n",
       "    <tr>\n",
       "      <th>P_USER</th>\n",
       "      <td>0</td>\n",
       "      <td>0.0</td>\n",
       "    </tr>\n",
       "    <tr>\n",
       "      <th>P_SAFE</th>\n",
       "      <td>0</td>\n",
       "      <td>0.0</td>\n",
       "    </tr>\n",
       "    <tr>\n",
       "      <th>P_ISEV</th>\n",
       "      <td>0</td>\n",
       "      <td>0.0</td>\n",
       "    </tr>\n",
       "    <tr>\n",
       "      <th>P_PSN</th>\n",
       "      <td>0</td>\n",
       "      <td>0.0</td>\n",
       "    </tr>\n",
       "    <tr>\n",
       "      <th>P_AGE</th>\n",
       "      <td>0</td>\n",
       "      <td>0.0</td>\n",
       "    </tr>\n",
       "    <tr>\n",
       "      <th>P_SEX</th>\n",
       "      <td>0</td>\n",
       "      <td>0.0</td>\n",
       "    </tr>\n",
       "    <tr>\n",
       "      <th>P_ID</th>\n",
       "      <td>0</td>\n",
       "      <td>0.0</td>\n",
       "    </tr>\n",
       "    <tr>\n",
       "      <th>V_TYPE</th>\n",
       "      <td>0</td>\n",
       "      <td>0.0</td>\n",
       "    </tr>\n",
       "    <tr>\n",
       "      <th>C_TRAF</th>\n",
       "      <td>0</td>\n",
       "      <td>0.0</td>\n",
       "    </tr>\n",
       "    <tr>\n",
       "      <th>C_WDAY</th>\n",
       "      <td>0</td>\n",
       "      <td>0.0</td>\n",
       "    </tr>\n",
       "    <tr>\n",
       "      <th>C_RALN</th>\n",
       "      <td>0</td>\n",
       "      <td>0.0</td>\n",
       "    </tr>\n",
       "    <tr>\n",
       "      <th>C_RSUR</th>\n",
       "      <td>0</td>\n",
       "      <td>0.0</td>\n",
       "    </tr>\n",
       "    <tr>\n",
       "      <th>C_WTHR</th>\n",
       "      <td>0</td>\n",
       "      <td>0.0</td>\n",
       "    </tr>\n",
       "    <tr>\n",
       "      <th>C_RCFG</th>\n",
       "      <td>0</td>\n",
       "      <td>0.0</td>\n",
       "    </tr>\n",
       "    <tr>\n",
       "      <th>C_CONF</th>\n",
       "      <td>0</td>\n",
       "      <td>0.0</td>\n",
       "    </tr>\n",
       "    <tr>\n",
       "      <th>C_VEHS</th>\n",
       "      <td>0</td>\n",
       "      <td>0.0</td>\n",
       "    </tr>\n",
       "    <tr>\n",
       "      <th>C_SEV</th>\n",
       "      <td>0</td>\n",
       "      <td>0.0</td>\n",
       "    </tr>\n",
       "    <tr>\n",
       "      <th>C_HOUR</th>\n",
       "      <td>0</td>\n",
       "      <td>0.0</td>\n",
       "    </tr>\n",
       "    <tr>\n",
       "      <th>V_ANT</th>\n",
       "      <td>0</td>\n",
       "      <td>0.0</td>\n",
       "    </tr>\n",
       "  </tbody>\n",
       "</table>\n",
       "</div>"
      ],
      "text/plain": [
       "        NA  % NA\n",
       "C_MNTH   0   0.0\n",
       "V_ID     0   0.0\n",
       "P_USER   0   0.0\n",
       "P_SAFE   0   0.0\n",
       "P_ISEV   0   0.0\n",
       "P_PSN    0   0.0\n",
       "P_AGE    0   0.0\n",
       "P_SEX    0   0.0\n",
       "P_ID     0   0.0\n",
       "V_TYPE   0   0.0\n",
       "C_TRAF   0   0.0\n",
       "C_WDAY   0   0.0\n",
       "C_RALN   0   0.0\n",
       "C_RSUR   0   0.0\n",
       "C_WTHR   0   0.0\n",
       "C_RCFG   0   0.0\n",
       "C_CONF   0   0.0\n",
       "C_VEHS   0   0.0\n",
       "C_SEV    0   0.0\n",
       "C_HOUR   0   0.0\n",
       "V_ANT    0   0.0"
      ]
     },
     "execution_count": 45,
     "metadata": {},
     "output_type": "execute_result"
    }
   ],
   "source": [
    "NA(df)"
   ]
  },
  {
   "cell_type": "markdown",
   "id": "hz7WVNqb98QN",
   "metadata": {
    "id": "hz7WVNqb98QN"
   },
   "source": [
    "Observamos que ya no aparece ningún dato missing."
   ]
  },
  {
   "cell_type": "markdown",
   "id": "jrkXJJMk-JWX",
   "metadata": {
    "id": "jrkXJJMk-JWX"
   },
   "source": [
    "Actualizamos las listas de \"var_cont\" y \"var_cat\"."
   ]
  },
  {
   "cell_type": "code",
   "execution_count": 46,
   "id": "2acf7062",
   "metadata": {
    "colab": {
     "base_uri": "https://localhost:8080/"
    },
    "id": "2acf7062",
    "outputId": "fe74e710-434e-4e9a-edb7-54be868b83b4"
   },
   "outputs": [
    {
     "data": {
      "text/plain": [
       "['C_HOUR', 'C_VEHS', 'P_AGE', 'V_ANT']"
      ]
     },
     "execution_count": 46,
     "metadata": {},
     "output_type": "execute_result"
    }
   ],
   "source": [
    "var_cont = ['C_HOUR', 'C_VEHS', 'P_AGE', 'V_ANT'] #Ya todas preparadas\n",
    "var_cont"
   ]
  },
  {
   "cell_type": "code",
   "execution_count": 47,
   "id": "b30dbe14",
   "metadata": {
    "colab": {
     "base_uri": "https://localhost:8080/"
    },
    "id": "b30dbe14",
    "outputId": "cfecb052-4893-48dd-8e9a-5838a334194d"
   },
   "outputs": [
    {
     "name": "stdout",
     "output_type": "stream",
     "text": [
      "['C_MNTH', 'C_WDAY', 'C_SEV', 'C_CONF', 'C_RCFG', 'C_WTHR', 'C_RSUR', 'C_RALN', 'C_TRAF', 'V_ID', 'V_TYPE', 'P_ID', 'P_SEX', 'P_PSN', 'P_ISEV', 'P_SAFE', 'P_USER'] | 17\n"
     ]
    }
   ],
   "source": [
    "variables = list(df.columns)\n",
    "var_cat = list(variables)\n",
    "for var in var_cont:\n",
    "    var_cat.remove(var)\n",
    "print(var_cat, '|', len(var_cat))\n"
   ]
  },
  {
   "cell_type": "code",
   "execution_count": 48,
   "id": "7b9a9ae1",
   "metadata": {
    "colab": {
     "base_uri": "https://localhost:8080/"
    },
    "id": "7b9a9ae1",
    "outputId": "4d7fd0ba-6490-4fb8-cb33-3a6aa3a2608f",
    "scrolled": true
   },
   "outputs": [
    {
     "name": "stdout",
     "output_type": "stream",
     "text": [
      "--------------------------------------------\n",
      "Variable:  C_MNTH | Type:  int64\n",
      "8     545543\n",
      "7     535976\n",
      "12    524131\n",
      "6     518444\n",
      "10    514209\n",
      "9     511215\n",
      "1     498580\n",
      "11    497592\n",
      "5     466907\n",
      "2     422022\n",
      "3     416381\n",
      "4     391389\n",
      "Name: C_MNTH, dtype: int64\n",
      "--------------------------------------------\n",
      "--------------------------------------------\n",
      "Variable:  C_WDAY | Type:  int64\n",
      "5    998175\n",
      "4    867045\n",
      "6    864217\n",
      "3    823020\n",
      "2    814021\n",
      "1    773552\n",
      "7    702359\n",
      "Name: C_WDAY, dtype: int64\n",
      "--------------------------------------------\n",
      "--------------------------------------------\n",
      "Variable:  C_HOUR | Type:  int64\n",
      "16    518276\n",
      "17    499149\n",
      "15    491563\n",
      "14    455421\n",
      "18    375057\n",
      "12    367204\n",
      "13    366357\n",
      "8     302036\n",
      "11    301151\n",
      "19    280812\n",
      "10    248301\n",
      "9     227044\n",
      "20    216563\n",
      "7     207505\n",
      "21    203605\n",
      "22    164224\n",
      "23    127066\n",
      "6     105810\n",
      "0      87836\n",
      "2      76846\n",
      "1      72779\n",
      "3      63566\n",
      "5      44713\n",
      "4      39505\n",
      "Name: C_HOUR, dtype: int64\n",
      "--------------------------------------------\n",
      "--------------------------------------------\n",
      "Variable:  C_SEV | Type:  int64\n",
      "2    5744075\n",
      "1      98314\n",
      "Name: C_SEV, dtype: int64\n",
      "--------------------------------------------\n",
      "--------------------------------------------\n",
      "Variable:  C_VEHS | Type:  int64\n",
      "2     3604740\n",
      "1     1246477\n",
      "3      734238\n",
      "4      181522\n",
      "5       43556\n",
      "6       14170\n",
      "7        5540\n",
      "8        2640\n",
      "9        1758\n",
      "10       1178\n",
      "11        851\n",
      "12        626\n",
      "14        547\n",
      "15        447\n",
      "13        414\n",
      "16        280\n",
      "20        265\n",
      "36        254\n",
      "77        229\n",
      "18        179\n",
      "35        175\n",
      "17        173\n",
      "21        140\n",
      "22        134\n",
      "19        125\n",
      "72        123\n",
      "26        115\n",
      "24        110\n",
      "38        108\n",
      "44        102\n",
      "71         92\n",
      "54         86\n",
      "27         86\n",
      "51         80\n",
      "25         67\n",
      "28         63\n",
      "58         61\n",
      "46         59\n",
      "57         58\n",
      "56         58\n",
      "41         51\n",
      "39         48\n",
      "43         44\n",
      "32         42\n",
      "37         41\n",
      "40         41\n",
      "33         39\n",
      "34         36\n",
      "30         34\n",
      "31         32\n",
      "29         31\n",
      "23         24\n",
      "Name: C_VEHS, dtype: int64\n",
      "--------------------------------------------\n",
      "--------------------------------------------\n",
      "Variable:  C_CONF | Type:  int64\n",
      "21       1943825\n",
      "35        866587\n",
      "6         515398\n",
      "36        431298\n",
      "33        421816\n",
      "33333     283783\n",
      "4         213758\n",
      "22        196315\n",
      "31        194832\n",
      "2         185951\n",
      "3         164946\n",
      "1          92411\n",
      "41         76474\n",
      "23         69917\n",
      "34         62180\n",
      "24         51972\n",
      "32         46956\n",
      "5          13048\n",
      "25         10922\n",
      "Name: C_CONF, dtype: int64\n",
      "--------------------------------------------\n",
      "--------------------------------------------\n",
      "Variable:  C_RCFG | Type:  int64\n",
      "2        3239409\n",
      "1        2074129\n",
      "3         288801\n",
      "33333     144147\n",
      "5          51174\n",
      "4          23712\n",
      "8          11743\n",
      "6           5999\n",
      "9           1742\n",
      "7            978\n",
      "10           555\n",
      "Name: C_RCFG, dtype: int64\n",
      "--------------------------------------------\n",
      "--------------------------------------------\n",
      "Variable:  C_WTHR | Type:  int64\n",
      "1        4148800\n",
      "3         598849\n",
      "2         598803\n",
      "4         353643\n",
      "6          82035\n",
      "5          30205\n",
      "7          15123\n",
      "33333      14931\n",
      "Name: C_WTHR, dtype: int64\n",
      "--------------------------------------------\n",
      "--------------------------------------------\n",
      "Variable:  C_RSUR | Type:  int64\n",
      "1        3912898\n",
      "2        1078502\n",
      "5         319442\n",
      "3         258402\n",
      "33333     168544\n",
      "4          71887\n",
      "6          25203\n",
      "7           5994\n",
      "8           1225\n",
      "9            292\n",
      "Name: C_RSUR, dtype: int64\n",
      "--------------------------------------------\n",
      "--------------------------------------------\n",
      "Variable:  C_RALN | Type:  int64\n",
      "1        4583325\n",
      "2         582027\n",
      "3         359631\n",
      "4         223614\n",
      "5          37738\n",
      "33333      28592\n",
      "6          27462\n",
      "Name: C_RALN, dtype: int64\n",
      "--------------------------------------------\n",
      "--------------------------------------------\n",
      "Variable:  C_TRAF | Type:  int64\n",
      "18       3277622\n",
      "1        1626782\n",
      "3         649097\n",
      "4          89433\n",
      "33333      81737\n",
      "6          45468\n",
      "8          24470\n",
      "2          19097\n",
      "13          4298\n",
      "5           4185\n",
      "15          3851\n",
      "11          3414\n",
      "12          3207\n",
      "17          3130\n",
      "10          2889\n",
      "7           2350\n",
      "16           811\n",
      "9            548\n",
      "Name: C_TRAF, dtype: int64\n",
      "--------------------------------------------\n",
      "--------------------------------------------\n",
      "Variable:  V_ID | Type:  int64\n",
      "1     3104903\n",
      "2     2141920\n",
      "3      295355\n",
      "99     219240\n",
      "4       57513\n",
      "       ...   \n",
      "77          2\n",
      "86          2\n",
      "75          1\n",
      "83          1\n",
      "85          1\n",
      "Name: V_ID, Length: 81, dtype: int64\n",
      "--------------------------------------------\n",
      "--------------------------------------------\n",
      "Variable:  V_TYPE | Type:  int64\n",
      "1        4843135\n",
      "11111     225637\n",
      "6         175489\n",
      "17        122668\n",
      "14        122642\n",
      "7          87579\n",
      "8          70338\n",
      "5          65879\n",
      "11         51228\n",
      "33333      25350\n",
      "9          20878\n",
      "16          9618\n",
      "20          7580\n",
      "22          4479\n",
      "18          3105\n",
      "23          3075\n",
      "19          1979\n",
      "10           905\n",
      "21           825\n",
      "Name: V_TYPE, dtype: int64\n",
      "--------------------------------------------\n",
      "--------------------------------------------\n",
      "Variable:  P_ID | Type:  int64\n",
      "1     4165552\n",
      "2     1132148\n",
      "3      341196\n",
      "4      131826\n",
      "5       41489\n",
      "       ...   \n",
      "73          2\n",
      "74          2\n",
      "94          1\n",
      "95          1\n",
      "99          1\n",
      "Name: P_ID, Length: 97, dtype: int64\n",
      "--------------------------------------------\n",
      "--------------------------------------------\n",
      "Variable:  P_SEX | Type:  int64\n",
      "1        3403716\n",
      "0        2438596\n",
      "11111         77\n",
      "Name: P_SEX, dtype: int64\n",
      "--------------------------------------------\n",
      "--------------------------------------------\n",
      "Variable:  P_AGE | Type:  int64\n",
      "34    469307\n",
      "18    171719\n",
      "19    167721\n",
      "20    158747\n",
      "17    158163\n",
      "       ...  \n",
      "99       321\n",
      "95       292\n",
      "96       201\n",
      "98       193\n",
      "97       110\n",
      "Name: P_AGE, Length: 99, dtype: int64\n",
      "--------------------------------------------\n",
      "--------------------------------------------\n",
      "Variable:  P_PSN | Type:  int64\n",
      "11       3980234\n",
      "13        883757\n",
      "23        257969\n",
      "21        215864\n",
      "99        208826\n",
      "22         90279\n",
      "12         87592\n",
      "96         43850\n",
      "32         30089\n",
      "33333      25862\n",
      "98          6627\n",
      "33          5756\n",
      "31          4566\n",
      "11111        927\n",
      "97           191\n",
      "Name: P_PSN, dtype: int64\n",
      "--------------------------------------------\n",
      "--------------------------------------------\n",
      "Variable:  P_ISEV | Type:  int64\n",
      "2        3151163\n",
      "1        2373203\n",
      "11111     277674\n",
      "3          40349\n",
      "Name: P_ISEV, dtype: int64\n",
      "--------------------------------------------\n",
      "--------------------------------------------\n",
      "Variable:  P_SAFE | Type:  int64\n",
      "2        4777005\n",
      "11111     556406\n",
      "1         198487\n",
      "13        148670\n",
      "9          96347\n",
      "33333      47065\n",
      "12         18287\n",
      "10           111\n",
      "11            11\n",
      "Name: P_SAFE, dtype: int64\n",
      "--------------------------------------------\n",
      "--------------------------------------------\n",
      "Variable:  P_USER | Type:  int64\n",
      "1    3817902\n",
      "2    1559937\n",
      "3     219240\n",
      "4     122668\n",
      "5     122642\n",
      "Name: P_USER, dtype: int64\n",
      "--------------------------------------------\n",
      "--------------------------------------------\n",
      "Variable:  V_ANT | Type:  int64\n",
      "0      639323\n",
      "1      414312\n",
      "2      401543\n",
      "4      386340\n",
      "3      383303\n",
      "        ...  \n",
      "100         3\n",
      "101         3\n",
      "88          2\n",
      "103         2\n",
      "97          1\n",
      "Name: V_ANT, Length: 103, dtype: int64\n",
      "--------------------------------------------\n"
     ]
    }
   ],
   "source": [
    "for variable in list(df.columns): \n",
    "    print('--------------------------------------------')\n",
    "    print('Variable: ', variable, '|', 'Type: ', df[variable].dtype)\n",
    "    print(df[variable].value_counts())\n",
    "    print('--------------------------------------------')"
   ]
  },
  {
   "cell_type": "markdown",
   "id": "rQMe25QUBqdI",
   "metadata": {
    "id": "rQMe25QUBqdI"
   },
   "source": [
    "Codificación de las variables categóricas mediante el Label Encoder. Este método identifica los dintintos valores (clases) de cada variable y sustituye cada uno de ellos por un número. "
   ]
  },
  {
   "cell_type": "code",
   "execution_count": 49,
   "id": "CzTKkgtfN9H6",
   "metadata": {
    "id": "CzTKkgtfN9H6"
   },
   "outputs": [],
   "source": [
    "from sklearn.preprocessing import LabelEncoder\n",
    "\n",
    "le = LabelEncoder()\n",
    "for variable in var_cat:\n",
    "    df[variable] = le.fit_transform(df[variable])"
   ]
  },
  {
   "cell_type": "markdown",
   "id": "qcRvoxH0C-WO",
   "metadata": {
    "id": "qcRvoxH0C-WO"
   },
   "source": [
    "# ANÁLISIS DESCRIPTIVO"
   ]
  },
  {
   "cell_type": "markdown",
   "id": "eWUx0bztDHVt",
   "metadata": {
    "id": "eWUx0bztDHVt"
   },
   "source": [
    "Histogramas de todas las variables para ver su distribución."
   ]
  },
  {
   "cell_type": "code",
   "execution_count": 50,
   "id": "yLSLkuY2QP_3",
   "metadata": {
    "colab": {
     "base_uri": "https://localhost:8080/",
     "height": 1000
    },
    "id": "yLSLkuY2QP_3",
    "outputId": "0d2e80cb-8ebb-480a-9ef0-fc18b5585ac4"
   },
   "outputs": [
    {
     "data": {
      "text/plain": [
       "array([[<AxesSubplot:title={'center':'C_MNTH'}>,\n",
       "        <AxesSubplot:title={'center':'C_WDAY'}>,\n",
       "        <AxesSubplot:title={'center':'C_HOUR'}>,\n",
       "        <AxesSubplot:title={'center':'C_SEV'}>,\n",
       "        <AxesSubplot:title={'center':'C_VEHS'}>],\n",
       "       [<AxesSubplot:title={'center':'C_CONF'}>,\n",
       "        <AxesSubplot:title={'center':'C_RCFG'}>,\n",
       "        <AxesSubplot:title={'center':'C_WTHR'}>,\n",
       "        <AxesSubplot:title={'center':'C_RSUR'}>,\n",
       "        <AxesSubplot:title={'center':'C_RALN'}>],\n",
       "       [<AxesSubplot:title={'center':'C_TRAF'}>,\n",
       "        <AxesSubplot:title={'center':'V_ID'}>,\n",
       "        <AxesSubplot:title={'center':'V_TYPE'}>,\n",
       "        <AxesSubplot:title={'center':'P_ID'}>,\n",
       "        <AxesSubplot:title={'center':'P_SEX'}>],\n",
       "       [<AxesSubplot:title={'center':'P_AGE'}>,\n",
       "        <AxesSubplot:title={'center':'P_PSN'}>,\n",
       "        <AxesSubplot:title={'center':'P_ISEV'}>,\n",
       "        <AxesSubplot:title={'center':'P_SAFE'}>,\n",
       "        <AxesSubplot:title={'center':'P_USER'}>],\n",
       "       [<AxesSubplot:title={'center':'V_ANT'}>, <AxesSubplot:>,\n",
       "        <AxesSubplot:>, <AxesSubplot:>, <AxesSubplot:>]], dtype=object)"
      ]
     },
     "execution_count": 50,
     "metadata": {},
     "output_type": "execute_result"
    },
    {
     "data": {
      "image/png": "[encoded data removed]",
      "text/plain": [
       "<Figure size 1440x1440 with 25 Axes>"
      ]
     },
     "metadata": {
      "needs_background": "light"
     },
     "output_type": "display_data"
    }
   ],
   "source": [
    "df.hist(figsize = (20, 20))"
   ]
  },
  {
   "cell_type": "markdown",
   "id": "Hw2mgBsoDWUY",
   "metadata": {
    "id": "Hw2mgBsoDWUY"
   },
   "source": [
    "## Correlación entre las variables."
   ]
  },
  {
   "cell_type": "code",
   "execution_count": 51,
   "id": "60SB9RvRQtDz",
   "metadata": {
    "colab": {
     "base_uri": "https://localhost:8080/",
     "height": 1000
    },
    "id": "60SB9RvRQtDz",
    "outputId": "ff2965b4-5d85-472e-f073-399c11b838be"
   },
   "outputs": [
    {
     "data": {
      "image/png": "[encoded data removed]",
      "text/plain": [
       "<Figure size 1440x1440 with 2 Axes>"
      ]
     },
     "metadata": {
      "needs_background": "light"
     },
     "output_type": "display_data"
    }
   ],
   "source": [
    "plt.figure(figsize = (20, 20))\n",
    "sns.heatmap(df.corr(), annot = True)\n",
    "plt.show()"
   ]
  },
  {
   "cell_type": "markdown",
   "id": "cDvwEiz7Dfz9",
   "metadata": {
    "id": "cDvwEiz7Dfz9"
   },
   "source": [
    "Vemos que la forma en la que están relacionadas nuestras variables ha cambiado. Seguimos obteniendo resultados similares: la mayoría de las variables son incorreladas, existen varias levemente correlacionadas y son muy pocos los casos los casos en los que las variables que lo están altamente. Sin embargo, la forma en la que estas se relacionan es distinta a como lo hacían antes, pues muchas variables que antes correlacionadas levemente ahora han pasado a tener correlación nula y, por otro lado, otras variables han pasado a estar altamente correlacionadas.\n",
    "\n"
   ]
  },
  {
   "cell_type": "markdown",
   "id": "8zYACf3NE89r",
   "metadata": {
    "id": "8zYACf3NE89r"
   },
   "source": [
    "Ahora vemos cuántos accidentes son mortales y cuántos no. A los no mortales se les asigna el valor 1 y a los que sí lo son el valor 0. "
   ]
  },
  {
   "cell_type": "code",
   "execution_count": 52,
   "id": "fbqBs6t8PeF_",
   "metadata": {
    "colab": {
     "base_uri": "https://localhost:8080/"
    },
    "id": "fbqBs6t8PeF_",
    "outputId": "e6b4970f-ad07-4cb7-a613-fef1f30b3410"
   },
   "outputs": [
    {
     "data": {
      "text/plain": [
       "array([1, 0], dtype=int64)"
      ]
     },
     "execution_count": 52,
     "metadata": {},
     "output_type": "execute_result"
    }
   ],
   "source": [
    "mortalidad_posible=df['C_SEV'].unique()\n",
    "mortalidad_posible # 1: no hay muertes, 0: sí hay muertes."
   ]
  },
  {
   "cell_type": "markdown",
   "id": "H9Kbz2jmE-27",
   "metadata": {
    "id": "H9Kbz2jmE-27"
   },
   "source": [
    "Observamos que muchos más accidentes no mortales, lo cual es bueno. "
   ]
  },
  {
   "cell_type": "code",
   "execution_count": 53,
   "id": "KhoNrzBmP-ts",
   "metadata": {
    "colab": {
     "base_uri": "https://localhost:8080/"
    },
    "id": "KhoNrzBmP-ts",
    "outputId": "6f096907-f145-4c4d-a1e3-d49ea48ed469"
   },
   "outputs": [
    {
     "data": {
      "text/plain": [
       "1    5744075\n",
       "0      98314\n",
       "Name: C_SEV, dtype: int64"
      ]
     },
     "execution_count": 53,
     "metadata": {},
     "output_type": "execute_result"
    }
   ],
   "source": [
    "df['C_SEV'].value_counts()"
   ]
  },
  {
   "cell_type": "code",
   "execution_count": 54,
   "id": "mT7_66VrQdC8",
   "metadata": {
    "colab": {
     "base_uri": "https://localhost:8080/",
     "height": 511
    },
    "id": "mT7_66VrQdC8",
    "outputId": "5bac122b-3fed-4c81-c4a1-8642ea08ec99"
   },
   "outputs": [
    {
     "data": {
      "text/plain": [
       "<AxesSubplot:>"
      ]
     },
     "execution_count": 54,
     "metadata": {},
     "output_type": "execute_result"
    },
    {
     "data": {
      "image/png": "[encoded data removed]",
      "text/plain": [
       "<Figure size 576x576 with 1 Axes>"
      ]
     },
     "metadata": {
      "needs_background": "light"
     },
     "output_type": "display_data"
    }
   ],
   "source": [
    "df['C_SEV'].hist(figsize = (8, 8)) #Vemos que el conjunto de datos está desbalanceado."
   ]
  },
  {
   "cell_type": "code",
   "execution_count": 55,
   "id": "W8V2yW9KQqG2",
   "metadata": {
    "id": "W8V2yW9KQqG2"
   },
   "outputs": [],
   "source": [
    "num = [0, 1, 2, 3, 4, 5, 6]\n",
    "w_days = df['C_WDAY']\n",
    "w_days = w_days.sort_values()\n",
    "w_days = w_days.replace({1:\"Lunes\", 2:\"Martes\", 3:\"Miércoles\", 4:\"Jueves\", 5:\"Viernes\", 6:\"Sábado\", 7:\"Domingo\" })\n",
    "h_days = df['C_HOUR']\n",
    "h_days = h_days.sort_values()\n",
    "weath_cond = df['C_WTHR']\n",
    "weath_cond = weath_cond.replace({1:\"Sunny\", 2: \"Overcast\", 3:\"Raining\", 4:\"Snowing\", 5:\"Freezing Rain\", 6:\"Visibility limitation (snow, fog, etc..)\", 7: \"Strong wind\" })\n",
    "road_cond = df['C_RSUR']\n",
    "road_cond = road_cond.replace({1:\"Dry, normal\", 2:\"Wet\", 3:\"Snow\", 4:\"Slush, wet snow\", 5:\"Icy\", 6:\"Sand/gravel/dirt\", 7:\"Muddy\", 8:\"Oil\", 9:\"Flooded\"})\n",
    "month_acc = df['C_MNTH']\n",
    "month_acc = month_acc.sort_values()\n",
    "month_acc = month_acc.replace({1:\"ENE\", 2:\"FEB\", 3:\"MAR\", 4:\"ABR\", 5:\"MAY\", 6:\"JUN\", 7:\"JUL\", 8:\"AGO\", 9:\"SEP\", 10:\"OCT\", 11:\"NOV\", 12:\"DIC\",0:\"Missing\"})"
   ]
  },
  {
   "cell_type": "code",
   "execution_count": 56,
   "id": "bNxjXi_VRNWC",
   "metadata": {
    "colab": {
     "base_uri": "https://localhost:8080/",
     "height": 448
    },
    "id": "bNxjXi_VRNWC",
    "outputId": "64572238-c1a4-4a40-ae32-ce49d80b86a5"
   },
   "outputs": [
    {
     "data": {
      "image/png": "[encoded data removed]",
      "text/plain": [
       "<Figure size 960x480 with 1 Axes>"
      ]
     },
     "metadata": {
      "needs_background": "light"
     },
     "output_type": "display_data"
    }
   ],
   "source": [
    "fig2 = plt.figure(figsize=(12, 6), dpi= 80)\n",
    "\n",
    "ax2 = h_days.value_counts().sort_index().plot.bar()\n",
    "ax2.set_xlabel(\"Horas del día\")\n",
    "ax2.set_ylabel(\"Número de accidentes\")\n",
    "plt.title(\"Horas del día x Número de accidentes\")\n",
    "plt.show()"
   ]
  },
  {
   "cell_type": "markdown",
   "id": "AgRbsjrFF7wO",
   "metadata": {
    "id": "AgRbsjrFF7wO"
   },
   "source": [
    "En el anterior gráfico podemos ver la relación del número de accidentes con respecto a la hora del día en el que se produce. Por ejemplo, el momento del día en el que más accidentes se producen es a las 15h y eso podría ser porque muchas personas acaban su jornada laboral y tiene más prisa por llegar a casa. Al contrario ocurre en las horas de la madrugada que es cuando menos accidentes se producen. Esta situación podría ser a la inversa los fines de semana. "
   ]
  },
  {
   "cell_type": "code",
   "execution_count": 57,
   "id": "ceHmy171RQBC",
   "metadata": {
    "colab": {
     "base_uri": "https://localhost:8080/",
     "height": 486
    },
    "id": "ceHmy171RQBC",
    "outputId": "550bef04-2e86-4569-e257-c7a210fdea5c"
   },
   "outputs": [
    {
     "data": {
      "image/png": "[encoded data removed]",
      "text/plain": [
       "<Figure size 960x480 with 1 Axes>"
      ]
     },
     "metadata": {
      "needs_background": "light"
     },
     "output_type": "display_data"
    }
   ],
   "source": [
    "fig3 = plt.figure(figsize=(12, 6), dpi= 80)\n",
    "\n",
    "ax3 = w_days.value_counts().plot.bar()\n",
    "ax3.set_xlabel(\"Día de la semana (Lunes a Domingo)\")\n",
    "ax3.set_ylabel(\"Número de accidentes\")\n",
    "plt.title(\"Día de la semana x Número de accidentes\")\n",
    "plt.show()"
   ]
  },
  {
   "cell_type": "markdown",
   "id": "abOduo6KHCrm",
   "metadata": {
    "id": "abOduo6KHCrm"
   },
   "source": [
    "En el anterior gráfico podemos ver la relación del número de accidentes con respecto a los días de la semana. Al contrario de lo que podría pensarse, no hay a penas diferencia entre cada día de la semana. De hecho los jueves son el día en el que más accidentes se producen. "
   ]
  },
  {
   "cell_type": "code",
   "execution_count": 58,
   "id": "6WaUgth6RbNF",
   "metadata": {
    "colab": {
     "base_uri": "https://localhost:8080/",
     "height": 475
    },
    "id": "6WaUgth6RbNF",
    "outputId": "87433a1f-71a4-498b-d150-1e6f4ff60d5e"
   },
   "outputs": [
    {
     "data": {
      "image/png": "[encoded data removed]",
      "text/plain": [
       "<Figure size 960x480 with 1 Axes>"
      ]
     },
     "metadata": {
      "needs_background": "light"
     },
     "output_type": "display_data"
    }
   ],
   "source": [
    "fig6 = plt.figure(figsize=(12, 6), dpi= 80)\n",
    "\n",
    "ax6 = month_acc.value_counts().plot.bar()\n",
    "ax6.set_xlabel(\"Mes\")\n",
    "ax6.set_ylabel(\"Número de accidentes\")\n",
    "plt.title(\"Mes x Número de accidentes\")\n",
    "plt.show()"
   ]
  },
  {
   "cell_type": "markdown",
   "id": "rKD80ZBBHimG",
   "metadata": {
    "id": "rKD80ZBBHimG"
   },
   "source": [
    "En el anterior gráfico podemos ver la relación del número de accidentes con respecto el mes del año en el que se producen. En este caso vemos que cuando más accidentes hay es en los meses de verano, en particular en agosto."
   ]
  },
  {
   "cell_type": "code",
   "execution_count": 59,
   "id": "Wm2H9KWJRfmH",
   "metadata": {
    "colab": {
     "base_uri": "https://localhost:8080/",
     "height": 634
    },
    "id": "Wm2H9KWJRfmH",
    "outputId": "14863ebc-dfda-4256-d3b7-89b0655fa88e"
   },
   "outputs": [
    {
     "data": {
      "image/png": "[encoded data removed]",
      "text/plain": [
       "<Figure size 960x480 with 1 Axes>"
      ]
     },
     "metadata": {
      "needs_background": "light"
     },
     "output_type": "display_data"
    }
   ],
   "source": [
    "fig4 = plt.figure(figsize=(12, 6), dpi= 80)\n",
    "\n",
    "ax4 = weath_cond.value_counts().plot.bar()\n",
    "ax4.set_xlabel(\"Condición Atmosferica\")\n",
    "ax4.set_ylabel(\"Número de accientes\")\n",
    "plt.title(\"Condición atmosférica x Número de accidentes\")\n",
    "plt.show()"
   ]
  },
  {
   "cell_type": "markdown",
   "id": "nmrMKFhwIrCa",
   "metadata": {
    "id": "nmrMKFhwIrCa"
   },
   "source": [
    "En el anterior gráfico podemos ver la relación del número de accidentes con respecto a las diferentes condiciones atmostéricas. Vemos que el mayor número de accidentes se produce cuando hay mucho viento. Por ejemplo, se suele aconsejar a los vehículos, en particular a las motos, que no se coloquen cerca de los camiones en estas condiciones. "
   ]
  },
  {
   "cell_type": "code",
   "execution_count": 60,
   "id": "CluCOkqnRg89",
   "metadata": {
    "colab": {
     "base_uri": "https://localhost:8080/",
     "height": 524
    },
    "id": "CluCOkqnRg89",
    "outputId": "1f841849-6cfc-4d01-d239-ef6cff6f9b73"
   },
   "outputs": [
    {
     "data": {
      "image/png": "[encoded data removed]",
      "text/plain": [
       "<Figure size 960x480 with 1 Axes>"
      ]
     },
     "metadata": {
      "needs_background": "light"
     },
     "output_type": "display_data"
    }
   ],
   "source": [
    "fig3 = plt.figure(figsize=(12, 6), dpi= 80)\n",
    "\n",
    "ax3 = road_cond.value_counts().plot.bar()\n",
    "ax3.set_xlabel(\"Condición carretera\")\n",
    "ax3.set_ylabel(\"Número de accidentes\")\n",
    "plt.title(\"Condición carretera x Número de accidentes\")\n",
    "plt.show()"
   ]
  },
  {
   "cell_type": "markdown",
   "id": "n8NRhTCVKkxc",
   "metadata": {
    "id": "n8NRhTCVKkxc"
   },
   "source": [
    "En el anterior gráfico podemos ver la relación del número de accidentes con respecto a la condiciones de la carretera. En este caso el mayor número de accidentes se producen es cuando cae granizo (freezing rain). Esto puede pasar porque el coche deslice mal sobre la carretera, el ruido al caer sobre el coche puede distraer al conductor, pueden ocurrir desperfectos al vehículo, limita la visibilidad porque el limpiaparabrisas funciona peor..."
   ]
  },
  {
   "cell_type": "markdown",
   "id": "5fOFVyMsMDZU",
   "metadata": {
    "id": "5fOFVyMsMDZU"
   },
   "source": [
    "### DATOS"
   ]
  },
  {
   "cell_type": "markdown",
   "id": "0tLIljfaMOnK",
   "metadata": {
    "id": "0tLIljfaMOnK"
   },
   "source": [
    "Utilizamos \"under_sampling\" dado que es una buena forma de equilibrar conjuntos de datos desiguales manteniendo todos los datos en la clase minoritaria y disminuyendo el tamaño de la clase mayoritaria, ya que un conjunto de datos desequilibrado puede conducir a resultados sesgados. "
   ]
  },
  {
   "cell_type": "code",
   "execution_count": null,
   "id": "YsYTJTfpu6BG",
   "metadata": {
    "id": "YsYTJTfpu6BG"
   },
   "outputs": [],
   "source": [
    "from imblearn.under_sampling import RandomUnderSampler"
   ]
  },
  {
   "cell_type": "code",
   "execution_count": null,
   "id": "4bef8507",
   "metadata": {
    "id": "4bef8507",
    "outputId": "2a5dcf9e-3f27-4520-d8d1-0807e8da75b3"
   },
   "outputs": [
    {
     "name": "stdout",
     "output_type": "stream",
     "text": [
      "Filas que nos quedamos: 65958\n"
     ]
    },
    {
     "data": {
      "text/plain": [
       "<AxesSubplot:>"
      ]
     },
     "execution_count": 71,
     "metadata": {},
     "output_type": "execute_result"
    },
    {
     "data": {
      "image/png": "[encoded data removed]",
      "text/plain": [
       "<Figure size 432x288 with 1 Axes>"
      ]
     },
     "metadata": {
      "needs_background": "light"
     },
     "output_type": "display_data"
    }
   ],
   "source": [
    "# hacemos undersampling para balancear la variable objetivo:\n",
    "from imblearn.under_sampling import RandomUnderSampler\n",
    "rus = RandomUnderSampler(random_state = 0)\n",
    "X_1,y_1=rus.fit_resample(df, df[['C_SEV']].values)\n",
    "print('Filas que nos quedamos:', len(rus.sample_indices_))\n",
    "indicadores_undersampled = df.iloc[rus.sample_indices_]\n",
    "indicadores_undersampled['C_SEV'].value_counts().plot.bar()"
   ]
  },
  {
   "cell_type": "markdown",
   "id": "R-vP_BiQMwCx",
   "metadata": {
    "id": "R-vP_BiQMwCx"
   },
   "source": [
    "Una vez aplicado este método observamos que los datos aparecen balanceados. "
   ]
  },
  {
   "cell_type": "markdown",
   "id": "Iw6oa3K0M6Al",
   "metadata": {
    "id": "Iw6oa3K0M6Al"
   },
   "source": [
    "Separamos el conjunto de los datos en un subconjunto de entrenamiento y otro de test. Posteriormente realizamos el escalado de los datos. "
   ]
  },
  {
   "cell_type": "code",
   "execution_count": null,
   "id": "41a70c71",
   "metadata": {
    "id": "41a70c71",
    "outputId": "a1615f5c-3d73-4d7c-819d-78bd04251c75"
   },
   "outputs": [
    {
     "name": "stdout",
     "output_type": "stream",
     "text": [
      "(49468, 20) (16490, 20) (49468,) (16490,)\n"
     ]
    }
   ],
   "source": [
    "from sklearn.model_selection import train_test_split\n",
    "\n",
    "X_train, X_test, y_train_1, y_test_1 = train_test_split(X_1.drop('C_SEV', axis = 1).astype(float), y_1.astype(int), test_size=0.25, random_state=0, stratify=y_1)\n",
    "print(X_train.shape, X_test.shape,y_train_1.shape, y_test_1.shape)"
   ]
  },
  {
   "cell_type": "code",
   "execution_count": null,
   "id": "f1ea6f1d",
   "metadata": {
    "id": "f1ea6f1d",
    "outputId": "2b9e4047-e307-42d6-91a0-1855638636aa"
   },
   "outputs": [
    {
     "data": {
      "text/html": [
       "<div>\n",
       "<style scoped>\n",
       "    .dataframe tbody tr th:only-of-type {\n",
       "        vertical-align: middle;\n",
       "    }\n",
       "\n",
       "    .dataframe tbody tr th {\n",
       "        vertical-align: top;\n",
       "    }\n",
       "\n",
       "    .dataframe thead th {\n",
       "        text-align: right;\n",
       "    }\n",
       "</style>\n",
       "<table border=\"1\" class=\"dataframe\">\n",
       "  <thead>\n",
       "    <tr style=\"text-align: right;\">\n",
       "      <th></th>\n",
       "      <th>C_MNTH</th>\n",
       "      <th>C_WDAY</th>\n",
       "      <th>C_HOUR</th>\n",
       "      <th>C_VEHS</th>\n",
       "      <th>C_CONF</th>\n",
       "      <th>C_RCFG</th>\n",
       "      <th>C_WTHR</th>\n",
       "      <th>C_RSUR</th>\n",
       "      <th>C_RALN</th>\n",
       "      <th>C_TRAF</th>\n",
       "      <th>V_ID</th>\n",
       "      <th>V_TYPE</th>\n",
       "      <th>P_ID</th>\n",
       "      <th>P_SEX</th>\n",
       "      <th>P_AGE</th>\n",
       "      <th>P_PSN</th>\n",
       "      <th>P_ISEV</th>\n",
       "      <th>P_SAFE</th>\n",
       "      <th>P_USER</th>\n",
       "      <th>V_ANT</th>\n",
       "    </tr>\n",
       "  </thead>\n",
       "  <tbody>\n",
       "    <tr>\n",
       "      <th>0</th>\n",
       "      <td>0.272727</td>\n",
       "      <td>0.500000</td>\n",
       "      <td>0.347826</td>\n",
       "      <td>0.000000</td>\n",
       "      <td>0.277778</td>\n",
       "      <td>0.000000</td>\n",
       "      <td>0.571429</td>\n",
       "      <td>0.444444</td>\n",
       "      <td>0.0</td>\n",
       "      <td>0.941176</td>\n",
       "      <td>0.000000</td>\n",
       "      <td>0.000000</td>\n",
       "      <td>0.000000</td>\n",
       "      <td>0.5</td>\n",
       "      <td>0.479592</td>\n",
       "      <td>0.000000</td>\n",
       "      <td>0.666667</td>\n",
       "      <td>0.125</td>\n",
       "      <td>0.00</td>\n",
       "      <td>0.060976</td>\n",
       "    </tr>\n",
       "    <tr>\n",
       "      <th>1</th>\n",
       "      <td>0.636364</td>\n",
       "      <td>0.000000</td>\n",
       "      <td>0.608696</td>\n",
       "      <td>0.014286</td>\n",
       "      <td>0.722222</td>\n",
       "      <td>0.000000</td>\n",
       "      <td>0.000000</td>\n",
       "      <td>0.000000</td>\n",
       "      <td>0.0</td>\n",
       "      <td>0.941176</td>\n",
       "      <td>0.014085</td>\n",
       "      <td>0.000000</td>\n",
       "      <td>0.034483</td>\n",
       "      <td>0.0</td>\n",
       "      <td>0.010204</td>\n",
       "      <td>0.642857</td>\n",
       "      <td>0.333333</td>\n",
       "      <td>0.125</td>\n",
       "      <td>0.25</td>\n",
       "      <td>0.085366</td>\n",
       "    </tr>\n",
       "    <tr>\n",
       "      <th>2</th>\n",
       "      <td>0.636364</td>\n",
       "      <td>1.000000</td>\n",
       "      <td>0.695652</td>\n",
       "      <td>0.014286</td>\n",
       "      <td>0.388889</td>\n",
       "      <td>0.111111</td>\n",
       "      <td>0.000000</td>\n",
       "      <td>0.000000</td>\n",
       "      <td>0.0</td>\n",
       "      <td>0.000000</td>\n",
       "      <td>0.000000</td>\n",
       "      <td>0.000000</td>\n",
       "      <td>0.000000</td>\n",
       "      <td>0.5</td>\n",
       "      <td>0.816327</td>\n",
       "      <td>0.000000</td>\n",
       "      <td>0.333333</td>\n",
       "      <td>0.125</td>\n",
       "      <td>0.00</td>\n",
       "      <td>0.134146</td>\n",
       "    </tr>\n",
       "    <tr>\n",
       "      <th>3</th>\n",
       "      <td>0.272727</td>\n",
       "      <td>1.000000</td>\n",
       "      <td>0.521739</td>\n",
       "      <td>0.028571</td>\n",
       "      <td>0.333333</td>\n",
       "      <td>0.000000</td>\n",
       "      <td>0.000000</td>\n",
       "      <td>0.000000</td>\n",
       "      <td>0.0</td>\n",
       "      <td>0.000000</td>\n",
       "      <td>0.028169</td>\n",
       "      <td>0.111111</td>\n",
       "      <td>0.011494</td>\n",
       "      <td>0.0</td>\n",
       "      <td>0.418367</td>\n",
       "      <td>0.142857</td>\n",
       "      <td>0.000000</td>\n",
       "      <td>0.125</td>\n",
       "      <td>0.25</td>\n",
       "      <td>0.012195</td>\n",
       "    </tr>\n",
       "    <tr>\n",
       "      <th>4</th>\n",
       "      <td>0.272727</td>\n",
       "      <td>0.166667</td>\n",
       "      <td>0.434783</td>\n",
       "      <td>0.000000</td>\n",
       "      <td>0.277778</td>\n",
       "      <td>0.111111</td>\n",
       "      <td>0.000000</td>\n",
       "      <td>0.000000</td>\n",
       "      <td>0.0</td>\n",
       "      <td>0.000000</td>\n",
       "      <td>0.000000</td>\n",
       "      <td>0.000000</td>\n",
       "      <td>0.000000</td>\n",
       "      <td>0.0</td>\n",
       "      <td>0.489796</td>\n",
       "      <td>0.000000</td>\n",
       "      <td>0.000000</td>\n",
       "      <td>0.125</td>\n",
       "      <td>0.00</td>\n",
       "      <td>0.073171</td>\n",
       "    </tr>\n",
       "  </tbody>\n",
       "</table>\n",
       "</div>"
      ],
      "text/plain": [
       "     C_MNTH    C_WDAY    C_HOUR    C_VEHS    C_CONF    C_RCFG    C_WTHR  \\\n",
       "0  0.272727  0.500000  0.347826  0.000000  0.277778  0.000000  0.571429   \n",
       "1  0.636364  0.000000  0.608696  0.014286  0.722222  0.000000  0.000000   \n",
       "2  0.636364  1.000000  0.695652  0.014286  0.388889  0.111111  0.000000   \n",
       "3  0.272727  1.000000  0.521739  0.028571  0.333333  0.000000  0.000000   \n",
       "4  0.272727  0.166667  0.434783  0.000000  0.277778  0.111111  0.000000   \n",
       "\n",
       "     C_RSUR  C_RALN    C_TRAF      V_ID    V_TYPE      P_ID  P_SEX     P_AGE  \\\n",
       "0  0.444444     0.0  0.941176  0.000000  0.000000  0.000000    0.5  0.479592   \n",
       "1  0.000000     0.0  0.941176  0.014085  0.000000  0.034483    0.0  0.010204   \n",
       "2  0.000000     0.0  0.000000  0.000000  0.000000  0.000000    0.5  0.816327   \n",
       "3  0.000000     0.0  0.000000  0.028169  0.111111  0.011494    0.0  0.418367   \n",
       "4  0.000000     0.0  0.000000  0.000000  0.000000  0.000000    0.0  0.489796   \n",
       "\n",
       "      P_PSN    P_ISEV  P_SAFE  P_USER     V_ANT  \n",
       "0  0.000000  0.666667   0.125    0.00  0.060976  \n",
       "1  0.642857  0.333333   0.125    0.25  0.085366  \n",
       "2  0.000000  0.333333   0.125    0.00  0.134146  \n",
       "3  0.142857  0.000000   0.125    0.25  0.012195  \n",
       "4  0.000000  0.000000   0.125    0.00  0.073171  "
      ]
     },
     "execution_count": 75,
     "metadata": {},
     "output_type": "execute_result"
    }
   ],
   "source": [
    "from sklearn.preprocessing import MinMaxScaler\n",
    "col=list(X_train.columns)\n",
    "scaler = MinMaxScaler().fit(X_train)\n",
    "datos_escalados_1 = scaler.transform(X_train)\n",
    "X_train_1 = pd.DataFrame(datos_escalados_1,columns=col)\n",
    "X_train_1.head()"
   ]
  },
  {
   "cell_type": "code",
   "execution_count": null,
   "id": "2f9afb44",
   "metadata": {
    "id": "2f9afb44"
   },
   "outputs": [],
   "source": [
    "X_test_1 = scaler.transform(X_test)"
   ]
  },
  {
   "cell_type": "markdown",
   "id": "Hu2UMdYINqBr",
   "metadata": {
    "id": "Hu2UMdYINqBr"
   },
   "source": [
    "Ya tenemos los datos escalados y preparados para los algoritmos"
   ]
  },
  {
   "cell_type": "markdown",
   "id": "PWb02MLMXT5v",
   "metadata": {
    "id": "PWb02MLMXT5v"
   },
   "source": [
    "# ALGORITMOS DE CLASIFICACIÓN"
   ]
  },
  {
   "cell_type": "code",
   "execution_count": null,
   "id": "-GO1gg65XX-2",
   "metadata": {
    "id": "-GO1gg65XX-2"
   },
   "outputs": [],
   "source": [
    "import seaborn as sns\n",
    "from matplotlib import pyplot as plt\n",
    "\n",
    "\n",
    "def plot_confusion_matrix(confmat):\n",
    "    fig, ax = plt.subplots(figsize=(3, 3))\n",
    "    ax.matshow(confmat, cmap=plt.cm.Blues, alpha=0.5)\n",
    "    for i in range(confmat.shape[0]):\n",
    "        for j in range(confmat.shape[1]):\n",
    "            ax.text(x=j, y=i, s=confmat[i, j], va='center', ha='center')\n",
    "\n",
    "    plt.xlabel('predicted label')\n",
    "    plt.ylabel('true label')\n",
    "\n",
    "    plt.tight_layout()\n",
    "    plt.show()\n",
    "\n",
    "def calcula_metricas(confmat):\n",
    "    \n",
    "    tn, fp, fn, tp = confmat.ravel()\n",
    "\n",
    "    acc = (tp+tn)/(tn + fp + fn + tp)\n",
    "    sen = tp/(tp+fn)\n",
    "    esp = tn/(tn+fp)\n",
    "    ppv = tp/(tp+fp)\n",
    "    fsc = 2*(sen*ppv/(sen+ppv))\n",
    "\n",
    "    print('ACC: ', acc)\n",
    "    print('SEN: ', sen)\n",
    "    print('ESP: ', esp)\n",
    "    print('PPV: ', ppv)\n",
    "    print('FSC: ', fsc)\n",
    "    \n",
    "    plt.bar(range(5),[acc,sen,esp,ppv,fsc])\n",
    "    plt.xticks(range(5),['ACC','SEN','ESP','PPV','FSC'])\n",
    "    plt.plot([-1, 6], [1, 1], color=(0.6, 0.6, 0.6), linestyle='--')\n",
    "    plt.xlim((-0.5,4.5))\n",
    "    plt.ylim((0,1.1))\n",
    "    plt.title('Metricas')\n",
    "    plt.show()\n",
    "    "
   ]
  },
  {
   "cell_type": "markdown",
   "id": "gs2Eew5AN8zx",
   "metadata": {
    "id": "gs2Eew5AN8zx"
   },
   "source": [
    "# Regresión logística"
   ]
  },
  {
   "cell_type": "code",
   "execution_count": null,
   "id": "3GRSJuDQSSqc",
   "metadata": {
    "id": "3GRSJuDQSSqc"
   },
   "outputs": [],
   "source": [
    "from sklearn.linear_model import LogisticRegression\n",
    "from sklearn.metrics import mean_squared_error, r2_score\n",
    "from sklearn.metrics import confusion_matrix\n",
    "from sklearn.metrics import accuracy_score"
   ]
  },
  {
   "cell_type": "code",
   "execution_count": null,
   "id": "ImHa7CE5SbbB",
   "metadata": {
    "colab": {
     "base_uri": "https://localhost:8080/"
    },
    "id": "ImHa7CE5SbbB",
    "outputId": "d5a560ba-6614-4a3f-b697-8d5b32fb1a3e"
   },
   "outputs": [
    {
     "data": {
      "text/plain": [
       "GridSearchCV(cv=10,\n",
       "             estimator=LogisticRegression(random_state=2, solver='liblinear'),\n",
       "             n_jobs=-1,\n",
       "             param_grid={'C': array([1.00000000e-02, 2.78255940e-02, 7.74263683e-02, 2.15443469e-01,\n",
       "       5.99484250e-01, 1.66810054e+00, 4.64158883e+00, 1.29154967e+01,\n",
       "       3.59381366e+01, 1.00000000e+02])},\n",
       "             scoring='accuracy')"
      ]
     },
     "execution_count": 129,
     "metadata": {},
     "output_type": "execute_result"
    }
   ],
   "source": [
    "from sklearn.model_selection import GridSearchCV\n",
    "\n",
    "vectorC = np.logspace(-2,2,10)\n",
    "param_grid = {'C': vectorC }\n",
    "logreg=LogisticRegression(random_state=2,solver='liblinear')\n",
    "grid = GridSearchCV(logreg,\n",
    "                    scoring='accuracy', \n",
    "                    param_grid=param_grid, \n",
    "                    cv = 10,n_jobs=-1)\n",
    "\n",
    "grid.fit(X_train_1, y_train_1)"
   ]
  },
  {
   "cell_type": "code",
   "execution_count": null,
   "id": "JEVZ3OWVSzeZ",
   "metadata": {
    "colab": {
     "base_uri": "https://localhost:8080/",
     "height": 319
    },
    "id": "JEVZ3OWVSzeZ",
    "outputId": "8c54eefe-9207-4ada-c44d-8fa786b7fa12"
   },
   "outputs": [
    {
     "name": "stdout",
     "output_type": "stream",
     "text": [
      "best mean cross-validation score: 0.721\n",
      "best parameters: {'C': 100.0}\n"
     ]
    },
    {
     "data": {
      "image/png": "[encoded data removed]",
      "text/plain": [
       "<Figure size 432x288 with 1 Axes>"
      ]
     },
     "metadata": {
      "needs_background": "light"
     },
     "output_type": "display_data"
    }
   ],
   "source": [
    "print(\"best mean cross-validation score: {:.3f}\".format(grid.best_score_))\n",
    "print(\"best parameters: {}\".format(grid.best_params_))\n",
    "\n",
    "scores = grid.cv_results_['mean_test_score']\n",
    "std_scores = grid.cv_results_['std_test_score']\n",
    "plt.errorbar(np.log10(vectorC),scores,yerr=std_scores, fmt='o-',ecolor='g')\n",
    "plt.xlabel('log(C)',fontsize=16)\n",
    "plt.ylabel('10-Fold ACC')\n",
    "plt.grid()\n",
    "plt.show()"
   ]
  },
  {
   "cell_type": "markdown",
   "id": "Z3wCgwvmOs0f",
   "metadata": {
    "id": "Z3wCgwvmOs0f"
   },
   "source": [
    "Mediante el método de la validación cruzada estimamos la habilidad del modelo en nuevos datos donde obtenemos un 72,1% de mejor resultado. "
   ]
  },
  {
   "cell_type": "code",
   "execution_count": null,
   "id": "PETQDOpRS7YM",
   "metadata": {
    "id": "PETQDOpRS7YM"
   },
   "outputs": [],
   "source": [
    "Copt = grid.best_params_['C'] #nos quedamos con el mejor parámetro encontrado"
   ]
  },
  {
   "cell_type": "code",
   "execution_count": null,
   "id": "qgOYuOMSS_Jh",
   "metadata": {
    "id": "qgOYuOMSS_Jh",
    "outputId": "aae232d8-ff18-4449-ac80-3d8ffcc4f45d"
   },
   "outputs": [
    {
     "name": "stderr",
     "output_type": "stream",
     "text": [
      "C:\\Users\\ANA\\anaconda3\\lib\\site-packages\\sklearn\\base.py:450: UserWarning: X does not have valid feature names, but LogisticRegression was fitted with feature names\n",
      "  warnings.warn(\n",
      "C:\\Users\\ANA\\anaconda3\\lib\\site-packages\\sklearn\\base.py:450: UserWarning: X does not have valid feature names, but LogisticRegression was fitted with feature names\n",
      "  warnings.warn(\n"
     ]
    }
   ],
   "source": [
    "reg=LogisticRegression(solver='newton-cg',C = Copt, max_iter=100)\n",
    "DatosRL = reg.fit(X_train_1, y_train_1)\n",
    "predRL = reg.predict(X_test_1)\n",
    "prob_pred = reg.predict_proba(X_test_1)"
   ]
  },
  {
   "cell_type": "code",
   "execution_count": null,
   "id": "d01rgACcTLwE",
   "metadata": {
    "colab": {
     "base_uri": "https://localhost:8080/"
    },
    "id": "d01rgACcTLwE",
    "outputId": "df964923-466c-4094-e9a3-94ecdab61a42"
   },
   "outputs": [
    {
     "data": {
      "text/plain": [
       "array([[ -0.16306286,  -0.364289  ,   0.27320694,  -4.27715163,\n",
       "         -0.56105993,   0.76829022,  -0.29634595,   0.14226156,\n",
       "         -1.25551452,  -1.08888355,   0.5961002 ,  -1.6967592 ,\n",
       "        -18.56189934,  -0.52200992,  -0.8087634 ,  -0.471471  ,\n",
       "         -3.08173582,   1.55073509,   0.49049704,  -0.2147877 ]])"
      ]
     },
     "execution_count": 67,
     "metadata": {},
     "output_type": "execute_result"
    }
   ],
   "source": [
    "reg.coef_"
   ]
  },
  {
   "cell_type": "code",
   "execution_count": null,
   "id": "NMnJHmkcTRSP",
   "metadata": {
    "colab": {
     "base_uri": "https://localhost:8080/",
     "height": 350
    },
    "id": "NMnJHmkcTRSP",
    "outputId": "f258c610-a56b-4d99-ab6e-6a2d002374e0"
   },
   "outputs": [
    {
     "data": {
      "image/png": "[encoded data removed]",
      "text/plain": [
       "<Figure size 432x360 with 2 Axes>"
      ]
     },
     "metadata": {
      "needs_background": "light"
     },
     "output_type": "display_data"
    }
   ],
   "source": [
    "conf_matrix= confusion_matrix(y_test_1, predRL)\n",
    "plt.figure(figsize=(6,5))\n",
    "labels= ['Mortal ', 'No Mortal']\n",
    "sns.heatmap(conf_matrix, xticklabels=labels, yticklabels=labels, annot= True, fmt='d')\n",
    "plt.title('Confusión matrix Regresión Logística')\n",
    "plt.ylabel('True class')\n",
    "plt.xlabel('Predicted class')\n",
    "plt.show()"
   ]
  },
  {
   "cell_type": "markdown",
   "id": "W5P8FSyPP-fj",
   "metadata": {
    "id": "W5P8FSyPP-fj"
   },
   "source": [
    "Esta tabla describe el rendimiento del un modelo supervisado de Machine Learning en los datos de prueba donde se desconocen los verdaderos valores. Se llama \"matriz de confución\" porque hace que sea fácil detectar dónde es sistema está confundiendo dos clases.  Esta tabla es utilizada para un problema de clasificación en el que estamos prediciendo si una persona ha tenido un accidente mortal o no. "
   ]
  },
  {
   "cell_type": "markdown",
   "id": "jJ1O74GUQelR",
   "metadata": {
    "id": "jJ1O74GUQelR"
   },
   "source": [
    "Anteriormente hemos asignado el valor 0 a los accidentes mortales y el 1 a los no mortales. "
   ]
  },
  {
   "cell_type": "markdown",
   "id": "rjoylinLQwWA",
   "metadata": {
    "id": "rjoylinLQwWA"
   },
   "source": [
    "En la cuadrícula vemos que: "
   ]
  },
  {
   "cell_type": "markdown",
   "id": "caU2Y4hdQ65f",
   "metadata": {
    "id": "caU2Y4hdQ65f"
   },
   "source": [
    "True negative (0,0): persona que ha tenido un accidente mortal y el modelo lo clasifica como accidente mortal. "
   ]
  },
  {
   "cell_type": "markdown",
   "id": "3eLXk4IsQyF_",
   "metadata": {
    "id": "3eLXk4IsQyF_"
   },
   "source": [
    "True positive (1,1): persona que ha tenido un accidente no mortal y el modelo lo clasifica como accidente no mortal.\n"
   ]
  },
  {
   "cell_type": "markdown",
   "id": "2zsiby6cRyhX",
   "metadata": {
    "id": "2zsiby6cRyhX"
   },
   "source": [
    "False positive (0,1): persona que ha tenido un accidente mortal y el modelo lo clasifica como accidente no mortal. "
   ]
  },
  {
   "cell_type": "markdown",
   "id": "eCVFbJ4_SEJt",
   "metadata": {
    "id": "eCVFbJ4_SEJt"
   },
   "source": [
    "False negative (1,0): persona que ha tenido un accidente no mortal y el modelo lo clasifica como accidente mortal."
   ]
  },
  {
   "cell_type": "markdown",
   "id": "NCe2Y0LaSOvv",
   "metadata": {
    "id": "NCe2Y0LaSOvv"
   },
   "source": [
    "Vemos que los resultados con test son: hay 17481 han sido clasificados como true negative, 17880 como true positive, 6698 false negative y 7098 false positive. "
   ]
  },
  {
   "cell_type": "code",
   "execution_count": null,
   "id": "1ahAGDXxTU0g",
   "metadata": {
    "colab": {
     "base_uri": "https://localhost:8080/"
    },
    "id": "1ahAGDXxTU0g",
    "outputId": "88dca0b3-b114-478c-d1f7-ae6ff3cd8dc6"
   },
   "outputs": [
    {
     "name": "stdout",
     "output_type": "stream",
     "text": [
      "Por lo tanto nuestra tasa de acierto:  0.7193482108346726\n"
     ]
    }
   ],
   "source": [
    "print('Por lo tanto nuestra tasa de acierto: ', accuracy_score(predRL, y_test_1))"
   ]
  },
  {
   "cell_type": "markdown",
   "id": "zSrlg-efSrQN",
   "metadata": {
    "id": "zSrlg-efSrQN"
   },
   "source": [
    "La tasa de acierto es de aproximadamente un 72%."
   ]
  },
  {
   "cell_type": "code",
   "execution_count": null,
   "id": "ajXG8j7mTXbg",
   "metadata": {
    "colab": {
     "base_uri": "https://localhost:8080/"
    },
    "id": "ajXG8j7mTXbg",
    "outputId": "268b83c3-7a3e-42fc-d7ca-7542974b1a71"
   },
   "outputs": [
    {
     "name": "stdout",
     "output_type": "stream",
     "text": [
      "              precision    recall  f1-score   support\n",
      "\n",
      "           0       0.72      0.71      0.72     24579\n",
      "           1       0.72      0.73      0.72     24578\n",
      "\n",
      "    accuracy                           0.72     49157\n",
      "   macro avg       0.72      0.72      0.72     49157\n",
      "weighted avg       0.72      0.72      0.72     49157\n",
      "\n"
     ]
    }
   ],
   "source": [
    "from sklearn.metrics import classification_report\n",
    "\n",
    "print(classification_report(y_test_1, predRL))"
   ]
  },
  {
   "cell_type": "markdown",
   "id": "anMkLIhVji10",
   "metadata": {
    "id": "anMkLIhVji10"
   },
   "source": [
    "Vemos que las métricas están muy igualadas con un 72% de precisión"
   ]
  },
  {
   "cell_type": "markdown",
   "id": "tuAXf8eeTbM5",
   "metadata": {
    "id": "tuAXf8eeTbM5"
   },
   "source": [
    "Área bajo la curva:"
   ]
  },
  {
   "cell_type": "code",
   "execution_count": null,
   "id": "VO8np6hjTbLH",
   "metadata": {
    "colab": {
     "base_uri": "https://localhost:8080/",
     "height": 279
    },
    "id": "VO8np6hjTbLH",
    "outputId": "12136317-fad7-45c9-a340-7720287fe43b"
   },
   "outputs": [
    {
     "data": {
      "image/png": "[encoded data removed]",
      "text/plain": [
       "<Figure size 432x288 with 1 Axes>"
      ]
     },
     "metadata": {
      "needs_background": "light"
     },
     "output_type": "display_data"
    }
   ],
   "source": [
    "y_prob = reg.predict_proba(X_test_1)[:,1]\n",
    "from sklearn.metrics import roc_curve, auc\n",
    "\n",
    "ejex, ejey, _ = roc_curve(y_test_1, y_prob)\n",
    "roc_auc = auc(ejex, ejey)\n",
    "\n",
    "plt.figure()\n",
    "plt.plot(ejex, ejey, color = 'darkorange', lw = 2, label = 'AUC = %0.2f' % roc_auc)\n",
    "\n",
    "plt.plot([0, 1], [0, 1], color = (0.6, 0.6, 0.6), linestyle = '--')\n",
    "plt.plot([0, 0, 1], [0, 1, 1], lw = 2, linestyle = ':',color = 'black', label = 'Clasificador perfecto')\n",
    "\n",
    "plt.xlim([-0.05, 1.05])\n",
    "plt.ylim([-0.05, 1.05])\n",
    "\n",
    "plt.xlabel('FPR (1-ESP)')\n",
    "plt.ylabel('SEN')\n",
    "plt.legend(loc=\"lower right\")\n",
    "plt.show()"
   ]
  },
  {
   "cell_type": "markdown",
   "id": "_P6uXmKcTf33",
   "metadata": {
    "id": "_P6uXmKcTf33"
   },
   "source": [
    "La curva ROC nos dice cómo de bueno es nuestro modelo a la hora de distinguir entre dos clases, en este caso los accidentes mortales y no mortales. Esta curva está definida por la sensibilidad que es la tasa de verdadero positivo y \"1-ESP\" es la tasa de falso positivo. La métrica de evaluación AUC se calucla como el área bajo una curva ROC y es uan representación escalar del rendimiento esperado de un clasificador. La métrica AUC mide la tasa de positivos verdaderos frente a la tasa de falsos positivos. El valor obtenido es 0.79, por lo que hay un 79% de probabilidad de qeu el modelo pueda distinguir entre clase positiva y clase negativa. Es decir, entre (mortal, mortal) y (no mortal, no mortal)."
   ]
  },
  {
   "cell_type": "markdown",
   "id": "erU9893bPcxy",
   "metadata": {
    "id": "erU9893bPcxy"
   },
   "source": [
    "# ÁRBOLES DE DECISIÓN"
   ]
  },
  {
   "cell_type": "markdown",
   "id": "esR-cMYfVNAj",
   "metadata": {
    "id": "esR-cMYfVNAj"
   },
   "source": [
    "**faltan cosas **\n",
    "En primer lugar vamos a estudiar la precisión obtenida por validación cruzada para distintos valores del parámetro \"max_depth\" (profundidad del árbol) y, así, poder decidir qué valor utilizar en nuestro modelo."
   ]
  },
  {
   "cell_type": "markdown",
   "id": "F9a4v3aIVM77",
   "metadata": {
    "id": "F9a4v3aIVM77"
   },
   "source": []
  },
  {
   "cell_type": "code",
   "execution_count": null,
   "id": "__BuE5GlVazl",
   "metadata": {
    "id": "__BuE5GlVazl"
   },
   "outputs": [],
   "source": [
    "from sklearn import tree\n",
    "from sklearn.tree import DecisionTreeClassifier"
   ]
  },
  {
   "cell_type": "code",
   "execution_count": null,
   "id": "h9uqOVLbVaEJ",
   "metadata": {
    "colab": {
     "base_uri": "https://localhost:8080/",
     "height": 319
    },
    "id": "h9uqOVLbVaEJ",
    "outputId": "b36c9f3c-72ef-4e62-c840-69ab7474ddd5",
    "scrolled": true
   },
   "outputs": [
    {
     "name": "stdout",
     "output_type": "stream",
     "text": [
      "best mean cross-validation score: 0.809\n",
      "best parameters: {'max_depth': 9}\n"
     ]
    },
    {
     "data": {
      "image/png": "[encoded data removed]",
      "text/plain": [
       "<Figure size 432x288 with 1 Axes>"
      ]
     },
     "metadata": {
      "needs_background": "light"
     },
     "output_type": "display_data"
    }
   ],
   "source": [
    "maxDepth = range(1,10)\n",
    "param_grid = {'max_depth': maxDepth }\n",
    "\n",
    "grid = GridSearchCV(DecisionTreeClassifier(), scoring= 'accuracy', param_grid=param_grid, cv = 5)\n",
    "grid.fit(X_train_1, y_train_1)\n",
    "print(\"best mean cross-validation score: {:.3f}\".format(grid.best_score_))\n",
    "print(\"best parameters: {}\".format(grid.best_params_))\n",
    "\n",
    "scores = np.array(grid.cv_results_['mean_test_score'])\n",
    "plt.plot(maxDepth,scores,'-o')\n",
    "plt.xlabel('max depth',fontsize=16)\n",
    "plt.ylabel('5-Fold Acc')\n",
    "plt.show()"
   ]
  },
  {
   "cell_type": "markdown",
   "id": "8qHN4PPCVmBe",
   "metadata": {
    "id": "8qHN4PPCVmBe"
   },
   "source": [
    "Nuestro mejor resultado es para \"max_depth\" = 9 con una precisión de casi un 81%. "
   ]
  },
  {
   "cell_type": "code",
   "execution_count": null,
   "id": "2Y5Xm34oVztb",
   "metadata": {
    "colab": {
     "base_uri": "https://localhost:8080/"
    },
    "id": "2Y5Xm34oVztb",
    "outputId": "e959df99-e601-402c-ad62-00edb017dc79"
   },
   "outputs": [
    {
     "data": {
      "text/html": [
       "<style>#sk-container-id-1 {color: black;background-color: white;}#sk-container-id-1 pre{padding: 0;}#sk-container-id-1 div.sk-toggleable {background-color: white;}#sk-container-id-1 label.sk-toggleable__label {cursor: pointer;display: block;width: 100%;margin-bottom: 0;padding: 0.3em;box-sizing: border-box;text-align: center;}#sk-container-id-1 label.sk-toggleable__label-arrow:before {content: \"▸\";float: left;margin-right: 0.25em;color: #696969;}#sk-container-id-1 label.sk-toggleable__label-arrow:hover:before {color: black;}#sk-container-id-1 div.sk-estimator:hover label.sk-toggleable__label-arrow:before {color: black;}#sk-container-id-1 div.sk-toggleable__content {max-height: 0;max-width: 0;overflow: hidden;text-align: left;background-color: #f0f8ff;}#sk-container-id-1 div.sk-toggleable__content pre {margin: 0.2em;color: black;border-radius: 0.25em;background-color: #f0f8ff;}#sk-container-id-1 input.sk-toggleable__control:checked~div.sk-toggleable__content {max-height: 200px;max-width: 100%;overflow: auto;}#sk-container-id-1 input.sk-toggleable__control:checked~label.sk-toggleable__label-arrow:before {content: \"▾\";}#sk-container-id-1 div.sk-estimator input.sk-toggleable__control:checked~label.sk-toggleable__label {background-color: #d4ebff;}#sk-container-id-1 div.sk-label input.sk-toggleable__control:checked~label.sk-toggleable__label {background-color: #d4ebff;}#sk-container-id-1 input.sk-hidden--visually {border: 0;clip: rect(1px 1px 1px 1px);clip: rect(1px, 1px, 1px, 1px);height: 1px;margin: -1px;overflow: hidden;padding: 0;position: absolute;width: 1px;}#sk-container-id-1 div.sk-estimator {font-family: monospace;background-color: #f0f8ff;border: 1px dotted black;border-radius: 0.25em;box-sizing: border-box;margin-bottom: 0.5em;}#sk-container-id-1 div.sk-estimator:hover {background-color: #d4ebff;}#sk-container-id-1 div.sk-parallel-item::after {content: \"\";width: 100%;border-bottom: 1px solid gray;flex-grow: 1;}#sk-container-id-1 div.sk-label:hover label.sk-toggleable__label {background-color: #d4ebff;}#sk-container-id-1 div.sk-serial::before {content: \"\";position: absolute;border-left: 1px solid gray;box-sizing: border-box;top: 0;bottom: 0;left: 50%;z-index: 0;}#sk-container-id-1 div.sk-serial {display: flex;flex-direction: column;align-items: center;background-color: white;padding-right: 0.2em;padding-left: 0.2em;position: relative;}#sk-container-id-1 div.sk-item {position: relative;z-index: 1;}#sk-container-id-1 div.sk-parallel {display: flex;align-items: stretch;justify-content: center;background-color: white;position: relative;}#sk-container-id-1 div.sk-item::before, #sk-container-id-1 div.sk-parallel-item::before {content: \"\";position: absolute;border-left: 1px solid gray;box-sizing: border-box;top: 0;bottom: 0;left: 50%;z-index: -1;}#sk-container-id-1 div.sk-parallel-item {display: flex;flex-direction: column;z-index: 1;position: relative;background-color: white;}#sk-container-id-1 div.sk-parallel-item:first-child::after {align-self: flex-end;width: 50%;}#sk-container-id-1 div.sk-parallel-item:last-child::after {align-self: flex-start;width: 50%;}#sk-container-id-1 div.sk-parallel-item:only-child::after {width: 0;}#sk-container-id-1 div.sk-dashed-wrapped {border: 1px dashed gray;margin: 0 0.4em 0.5em 0.4em;box-sizing: border-box;padding-bottom: 0.4em;background-color: white;}#sk-container-id-1 div.sk-label label {font-family: monospace;font-weight: bold;display: inline-block;line-height: 1.2em;}#sk-container-id-1 div.sk-label-container {text-align: center;}#sk-container-id-1 div.sk-container {/* jupyter's `normalize.less` sets `[hidden] { display: none; }` but bootstrap.min.css set `[hidden] { display: none !important; }` so we also need the `!important` here to be able to override the default hidden behavior on the sphinx rendered scikit-learn.org. See: https://github.com/scikit-learn/scikit-learn/issues/21755 */display: inline-block !important;position: relative;}#sk-container-id-1 div.sk-text-repr-fallback {display: none;}</style><div id=\"sk-container-id-1\" class=\"sk-top-container\"><div class=\"sk-text-repr-fallback\"><pre>DecisionTreeClassifier(max_depth=9)</pre><b>In a Jupyter environment, please rerun this cell to show the HTML representation or trust the notebook. <br />On GitHub, the HTML representation is unable to render, please try loading this page with nbviewer.org.</b></div><div class=\"sk-container\" hidden><div class=\"sk-item\"><div class=\"sk-estimator sk-toggleable\"><input class=\"sk-toggleable__control sk-hidden--visually\" id=\"sk-estimator-id-1\" type=\"checkbox\" checked><label for=\"sk-estimator-id-1\" class=\"sk-toggleable__label sk-toggleable__label-arrow\">DecisionTreeClassifier</label><div class=\"sk-toggleable__content\"><pre>DecisionTreeClassifier(max_depth=9)</pre></div></div></div></div></div>"
      ],
      "text/plain": [
       "DecisionTreeClassifier(max_depth=9)"
      ]
     },
     "execution_count": 73,
     "metadata": {},
     "output_type": "execute_result"
    }
   ],
   "source": [
    "arbol = DecisionTreeClassifier(max_depth = 9)\n",
    "arbol.fit(X_train_1, y_train_1)"
   ]
  },
  {
   "cell_type": "code",
   "execution_count": null,
   "id": "RCHUiSZmV7Lz",
   "metadata": {
    "id": "RCHUiSZmV7Lz",
    "outputId": "cbfd3fd1-e7d8-48b1-b8e7-7540dac6b7b2"
   },
   "outputs": [
    {
     "name": "stderr",
     "output_type": "stream",
     "text": [
      "C:\\Users\\ANA\\anaconda3\\lib\\site-packages\\sklearn\\base.py:450: UserWarning: X does not have valid feature names, but DecisionTreeClassifier was fitted with feature names\n",
      "  warnings.warn(\n"
     ]
    }
   ],
   "source": [
    "y_pred_train = arbol.predict(X_train_1)\n",
    "y_pred_test = arbol.predict(X_test_1)"
   ]
  },
  {
   "cell_type": "code",
   "execution_count": null,
   "id": "2SVWBAeOWKwV",
   "metadata": {
    "id": "2SVWBAeOWKwV"
   },
   "outputs": [],
   "source": [
    "#errores en train"
   ]
  },
  {
   "cell_type": "code",
   "execution_count": null,
   "id": "9ff26339",
   "metadata": {
    "id": "9ff26339"
   },
   "outputs": [],
   "source": [
    "from sklearn import metrics"
   ]
  },
  {
   "cell_type": "code",
   "execution_count": null,
   "id": "b425889c",
   "metadata": {
    "id": "b425889c"
   },
   "outputs": [],
   "source": [
    "from sklearn.metrics import roc_curve, auc"
   ]
  },
  {
   "cell_type": "markdown",
   "id": "dXjzp_EuV8rQ",
   "metadata": {
    "id": "dXjzp_EuV8rQ"
   },
   "source": [
    "# Matriz de confusión "
   ]
  },
  {
   "cell_type": "code",
   "execution_count": null,
   "id": "ELzZ8dw9Wg53",
   "metadata": {
    "colab": {
     "base_uri": "https://localhost:8080/",
     "height": 225
    },
    "id": "ELzZ8dw9Wg53",
    "outputId": "e6e0ab31-f606-4c8d-af51-5d8b37bf817b"
   },
   "outputs": [
    {
     "data": {
      "image/png": "[encoded data removed]",
      "text/plain": [
       "<Figure size 216x216 with 1 Axes>"
      ]
     },
     "metadata": {
      "needs_background": "light"
     },
     "output_type": "display_data"
    }
   ],
   "source": [
    "confmat_train = metrics.confusion_matrix(y_train_1, y_pred_train)\n",
    "plot_confusion_matrix(confmat_train)"
   ]
  },
  {
   "cell_type": "markdown",
   "id": "DcHaOSQMWAJR",
   "metadata": {
    "id": "DcHaOSQMWAJR"
   },
   "source": [
    "Al igual que antes vemos que el modelo funciona correctamente. Donde más valores hay es en true negative y true positive y donde menos en false negative y false positive. El mayor valor lo obtiene el true positive con 64180 datos y el menor valor el false negative con 9556 datos. \n"
   ]
  },
  {
   "cell_type": "code",
   "execution_count": null,
   "id": "s8coLtqJWg8j",
   "metadata": {
    "colab": {
     "base_uri": "https://localhost:8080/",
     "height": 368
    },
    "id": "s8coLtqJWg8j",
    "outputId": "07919084-0ae0-4677-9031-e474a00c1ebd"
   },
   "outputs": [
    {
     "name": "stdout",
     "output_type": "stream",
     "text": [
      "ACC:  0.8161808084301321\n",
      "SEN:  0.8704025170879895\n",
      "ESP:  0.7619583644131009\n",
      "PPV:  0.7852493515391769\n",
      "FSC:  0.8256361437723518\n"
     ]
    },
    {
     "data": {
      "image/png": "[encoded data removed]",
      "text/plain": [
       "<Figure size 432x288 with 1 Axes>"
      ]
     },
     "metadata": {
      "needs_background": "light"
     },
     "output_type": "display_data"
    }
   ],
   "source": [
    "calcula_metricas(confmat_train)"
   ]
  },
  {
   "cell_type": "markdown",
   "id": "xkxarQefXxo5",
   "metadata": {
    "id": "xkxarQefXxo5"
   },
   "source": [
    "En cuanto a las métricas del conjunto tenemos unos porcentajes muy altos de precisión. Por ejemplo, en el que más tenemos es una sensibilidad (SEN) del 87% seguido del F1-score (FSC) de aproximadamente un 83%. "
   ]
  },
  {
   "cell_type": "code",
   "execution_count": null,
   "id": "EVyrFxagWXRG",
   "metadata": {
    "id": "EVyrFxagWXRG"
   },
   "outputs": [],
   "source": [
    "#errores en test"
   ]
  },
  {
   "cell_type": "code",
   "execution_count": null,
   "id": "paE-9eHwWY9A",
   "metadata": {
    "colab": {
     "base_uri": "https://localhost:8080/",
     "height": 225
    },
    "id": "paE-9eHwWY9A",
    "outputId": "8bed6675-d0ea-40dc-f7bb-e171cbafb031"
   },
   "outputs": [
    {
     "data": {
      "image/png": "[encoded data removed]",
      "text/plain": [
       "<Figure size 216x216 with 1 Axes>"
      ]
     },
     "metadata": {
      "needs_background": "light"
     },
     "output_type": "display_data"
    }
   ],
   "source": [
    "confmat_test = metrics.confusion_matrix(y_test_1, y_pred_test)\n",
    "plot_confusion_matrix(confmat_test)"
   ]
  },
  {
   "cell_type": "markdown",
   "id": "keE9ynyIYV_x",
   "metadata": {
    "id": "keE9ynyIYV_x"
   },
   "source": [
    "Los resultados obtenidos para los datos de test siguen el mismo patrón que los datos de train, es decir, true negative es menor que true positive y false negative es menor que false positive. Además todos son una fracción de los datos con respecto al anterior. "
   ]
  },
  {
   "cell_type": "code",
   "execution_count": null,
   "id": "HG2JAgR-X_C_",
   "metadata": {
    "colab": {
     "base_uri": "https://localhost:8080/",
     "height": 368
    },
    "id": "HG2JAgR-X_C_",
    "outputId": "31a3a159-2251-4063-96b6-fa7f433229c6"
   },
   "outputs": [
    {
     "name": "stdout",
     "output_type": "stream",
     "text": [
      "ACC:  0.8095286530911162\n",
      "SEN:  0.8626006998128407\n",
      "ESP:  0.7564587656129216\n",
      "PPV:  0.779821238091735\n",
      "FSC:  0.8191248913358447\n"
     ]
    },
    {
     "data": {
      "image/png": "[encoded data removed]",
      "text/plain": [
       "<Figure size 432x288 with 1 Axes>"
      ]
     },
     "metadata": {
      "needs_background": "light"
     },
     "output_type": "display_data"
    }
   ],
   "source": [
    "calcula_metricas(confmat_test)"
   ]
  },
  {
   "cell_type": "code",
   "execution_count": null,
   "id": "iM59Dv6nYN51",
   "metadata": {
    "id": "iM59Dv6nYN51"
   },
   "outputs": [],
   "source": [
    "#curva roc"
   ]
  },
  {
   "cell_type": "code",
   "execution_count": null,
   "id": "W0nYtJC8YPhX",
   "metadata": {
    "colab": {
     "base_uri": "https://localhost:8080/",
     "height": 279
    },
    "id": "W0nYtJC8YPhX",
    "outputId": "462add2b-9ed1-47cf-c41d-2d54f1815b56"
   },
   "outputs": [
    {
     "name": "stderr",
     "output_type": "stream",
     "text": [
      "C:\\Users\\ANA\\anaconda3\\lib\\site-packages\\sklearn\\base.py:450: UserWarning: X does not have valid feature names, but DecisionTreeClassifier was fitted with feature names\n",
      "  warnings.warn(\n"
     ]
    },
    {
     "data": {
      "image/png": "[encoded data removed]",
      "text/plain": [
       "<Figure size 432x288 with 1 Axes>"
      ]
     },
     "metadata": {
      "needs_background": "light"
     },
     "output_type": "display_data"
    }
   ],
   "source": [
    "y_prob = arbol.predict_proba(X_test_1)[:,1]\n",
    "\n",
    "ejex, ejey, _ = roc_curve(y_test_1, y_prob)\n",
    "roc_auc = auc(ejex, ejey)\n",
    "\n",
    "plt.figure()\n",
    "plt.plot(ejex, ejey, color = 'darkorange', lw = 2, label = 'AUC = %0.2f' % roc_auc)\n",
    "\n",
    "plt.plot([0, 1], [0, 1], color = (0.6, 0.6, 0.6), linestyle = '--')\n",
    "plt.plot([0, 0, 1], [0, 1, 1], lw = 2, linestyle = ':',color = 'black', label = 'Clasificador perfecto')\n",
    "\n",
    "plt.xlim([-0.05, 1.05])\n",
    "plt.ylim([-0.05, 1.05])\n",
    "\n",
    "plt.xlabel('FPR (1-ESP)')\n",
    "plt.ylabel('SEN')\n",
    "plt.legend(loc=\"lower right\")\n",
    "plt.show()"
   ]
  },
  {
   "cell_type": "markdown",
   "id": "mMUn5zJNZOKh",
   "metadata": {
    "id": "mMUn5zJNZOKh"
   },
   "source": [
    "Vemos que con árboles de decisión la métrica AUC ha aumentado un 10%. "
   ]
  },
  {
   "cell_type": "code",
   "execution_count": null,
   "id": "CMK5FqO3YbnC",
   "metadata": {
    "id": "CMK5FqO3YbnC"
   },
   "outputs": [],
   "source": [
    "#random forest"
   ]
  },
  {
   "cell_type": "code",
   "execution_count": null,
   "id": "2t_UI9zZYe9S",
   "metadata": {
    "id": "2t_UI9zZYe9S"
   },
   "outputs": [],
   "source": [
    "from sklearn.ensemble import RandomForestClassifier"
   ]
  },
  {
   "cell_type": "code",
   "execution_count": null,
   "id": "C2sDtdd6YdCH",
   "metadata": {
    "colab": {
     "base_uri": "https://localhost:8080/",
     "height": 319
    },
    "id": "C2sDtdd6YdCH",
    "outputId": "f257142a-3dcb-4c05-8b06-6eee944063e2"
   },
   "outputs": [
    {
     "name": "stdout",
     "output_type": "stream",
     "text": [
      "best mean cross-validation score: 0.832\n",
      "best parameters: {'max_depth': 14}\n"
     ]
    },
    {
     "data": {
      "image/png": "[encoded data removed]",
      "text/plain": [
       "<Figure size 432x288 with 1 Axes>"
      ]
     },
     "metadata": {
      "needs_background": "light"
     },
     "output_type": "display_data"
    }
   ],
   "source": [
    "# grid search\n",
    "maxDepth = range(1,15)\n",
    "param_grid = {'max_depth': maxDepth}\n",
    "\n",
    "grid = GridSearchCV(RandomForestClassifier(n_estimators = 200), scoring= 'accuracy', param_grid = param_grid, cv = 5)\n",
    "grid.fit(X_train_1, y_train_1)\n",
    "print(\"best mean cross-validation score: {:.3f}\".format(grid.best_score_))\n",
    "print(\"best parameters: {}\".format(grid.best_params_))\n",
    "\n",
    "scores = np.array(grid.cv_results_['mean_test_score'])\n",
    "plt.plot(maxDepth,scores,'-o')\n",
    "plt.xlabel('max depth',fontsize=16)\n",
    "plt.ylabel('5-Fold Acc')\n",
    "plt.show()"
   ]
  },
  {
   "cell_type": "markdown",
   "id": "ixchK3CmZtlN",
   "metadata": {
    "id": "ixchK3CmZtlN"
   },
   "source": [
    "Mediante el método de validación estimamos la habilidad del modelo en nuevos datos donde obtenemos el mejor resultado con 83% para \"max_depth\" = 14."
   ]
  },
  {
   "cell_type": "code",
   "execution_count": null,
   "id": "oPxOHuBsar6G",
   "metadata": {
    "id": "oPxOHuBsar6G"
   },
   "outputs": [],
   "source": [
    "rf = RandomForestClassifier(n_estimators = 200, max_depth = 14).fit(X_train_1, y_train_1)"
   ]
  },
  {
   "cell_type": "code",
   "execution_count": null,
   "id": "8O9DhXDJaoMK",
   "metadata": {
    "id": "8O9DhXDJaoMK",
    "outputId": "0513d6e7-9c91-484d-c978-5c84bfb4d238"
   },
   "outputs": [
    {
     "name": "stderr",
     "output_type": "stream",
     "text": [
      "C:\\Users\\ANA\\anaconda3\\lib\\site-packages\\sklearn\\base.py:450: UserWarning: X does not have valid feature names, but RandomForestClassifier was fitted with feature names\n",
      "  warnings.warn(\n"
     ]
    }
   ],
   "source": [
    "y_pred_train = rf.predict(X_train_1)\n",
    "y_pred_test = rf.predict(X_test_1)"
   ]
  },
  {
   "cell_type": "code",
   "execution_count": null,
   "id": "qOoGjvwyaxzF",
   "metadata": {
    "id": "qOoGjvwyaxzF"
   },
   "outputs": [],
   "source": [
    "#error train"
   ]
  },
  {
   "cell_type": "code",
   "execution_count": null,
   "id": "OB99emkJa4Sp",
   "metadata": {
    "colab": {
     "base_uri": "https://localhost:8080/",
     "height": 225
    },
    "id": "OB99emkJa4Sp",
    "outputId": "47c96136-4689-4014-ba64-d249f4662536"
   },
   "outputs": [
    {
     "data": {
      "image/png": "[encoded data removed]",
      "text/plain": [
       "<Figure size 216x216 with 1 Axes>"
      ]
     },
     "metadata": {
      "needs_background": "light"
     },
     "output_type": "display_data"
    }
   ],
   "source": [
    "confmat_train = metrics.confusion_matrix(y_train_1, y_pred_train)\n",
    "plot_confusion_matrix(confmat_train)"
   ]
  },
  {
   "cell_type": "markdown",
   "id": "ALzBmz6Tb17i",
   "metadata": {
    "id": "ALzBmz6Tb17i"
   },
   "source": [
    "La matriz de confusión nos da: 19.049 casos clasificados como True negative, 5530 como false positive, 2806 como false negative y 21.772 como true positive. Estos resultados siguen siendo buenos ya que el modelo lo clasifica correctamente."
   ]
  },
  {
   "cell_type": "code",
   "execution_count": null,
   "id": "M3pgWiJDa-CV",
   "metadata": {
    "colab": {
     "base_uri": "https://localhost:8080/",
     "height": 368
    },
    "id": "M3pgWiJDa-CV",
    "outputId": "dc4ea50c-b0a1-4c33-f637-4b058790f579"
   },
   "outputs": [
    {
     "name": "stdout",
     "output_type": "stream",
     "text": [
      "ACC:  0.8670247031619777\n",
      "SEN:  0.92524682651622\n",
      "ESP:  0.8088017901946158\n",
      "PPV:  0.8287456572969558\n",
      "FSC:  0.8743415909469555\n"
     ]
    },
    {
     "data": {
      "image/png": "[encoded data removed]",
      "text/plain": [
       "<Figure size 432x288 with 1 Axes>"
      ]
     },
     "metadata": {
      "needs_background": "light"
     },
     "output_type": "display_data"
    }
   ],
   "source": [
    "calcula_metricas(confmat_train)"
   ]
  },
  {
   "cell_type": "markdown",
   "id": "VvFZbwU2a0gV",
   "metadata": {
    "id": "VvFZbwU2a0gV"
   },
   "source": [
    "Vemos que las métricas de sensibilidad y f1-Score vuelven a ser las más altas con un 92% y 87,4% de precisión."
   ]
  },
  {
   "cell_type": "code",
   "execution_count": null,
   "id": "iyETxfcJa_GT",
   "metadata": {
    "id": "iyETxfcJa_GT"
   },
   "outputs": [],
   "source": [
    "#error test"
   ]
  },
  {
   "cell_type": "code",
   "execution_count": null,
   "id": "sI9BeFx3bBbn",
   "metadata": {
    "colab": {
     "base_uri": "https://localhost:8080/",
     "height": 225
    },
    "id": "sI9BeFx3bBbn",
    "outputId": "2653e4db-2d9a-4301-a69c-48443525890f"
   },
   "outputs": [
    {
     "data": {
      "image/png": "[encoded data removed]",
      "text/plain": [
       "<Figure size 216x216 with 1 Axes>"
      ]
     },
     "metadata": {
      "needs_background": "light"
     },
     "output_type": "display_data"
    }
   ],
   "source": [
    "confmat_test = metrics.confusion_matrix(y_test_1, y_pred_test)\n",
    "plot_confusion_matrix(confmat_test)"
   ]
  },
  {
   "cell_type": "code",
   "execution_count": null,
   "id": "PgAoihDHbKy9",
   "metadata": {
    "colab": {
     "base_uri": "https://localhost:8080/",
     "height": 368
    },
    "id": "PgAoihDHbKy9",
    "outputId": "47161e91-99b3-40fe-b612-8f33db6a9945"
   },
   "outputs": [
    {
     "name": "stdout",
     "output_type": "stream",
     "text": [
      "ACC:  0.8304208963118173\n",
      "SEN:  0.8858328586540809\n",
      "ESP:  0.7750111884128728\n",
      "PPV:  0.7974507362098014\n",
      "FSC:  0.8393215111796453\n"
     ]
    },
    {
     "data": {
      "image/png": "[encoded data removed]",
      "text/plain": [
       "<Figure size 432x288 with 1 Axes>"
      ]
     },
     "metadata": {
      "needs_background": "light"
     },
     "output_type": "display_data"
    }
   ],
   "source": [
    "calcula_metricas(confmat_test)"
   ]
  },
  {
   "cell_type": "code",
   "execution_count": null,
   "id": "NXEFtvzmbSIM",
   "metadata": {
    "id": "NXEFtvzmbSIM"
   },
   "outputs": [],
   "source": [
    "#curva roc"
   ]
  },
  {
   "cell_type": "code",
   "execution_count": null,
   "id": "9WatyJn5bOG3",
   "metadata": {
    "colab": {
     "base_uri": "https://localhost:8080/",
     "height": 279
    },
    "id": "9WatyJn5bOG3",
    "outputId": "eefacfaa-2405-4d24-97a6-c001d7f4e169"
   },
   "outputs": [
    {
     "name": "stderr",
     "output_type": "stream",
     "text": [
      "C:\\Users\\ANA\\anaconda3\\lib\\site-packages\\sklearn\\base.py:450: UserWarning: X does not have valid feature names, but RandomForestClassifier was fitted with feature names\n",
      "  warnings.warn(\n"
     ]
    },
    {
     "data": {
      "image/png": "[encoded data removed]",
      "text/plain": [
       "<Figure size 432x288 with 1 Axes>"
      ]
     },
     "metadata": {
      "needs_background": "light"
     },
     "output_type": "display_data"
    }
   ],
   "source": [
    "y_prob = rf.predict_proba(X_test_1)[:,1]\n",
    "\n",
    "ejex, ejey, _ = roc_curve(y_test_1, y_prob)\n",
    "roc_auc = auc(ejex, ejey)\n",
    "\n",
    "plt.figure()\n",
    "plt.plot(ejex, ejey, color = 'darkorange', lw = 2, label = 'AUC = %0.2f' % roc_auc)\n",
    "\n",
    "plt.plot([0, 1], [0, 1], color = (0.6, 0.6, 0.6), linestyle = '--')\n",
    "plt.plot([0, 0, 1], [0, 1, 1], lw = 2, linestyle = ':',color = 'black', label = 'Clasificador perfecto')\n",
    "\n",
    "plt.xlim([-0.05, 1.05])\n",
    "plt.ylim([-0.05, 1.05])\n",
    "\n",
    "plt.xlabel('FPR (1-ESP)')\n",
    "plt.ylabel('SEN')\n",
    "plt.legend(loc=\"lower right\")\n",
    "plt.show()"
   ]
  },
  {
   "cell_type": "markdown",
   "id": "zsjRduO6ajC1",
   "metadata": {
    "id": "zsjRduO6ajC1"
   },
   "source": [
    "Respecto a los árboles de decisión la métrica AUC ha aumentado un 3%, con un 92%."
   ]
  },
  {
   "cell_type": "markdown",
   "id": "2UYPYGtReG0M",
   "metadata": {
    "id": "2UYPYGtReG0M"
   },
   "source": [
    "# KNN"
   ]
  },
  {
   "cell_type": "code",
   "execution_count": null,
   "id": "QLvd6Y1iu6BQ",
   "metadata": {
    "id": "QLvd6Y1iu6BQ"
   },
   "outputs": [],
   "source": [
    "from sklearn.impute import KNNImputer\n",
    "from sklearn.neighbors import KNeighborsClassifier\n",
    "from sklearn import metrics"
   ]
  },
  {
   "cell_type": "code",
   "execution_count": null,
   "id": "2a3e8087",
   "metadata": {
    "id": "2a3e8087",
    "outputId": "7cb9fbeb-a9a1-42a7-f5e0-ca5ecb0118a7"
   },
   "outputs": [
    {
     "name": "stderr",
     "output_type": "stream",
     "text": [
      "/home/mat/.local/lib/python3.8/site-packages/sklearn/base.py:450: UserWarning: X does not have valid feature names, but KNeighborsClassifier was fitted with feature names\n",
      "  warnings.warn(\n",
      "/home/mat/.local/lib/python3.8/site-packages/sklearn/base.py:450: UserWarning: X does not have valid feature names, but KNeighborsClassifier was fitted with feature names\n",
      "  warnings.warn(\n",
      "/home/mat/.local/lib/python3.8/site-packages/sklearn/base.py:450: UserWarning: X does not have valid feature names, but KNeighborsClassifier was fitted with feature names\n",
      "  warnings.warn(\n",
      "/home/mat/.local/lib/python3.8/site-packages/sklearn/base.py:450: UserWarning: X does not have valid feature names, but KNeighborsClassifier was fitted with feature names\n",
      "  warnings.warn(\n",
      "/home/mat/.local/lib/python3.8/site-packages/sklearn/base.py:450: UserWarning: X does not have valid feature names, but KNeighborsClassifier was fitted with feature names\n",
      "  warnings.warn(\n",
      "/home/mat/.local/lib/python3.8/site-packages/sklearn/base.py:450: UserWarning: X does not have valid feature names, but KNeighborsClassifier was fitted with feature names\n",
      "  warnings.warn(\n",
      "/home/mat/.local/lib/python3.8/site-packages/sklearn/base.py:450: UserWarning: X does not have valid feature names, but KNeighborsClassifier was fitted with feature names\n",
      "  warnings.warn(\n",
      "/home/mat/.local/lib/python3.8/site-packages/sklearn/base.py:450: UserWarning: X does not have valid feature names, but KNeighborsClassifier was fitted with feature names\n",
      "  warnings.warn(\n",
      "/home/mat/.local/lib/python3.8/site-packages/sklearn/base.py:450: UserWarning: X does not have valid feature names, but KNeighborsClassifier was fitted with feature names\n",
      "  warnings.warn(\n",
      "/home/mat/.local/lib/python3.8/site-packages/sklearn/base.py:450: UserWarning: X does not have valid feature names, but KNeighborsClassifier was fitted with feature names\n",
      "  warnings.warn(\n"
     ]
    }
   ],
   "source": [
    "# Vamos a estudiar qué valor del hiperpárametro k es el mejor analizando la precisión obtenida para cada valor de k:\n",
    "\n",
    "ks = list(range(1, 11)) #Creamos una lista con los valores 1, 2, 3, 4, 5, 6, 7, 8, 9, 10.\n",
    "\n",
    "# Creamos un diccionario en el que iremos recogiendo las accuracies (precisión) de las predicciones con los diferentes k´s\n",
    "accuracies = {}\n",
    "for k in ks:\n",
    "    # Definimos el modelo con el valor de hiperparámetro correspondiente\n",
    "    knn = KNeighborsClassifier(n_neighbors=k)\n",
    "    # Ajustamos a los datos de entrenamiento\n",
    "    knn.fit(X_train_1, y_train_1)\n",
    "    # Hacemos predicciones sobre los datos de test\n",
    "    y_pred_test = knn.predict(X_test_1)\n",
    "    # Evaluamos y guardamos la accuracy de cada uno\n",
    "    acc = metrics.accuracy_score(y_test_1, y_pred_test)\n",
    "    accuracies[k] = acc"
   ]
  },
  {
   "cell_type": "code",
   "execution_count": null,
   "id": "uhyGVQmvu6BR",
   "metadata": {
    "id": "uhyGVQmvu6BR",
    "outputId": "8aa402d7-8c27-44d4-9eba-93f97b89639b"
   },
   "outputs": [
    {
     "data": {
      "text/plain": [
       "{1: 0.7667070952092178,\n",
       " 2: 0.7381443298969073,\n",
       " 3: 0.7737416616130989,\n",
       " 4: 0.7630078835657974,\n",
       " 5: 0.7754396604002426,\n",
       " 6: 0.7752577319587629,\n",
       " 7: 0.778289872650091,\n",
       " 8: 0.7782292298362644,\n",
       " 9: 0.7813826561552456,\n",
       " 10: 0.7815039417828987}"
      ]
     },
     "execution_count": 90,
     "metadata": {},
     "output_type": "execute_result"
    }
   ],
   "source": [
    "accuracies"
   ]
  },
  {
   "cell_type": "code",
   "execution_count": null,
   "id": "J5lfeQsyu6BR",
   "metadata": {
    "id": "J5lfeQsyu6BR",
    "outputId": "7c9781dd-e6ef-4656-dcad-78cddfb8c98d"
   },
   "outputs": [
    {
     "data": {
      "image/png": "[encoded data removed]",
      "text/plain": [
       "<Figure size 432x288 with 1 Axes>"
      ]
     },
     "metadata": {
      "needs_background": "light"
     },
     "output_type": "display_data"
    }
   ],
   "source": [
    "ks_arr = np.fromiter(accuracies.keys(), dtype=int)\n",
    "accs_arr = np.fromiter(accuracies.values(), dtype=float)\n",
    "\n",
    "plt.plot(ks_arr, accs_arr, 'ok')\n",
    "plt.grid(True)\n",
    "plt.xlabel('Hiperparámetro $k$');\n",
    "plt.ylabel('Acc. sobre test');"
   ]
  },
  {
   "cell_type": "markdown",
   "id": "P7FlNrFhc-dX",
   "metadata": {
    "id": "P7FlNrFhc-dX"
   },
   "source": [
    "El mejor resultado se ha obtenido para k=10 con una precisión de más de 0,78."
   ]
  },
  {
   "cell_type": "code",
   "execution_count": null,
   "id": "g4vlrk6nu6BS",
   "metadata": {
    "id": "g4vlrk6nu6BS"
   },
   "outputs": [],
   "source": [
    "#Definimos el modelo\n",
    "\n",
    "knn = KNeighborsClassifier(n_neighbors=10)"
   ]
  },
  {
   "cell_type": "code",
   "execution_count": null,
   "id": "ZaWokUj3u6BS",
   "metadata": {
    "id": "ZaWokUj3u6BS",
    "outputId": "8b1f9c53-589f-4ec0-d681-51149d692c7e"
   },
   "outputs": [
    {
     "name": "stderr",
     "output_type": "stream",
     "text": [
      "/home/mat/.local/lib/python3.8/site-packages/sklearn/base.py:450: UserWarning: X does not have valid feature names, but KNeighborsClassifier was fitted with feature names\n",
      "  warnings.warn(\n"
     ]
    }
   ],
   "source": [
    "#Entrenamos el modelo\n",
    "knn.fit(X_train_1, y_train_1)\n",
    "\n",
    "#Realizamos una predicción\n",
    "y_pred_train=knn.predict(X_train_1)\n",
    "y_pred_test=knn.predict(X_test_1)"
   ]
  },
  {
   "cell_type": "code",
   "execution_count": null,
   "id": "Rem124Vdu6BS",
   "metadata": {
    "id": "Rem124Vdu6BS"
   },
   "outputs": [],
   "source": [
    "import funciones_auxiliares as f_aux"
   ]
  },
  {
   "cell_type": "code",
   "execution_count": null,
   "id": "QlPfvXmIu6BS",
   "metadata": {
    "id": "QlPfvXmIu6BS",
    "outputId": "9187143b-9bd1-4058-d3ac-57a17fc163c3"
   },
   "outputs": [
    {
     "data": {
      "image/png": "[encoded data removed]",
      "text/plain": [
       "<Figure size 216x216 with 1 Axes>"
      ]
     },
     "metadata": {
      "needs_background": "light"
     },
     "output_type": "display_data"
    }
   ],
   "source": [
    "# Matriz de confusión conjunto de entrenamiento:\n",
    "confmat_train = metrics.confusion_matrix(y_train_1,y_pred_train)\n",
    "f_aux.plot_confusion_matrix(confmat_train)"
   ]
  },
  {
   "cell_type": "markdown",
   "id": "8wX6E_LOdMXQ",
   "metadata": {
    "id": "8wX6E_LOdMXQ"
   },
   "source": [
    "Los resultados para la metriz de entrenamiento son para: true negative con 19927 y true positive con 20689. Respecto el algoritmo anterior ha aumentado el false negative con más de 2000 casos."
   ]
  },
  {
   "cell_type": "code",
   "execution_count": null,
   "id": "HgmJ8_KKu6BS",
   "metadata": {
    "id": "HgmJ8_KKu6BS",
    "outputId": "66586331-9f05-4c70-862f-ef17f1db3f0b"
   },
   "outputs": [
    {
     "name": "stdout",
     "output_type": "stream",
     "text": [
      "ACC:  0.8210560362254387\n",
      "SEN:  0.8364599336945095\n",
      "ESP:  0.8056521387563678\n",
      "PPV:  0.8114606212739254\n",
      "FSC:  0.8237706549870596\n"
     ]
    },
    {
     "data": {
      "image/png": "[encoded data removed]",
      "text/plain": [
       "<Figure size 432x288 with 1 Axes>"
      ]
     },
     "metadata": {
      "needs_background": "light"
     },
     "output_type": "display_data"
    }
   ],
   "source": [
    "# Métricas conjunto de entrenamiento:\n",
    "f_aux.calcula_metricas(confmat_train)"
   ]
  },
  {
   "cell_type": "markdown",
   "id": "eZMdjelmdqPa",
   "metadata": {
    "id": "eZMdjelmdqPa"
   },
   "source": [
    "Las métricas del entrenamiento siguen el mismo patrón aunque hayan disminuido un poco. Con este algoritmo todas las métricas están muy igualadas."
   ]
  },
  {
   "cell_type": "code",
   "execution_count": null,
   "id": "_UTOuK8gu6BT",
   "metadata": {
    "id": "_UTOuK8gu6BT",
    "outputId": "340edacc-e0a1-4dfe-ec85-002719a8957c"
   },
   "outputs": [
    {
     "data": {
      "image/png": "[encoded data removed]",
      "text/plain": [
       "<Figure size 216x216 with 1 Axes>"
      ]
     },
     "metadata": {
      "needs_background": "light"
     },
     "output_type": "display_data"
    }
   ],
   "source": [
    "# Matriz de confusión conjunto de test:\n",
    "confmat_test = metrics.confusion_matrix(y_test_1,y_pred_test)\n",
    "f_aux.plot_confusion_matrix(confmat_test)"
   ]
  },
  {
   "cell_type": "code",
   "execution_count": null,
   "id": "mxob40smu6BT",
   "metadata": {
    "id": "mxob40smu6BT",
    "outputId": "17927274-4820-40a5-c629-01d805e2d49c"
   },
   "outputs": [
    {
     "name": "stdout",
     "output_type": "stream",
     "text": [
      "ACC:  0.7815039417828987\n",
      "SEN:  0.8015767131594906\n",
      "ESP:  0.7614311704063068\n",
      "PPV:  0.7706389925373134\n",
      "FSC:  0.7858034599607634\n"
     ]
    },
    {
     "data": {
      "image/png": "[encoded data removed]",
      "text/plain": [
       "<Figure size 432x288 with 1 Axes>"
      ]
     },
     "metadata": {
      "needs_background": "light"
     },
     "output_type": "display_data"
    }
   ],
   "source": [
    "# Métricas conjunto de test:\n",
    "f_aux.calcula_metricas(confmat_test)"
   ]
  },
  {
   "cell_type": "code",
   "execution_count": null,
   "id": "z4a5rsa0u6BT",
   "metadata": {
    "id": "z4a5rsa0u6BT"
   },
   "outputs": [],
   "source": [
    "from sklearn.metrics import classification_report, confusion_matrix, roc_curve, auc, \\\n",
    "                            silhouette_score, recall_score, precision_score, make_scorer, \\\n",
    "                            roc_auc_score, f1_score, precision_recall_curve, accuracy_score, roc_auc_score, \\\n",
    "                            classification_report, confusion_matrix"
   ]
  },
  {
   "cell_type": "code",
   "execution_count": null,
   "id": "TGgmtifqu6BT",
   "metadata": {
    "id": "TGgmtifqu6BT",
    "outputId": "97ac693d-0c9c-4a4f-9ff7-7a64588d5a70"
   },
   "outputs": [
    {
     "name": "stderr",
     "output_type": "stream",
     "text": [
      "/home/mat/.local/lib/python3.8/site-packages/sklearn/base.py:450: UserWarning: X does not have valid feature names, but KNeighborsClassifier was fitted with feature names\n",
      "  warnings.warn(\n"
     ]
    },
    {
     "data": {
      "image/png": "[encoded data removed]",
      "text/plain": [
       "<Figure size 432x288 with 1 Axes>"
      ]
     },
     "metadata": {
      "needs_background": "light"
     },
     "output_type": "display_data"
    }
   ],
   "source": [
    "y_prob = knn.predict_proba(X_test_1)[:,1]\n",
    "\n",
    "ejex, ejey, _ = roc_curve(y_test_1, y_prob)\n",
    "roc_auc = auc(ejex, ejey)\n",
    "\n",
    "plt.figure()\n",
    "plt.plot(ejex, ejey, color = 'darkorange', lw = 2, label = 'AUC = %0.2f' % roc_auc)\n",
    "\n",
    "plt.plot([0, 1], [0, 1], color = (0.6, 0.6, 0.6), linestyle = '--')\n",
    "plt.plot([0, 0, 1], [0, 1, 1], lw = 2, linestyle = ':',color = 'black', label = 'Clasificador perfecto')\n",
    "\n",
    "plt.xlim([-0.05, 1.05])\n",
    "plt.ylim([-0.05, 1.05])\n",
    "\n",
    "plt.xlabel('FPR (1-ESP)')\n",
    "plt.ylabel('SEN')\n",
    "plt.legend(loc=\"lower right\")\n",
    "plt.show()"
   ]
  },
  {
   "cell_type": "markdown",
   "id": "aS2FGmsnd9q9",
   "metadata": {
    "id": "aS2FGmsnd9q9"
   },
   "source": [
    "Tenemos un 86% de acierto con la métrica AUC."
   ]
  },
  {
   "cell_type": "markdown",
   "id": "-Jr09ZozeDcd",
   "metadata": {
    "id": "-Jr09ZozeDcd"
   },
   "source": [
    "# GRADIENT BOOSTING"
   ]
  },
  {
   "cell_type": "code",
   "execution_count": null,
   "id": "jK_8JB71u6BU",
   "metadata": {
    "id": "jK_8JB71u6BU"
   },
   "outputs": [],
   "source": [
    "from sklearn.ensemble import GradientBoostingClassifier\n",
    "from sklearn.ensemble import RandomForestClassifier, AdaBoostClassifier"
   ]
  },
  {
   "cell_type": "code",
   "execution_count": null,
   "id": "9V9P2tk4u6BU",
   "metadata": {
    "id": "9V9P2tk4u6BU",
    "outputId": "c4f1f17a-750c-4fe6-998e-6f06ee5fee95"
   },
   "outputs": [
    {
     "name": "stdout",
     "output_type": "stream",
     "text": [
      "RandomForestClassifier()\n"
     ]
    },
    {
     "name": "stderr",
     "output_type": "stream",
     "text": [
      "/home/mat/.local/lib/python3.8/site-packages/sklearn/base.py:450: UserWarning: X does not have valid feature names, but RandomForestClassifier was fitted with feature names\n",
      "  warnings.warn(\n"
     ]
    },
    {
     "name": "stdout",
     "output_type": "stream",
     "text": [
      "model score: 0.839\n",
      "GradientBoostingClassifier()\n",
      "model score: 0.813\n"
     ]
    },
    {
     "name": "stderr",
     "output_type": "stream",
     "text": [
      "/home/mat/.local/lib/python3.8/site-packages/sklearn/base.py:450: UserWarning: X does not have valid feature names, but GradientBoostingClassifier was fitted with feature names\n",
      "  warnings.warn(\n"
     ]
    }
   ],
   "source": [
    "classifiers = [\n",
    "    RandomForestClassifier(),\n",
    "    GradientBoostingClassifier()\n",
    "    ]# estudiar los hiperparametros y usar cualquier modelo aprendido\n",
    "\n",
    "for classifier in classifiers:\n",
    "    pipe = Pipeline(steps=[('classifier', classifier)])\n",
    "    pipe.fit(X_train_1, y_train_1)   \n",
    "    print(classifier)\n",
    "    print(\"model score: %.3f\" % pipe.score(X_test_1, y_test_1))"
   ]
  },
  {
   "cell_type": "markdown",
   "id": "h2WIo-WYebvS",
   "metadata": {
    "id": "h2WIo-WYebvS"
   },
   "source": [
    "Obtenemos una tasa de acierto del 81,3% para el GradientBoosting."
   ]
  },
  {
   "cell_type": "code",
   "execution_count": null,
   "id": "UsBnbIaUu6BU",
   "metadata": {
    "id": "UsBnbIaUu6BU",
    "outputId": "d67cae3f-9d74-4e6e-d50a-1d1a909bc713"
   },
   "outputs": [
    {
     "name": "stdout",
     "output_type": "stream",
     "text": [
      "      Iter       Train Loss   Remaining Time \n",
      "         1           1.3079           44.67s\n",
      "         2           1.2447           44.67s\n",
      "         3           1.1917           39.88s\n",
      "         4           1.1452           38.27s\n",
      "         5           1.1071           40.47s\n",
      "         6           1.0728           43.27s\n",
      "         7           1.0378           45.57s\n",
      "         8           1.0090           46.70s\n",
      "         9           0.9867           45.95s\n",
      "        10           0.9633           46.99s\n",
      "        20           0.8327           43.07s\n",
      "        30           0.7827           37.05s\n",
      "        40           0.7568           30.15s\n",
      "        50           0.7408           24.95s\n",
      "        60           0.7291           20.63s\n",
      "        70           0.7206           16.79s\n",
      "        80           0.7132           13.53s\n",
      "        90           0.7066           10.41s\n",
      "       100           0.7007            7.82s\n"
     ]
    },
    {
     "data": {
      "text/html": [
       "<style>#sk-container-id-1 {color: black;background-color: white;}#sk-container-id-1 pre{padding: 0;}#sk-container-id-1 div.sk-toggleable {background-color: white;}#sk-container-id-1 label.sk-toggleable__label {cursor: pointer;display: block;width: 100%;margin-bottom: 0;padding: 0.3em;box-sizing: border-box;text-align: center;}#sk-container-id-1 label.sk-toggleable__label-arrow:before {content: \"▸\";float: left;margin-right: 0.25em;color: #696969;}#sk-container-id-1 label.sk-toggleable__label-arrow:hover:before {color: black;}#sk-container-id-1 div.sk-estimator:hover label.sk-toggleable__label-arrow:before {color: black;}#sk-container-id-1 div.sk-toggleable__content {max-height: 0;max-width: 0;overflow: hidden;text-align: left;background-color: #f0f8ff;}#sk-container-id-1 div.sk-toggleable__content pre {margin: 0.2em;color: black;border-radius: 0.25em;background-color: #f0f8ff;}#sk-container-id-1 input.sk-toggleable__control:checked~div.sk-toggleable__content {max-height: 200px;max-width: 100%;overflow: auto;}#sk-container-id-1 input.sk-toggleable__control:checked~label.sk-toggleable__label-arrow:before {content: \"▾\";}#sk-container-id-1 div.sk-estimator input.sk-toggleable__control:checked~label.sk-toggleable__label {background-color: #d4ebff;}#sk-container-id-1 div.sk-label input.sk-toggleable__control:checked~label.sk-toggleable__label {background-color: #d4ebff;}#sk-container-id-1 input.sk-hidden--visually {border: 0;clip: rect(1px 1px 1px 1px);clip: rect(1px, 1px, 1px, 1px);height: 1px;margin: -1px;overflow: hidden;padding: 0;position: absolute;width: 1px;}#sk-container-id-1 div.sk-estimator {font-family: monospace;background-color: #f0f8ff;border: 1px dotted black;border-radius: 0.25em;box-sizing: border-box;margin-bottom: 0.5em;}#sk-container-id-1 div.sk-estimator:hover {background-color: #d4ebff;}#sk-container-id-1 div.sk-parallel-item::after {content: \"\";width: 100%;border-bottom: 1px solid gray;flex-grow: 1;}#sk-container-id-1 div.sk-label:hover label.sk-toggleable__label {background-color: #d4ebff;}#sk-container-id-1 div.sk-serial::before {content: \"\";position: absolute;border-left: 1px solid gray;box-sizing: border-box;top: 0;bottom: 0;left: 50%;z-index: 0;}#sk-container-id-1 div.sk-serial {display: flex;flex-direction: column;align-items: center;background-color: white;padding-right: 0.2em;padding-left: 0.2em;position: relative;}#sk-container-id-1 div.sk-item {position: relative;z-index: 1;}#sk-container-id-1 div.sk-parallel {display: flex;align-items: stretch;justify-content: center;background-color: white;position: relative;}#sk-container-id-1 div.sk-item::before, #sk-container-id-1 div.sk-parallel-item::before {content: \"\";position: absolute;border-left: 1px solid gray;box-sizing: border-box;top: 0;bottom: 0;left: 50%;z-index: -1;}#sk-container-id-1 div.sk-parallel-item {display: flex;flex-direction: column;z-index: 1;position: relative;background-color: white;}#sk-container-id-1 div.sk-parallel-item:first-child::after {align-self: flex-end;width: 50%;}#sk-container-id-1 div.sk-parallel-item:last-child::after {align-self: flex-start;width: 50%;}#sk-container-id-1 div.sk-parallel-item:only-child::after {width: 0;}#sk-container-id-1 div.sk-dashed-wrapped {border: 1px dashed gray;margin: 0 0.4em 0.5em 0.4em;box-sizing: border-box;padding-bottom: 0.4em;background-color: white;}#sk-container-id-1 div.sk-label label {font-family: monospace;font-weight: bold;display: inline-block;line-height: 1.2em;}#sk-container-id-1 div.sk-label-container {text-align: center;}#sk-container-id-1 div.sk-container {/* jupyter's `normalize.less` sets `[hidden] { display: none; }` but bootstrap.min.css set `[hidden] { display: none !important; }` so we also need the `!important` here to be able to override the default hidden behavior on the sphinx rendered scikit-learn.org. See: https://github.com/scikit-learn/scikit-learn/issues/21755 */display: inline-block !important;position: relative;}#sk-container-id-1 div.sk-text-repr-fallback {display: none;}</style><div id=\"sk-container-id-1\" class=\"sk-top-container\"><div class=\"sk-text-repr-fallback\"><pre>GradientBoostingClassifier(max_depth=12, min_weight_fraction_leaf=0.02,\n",
       "                           n_estimators=130, random_state=2408, verbose=1)</pre><b>In a Jupyter environment, please rerun this cell to show the HTML representation or trust the notebook. <br />On GitHub, the HTML representation is unable to render, please try loading this page with nbviewer.org.</b></div><div class=\"sk-container\" hidden><div class=\"sk-item\"><div class=\"sk-estimator sk-toggleable\"><input class=\"sk-toggleable__control sk-hidden--visually\" id=\"sk-estimator-id-1\" type=\"checkbox\" checked><label for=\"sk-estimator-id-1\" class=\"sk-toggleable__label sk-toggleable__label-arrow\">GradientBoostingClassifier</label><div class=\"sk-toggleable__content\"><pre>GradientBoostingClassifier(max_depth=12, min_weight_fraction_leaf=0.02,\n",
       "                           n_estimators=130, random_state=2408, verbose=1)</pre></div></div></div></div></div>"
      ],
      "text/plain": [
       "GradientBoostingClassifier(max_depth=12, min_weight_fraction_leaf=0.02,\n",
       "                           n_estimators=130, random_state=2408, verbose=1)"
      ]
     },
     "execution_count": 113,
     "metadata": {},
     "output_type": "execute_result"
    }
   ],
   "source": [
    "# Gradient boosting\n",
    "\n",
    "clf = GradientBoostingClassifier(\n",
    "              learning_rate=0.1,  max_depth=12,\n",
    "              min_weight_fraction_leaf=0.02, n_estimators=130,\n",
    "              random_state=2408,\n",
    "              verbose=1)\n",
    "clf.fit(X_train_1,y_train_1)"
   ]
  },
  {
   "cell_type": "code",
   "execution_count": null,
   "id": "oHkZiBaFu6BU",
   "metadata": {
    "id": "oHkZiBaFu6BU",
    "outputId": "07a40ef4-99c9-4dea-ab20-b89c21c09efc"
   },
   "outputs": [
    {
     "name": "stdout",
     "output_type": "stream",
     "text": [
      "      Iter       Train Loss   Remaining Time \n",
      "         1           1.3079           46.66s\n",
      "         2           1.2447           47.29s\n",
      "         3           1.1917           40.92s\n",
      "         4           1.1452           38.90s\n",
      "         5           1.1071           40.34s\n",
      "         6           1.0728           42.59s\n",
      "         7           1.0378           46.28s\n",
      "         8           1.0090           46.01s\n",
      "         9           0.9867           45.92s\n",
      "        10           0.9633           44.70s\n",
      "        20           0.8327           36.79s\n",
      "        30           0.7827           31.98s\n",
      "        40           0.7568           25.29s\n",
      "        50           0.7408           21.24s\n",
      "        60           0.7291           18.63s\n",
      "        70           0.7206           16.41s\n",
      "        80           0.7132           14.13s\n",
      "        90           0.7066           11.15s\n",
      "       100           0.7007            8.09s\n"
     ]
    },
    {
     "name": "stderr",
     "output_type": "stream",
     "text": [
      "/home/mat/.local/lib/python3.8/site-packages/sklearn/base.py:450: UserWarning: X does not have valid feature names, but GradientBoostingClassifier was fitted with feature names\n",
      "  warnings.warn(\n"
     ]
    }
   ],
   "source": [
    "#Entrenamos el modelo\n",
    "clf.fit(X_train_1, y_train_1)\n",
    "\n",
    "#Realizamos una predicción\n",
    "y_pred_train=clf.predict(X_train_1)\n",
    "y_pred_test=clf.predict(X_test_1)"
   ]
  },
  {
   "cell_type": "code",
   "execution_count": null,
   "id": "sCiACPg0u6BU",
   "metadata": {
    "id": "sCiACPg0u6BU",
    "outputId": "bb9d0270-f845-4356-aede-0a0f6c8a1925"
   },
   "outputs": [
    {
     "data": {
      "image/png": "[encoded data removed]",
      "text/plain": [
       "<Figure size 216x216 with 1 Axes>"
      ]
     },
     "metadata": {
      "needs_background": "light"
     },
     "output_type": "display_data"
    }
   ],
   "source": [
    "# Matriz de confusión conjunto de entrenamiento:\n",
    "confmat_train = metrics.confusion_matrix(y_train_1,y_pred_train)\n",
    "f_aux.plot_confusion_matrix(confmat_train)"
   ]
  },
  {
   "cell_type": "code",
   "execution_count": null,
   "id": "3QXRm_Rwu6BV",
   "metadata": {
    "id": "3QXRm_Rwu6BV",
    "outputId": "97aa748c-2842-4145-c579-8b4e43ba7605"
   },
   "outputs": [
    {
     "name": "stdout",
     "output_type": "stream",
     "text": [
      "ACC:  0.838865529231018\n",
      "SEN:  0.8698552599660386\n",
      "ESP:  0.8078757984959974\n",
      "PPV:  0.8190885902463166\n",
      "FSC:  0.8437089468833944\n"
     ]
    },
    {
     "data": {
      "image/png": "[encoded data removed]",
      "text/plain": [
       "<Figure size 432x288 with 1 Axes>"
      ]
     },
     "metadata": {
      "needs_background": "light"
     },
     "output_type": "display_data"
    }
   ],
   "source": [
    "# Métricas conjunto de entrenamiento:\n",
    "f_aux.calcula_metricas(confmat_train)"
   ]
  },
  {
   "cell_type": "code",
   "execution_count": null,
   "id": "3wlEOsMnu6BV",
   "metadata": {
    "id": "3wlEOsMnu6BV",
    "outputId": "dbcbe598-e3ce-4ff0-c617-5e3f3069604d"
   },
   "outputs": [
    {
     "data": {
      "image/png": "[encoded data removed]",
      "text/plain": [
       "<Figure size 216x216 with 1 Axes>"
      ]
     },
     "metadata": {
      "needs_background": "light"
     },
     "output_type": "display_data"
    }
   ],
   "source": [
    "# Matriz de confusión conjunto de test:\n",
    "confmat_test = metrics.confusion_matrix(y_test_1,y_pred_test)\n",
    "f_aux.plot_confusion_matrix(confmat_test)"
   ]
  },
  {
   "cell_type": "code",
   "execution_count": null,
   "id": "GLZsv6Fpu6BV",
   "metadata": {
    "id": "GLZsv6Fpu6BV",
    "outputId": "25978e16-358c-47da-b55c-cc07f6b6e8d0"
   },
   "outputs": [
    {
     "name": "stdout",
     "output_type": "stream",
     "text": [
      "ACC:  0.8237719830200121\n",
      "SEN:  0.8533656761673741\n",
      "ESP:  0.79417828987265\n",
      "PPV:  0.8056796060918355\n",
      "FSC:  0.8288373188832606\n"
     ]
    },
    {
     "data": {
      "image/png": "[encoded data removed]",
      "text/plain": [
       "<Figure size 432x288 with 1 Axes>"
      ]
     },
     "metadata": {
      "needs_background": "light"
     },
     "output_type": "display_data"
    }
   ],
   "source": [
    "# Métricas conjunto de test:\n",
    "f_aux.calcula_metricas(confmat_test)"
   ]
  },
  {
   "cell_type": "code",
   "execution_count": null,
   "id": "GHHjYIcvu6BV",
   "metadata": {
    "id": "GHHjYIcvu6BV",
    "outputId": "ddf9bcb3-f0bb-48a5-be36-206d15ae5994"
   },
   "outputs": [
    {
     "name": "stderr",
     "output_type": "stream",
     "text": [
      "/home/mat/.local/lib/python3.8/site-packages/sklearn/base.py:450: UserWarning: X does not have valid feature names, but GradientBoostingClassifier was fitted with feature names\n",
      "  warnings.warn(\n"
     ]
    },
    {
     "data": {
      "image/png": "[encoded data removed]",
      "text/plain": [
       "<Figure size 432x288 with 1 Axes>"
      ]
     },
     "metadata": {
      "needs_background": "light"
     },
     "output_type": "display_data"
    }
   ],
   "source": [
    "# Área bajo la curva:\n",
    "\n",
    "y_prob = clf.predict_proba(X_test_1)[:,1]\n",
    "\n",
    "ejex, ejey, _ = roc_curve(y_test_1, y_prob)\n",
    "roc_auc = auc(ejex, ejey)\n",
    "\n",
    "plt.figure()\n",
    "plt.plot(ejex, ejey, color='darkorange',lw=2, label='AUC = %0.2f' % roc_auc)\n",
    "\n",
    "plt.plot([0, 1], [0, 1], color=(0.6, 0.6, 0.6), linestyle='--')\n",
    "plt.plot([0, 0, 1],[0, 1, 1],lw=2, linestyle=':',color='black',label='Clasificador perfecto')\n",
    "\n",
    "plt.xlim([-0.05, 1.05])\n",
    "plt.ylim([-0.05, 1.05])\n",
    "\n",
    "plt.xlabel('FPR (1-ESP)')\n",
    "plt.ylabel('SEN')\n",
    "plt.legend(loc=\"lower right\")\n",
    "plt.show()"
   ]
  },
  {
   "cell_type": "markdown",
   "id": "gvlB0l4mfK0_",
   "metadata": {
    "id": "gvlB0l4mfK0_"
   },
   "source": [
    "# Comparacion entre las distintas métricas y los algoritmos"
   ]
  },
  {
   "cell_type": "markdown",
   "id": "1CB7-5wSfZHI",
   "metadata": {
    "id": "1CB7-5wSfZHI"
   },
   "source": []
  }
 ],
 "metadata": {
  "colab": {
   "name": "Practica_Machine_Learning_NUEVA_0531.ipynb",
   "provenance": []
  },
  "kernelspec": {
   "display_name": "Python 3",
   "language": "python",
   "name": "python3"
  },
  "language_info": {
   "codemirror_mode": {
    "name": "ipython",
    "version": 3
   },
   "file_extension": ".py",
   "mimetype": "text/x-python",
   "name": "python",
   "nbconvert_exporter": "python",
   "pygments_lexer": "ipython3",
   "version": "3.8.8"
  }
 },
 "nbformat": 4,
 "nbformat_minor": 5
}
