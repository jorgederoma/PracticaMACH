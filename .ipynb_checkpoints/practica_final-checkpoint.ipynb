{
 "cells": [
  {
   "cell_type": "code",
   "execution_count": 1,
   "id": "6b658714",
   "metadata": {},
   "outputs": [],
   "source": [
    "import pandas as pd\n",
    "import numpy as np"
   ]
  },
  {
   "cell_type": "code",
   "execution_count": 2,
   "id": "5d6cdf00",
   "metadata": {},
   "outputs": [
    {
     "name": "stderr",
     "output_type": "stream",
     "text": [
      "C:\\Users\\Usuario\\anaconda3\\lib\\site-packages\\IPython\\core\\interactiveshell.py:3444: DtypeWarning: Columns (1,2,5,12) have mixed types.Specify dtype option on import or set low_memory=False.\n",
      "  exec(code_obj, self.user_global_ns, self.user_ns)\n"
     ]
    }
   ],
   "source": [
    "df = pd.read_csv('NCDB_1999_to_2014.csv')"
   ]
  },
  {
   "cell_type": "code",
   "execution_count": 3,
   "id": "480e4e89",
   "metadata": {},
   "outputs": [
    {
     "data": {
      "text/html": [
       "<div>\n",
       "<style scoped>\n",
       "    .dataframe tbody tr th:only-of-type {\n",
       "        vertical-align: middle;\n",
       "    }\n",
       "\n",
       "    .dataframe tbody tr th {\n",
       "        vertical-align: top;\n",
       "    }\n",
       "\n",
       "    .dataframe thead th {\n",
       "        text-align: right;\n",
       "    }\n",
       "</style>\n",
       "<table border=\"1\" class=\"dataframe\">\n",
       "  <thead>\n",
       "    <tr style=\"text-align: right;\">\n",
       "      <th></th>\n",
       "      <th>C_YEAR</th>\n",
       "      <th>C_MNTH</th>\n",
       "      <th>C_WDAY</th>\n",
       "      <th>C_HOUR</th>\n",
       "      <th>C_SEV</th>\n",
       "      <th>C_VEHS</th>\n",
       "      <th>C_CONF</th>\n",
       "      <th>C_RCFG</th>\n",
       "      <th>C_WTHR</th>\n",
       "      <th>C_RSUR</th>\n",
       "      <th>...</th>\n",
       "      <th>V_ID</th>\n",
       "      <th>V_TYPE</th>\n",
       "      <th>V_YEAR</th>\n",
       "      <th>P_ID</th>\n",
       "      <th>P_SEX</th>\n",
       "      <th>P_AGE</th>\n",
       "      <th>P_PSN</th>\n",
       "      <th>P_ISEV</th>\n",
       "      <th>P_SAFE</th>\n",
       "      <th>P_USER</th>\n",
       "    </tr>\n",
       "  </thead>\n",
       "  <tbody>\n",
       "    <tr>\n",
       "      <th>0</th>\n",
       "      <td>1999</td>\n",
       "      <td>1</td>\n",
       "      <td>1</td>\n",
       "      <td>20</td>\n",
       "      <td>2</td>\n",
       "      <td>02</td>\n",
       "      <td>34</td>\n",
       "      <td>UU</td>\n",
       "      <td>1</td>\n",
       "      <td>5</td>\n",
       "      <td>...</td>\n",
       "      <td>01</td>\n",
       "      <td>06</td>\n",
       "      <td>1990</td>\n",
       "      <td>01</td>\n",
       "      <td>M</td>\n",
       "      <td>41</td>\n",
       "      <td>11</td>\n",
       "      <td>1</td>\n",
       "      <td>UU</td>\n",
       "      <td>1</td>\n",
       "    </tr>\n",
       "    <tr>\n",
       "      <th>1</th>\n",
       "      <td>1999</td>\n",
       "      <td>1</td>\n",
       "      <td>1</td>\n",
       "      <td>20</td>\n",
       "      <td>2</td>\n",
       "      <td>02</td>\n",
       "      <td>34</td>\n",
       "      <td>UU</td>\n",
       "      <td>1</td>\n",
       "      <td>5</td>\n",
       "      <td>...</td>\n",
       "      <td>02</td>\n",
       "      <td>01</td>\n",
       "      <td>1987</td>\n",
       "      <td>01</td>\n",
       "      <td>M</td>\n",
       "      <td>19</td>\n",
       "      <td>11</td>\n",
       "      <td>1</td>\n",
       "      <td>UU</td>\n",
       "      <td>1</td>\n",
       "    </tr>\n",
       "    <tr>\n",
       "      <th>2</th>\n",
       "      <td>1999</td>\n",
       "      <td>1</td>\n",
       "      <td>1</td>\n",
       "      <td>20</td>\n",
       "      <td>2</td>\n",
       "      <td>02</td>\n",
       "      <td>34</td>\n",
       "      <td>UU</td>\n",
       "      <td>1</td>\n",
       "      <td>5</td>\n",
       "      <td>...</td>\n",
       "      <td>02</td>\n",
       "      <td>01</td>\n",
       "      <td>1987</td>\n",
       "      <td>02</td>\n",
       "      <td>F</td>\n",
       "      <td>20</td>\n",
       "      <td>13</td>\n",
       "      <td>2</td>\n",
       "      <td>02</td>\n",
       "      <td>2</td>\n",
       "    </tr>\n",
       "    <tr>\n",
       "      <th>3</th>\n",
       "      <td>1999</td>\n",
       "      <td>1</td>\n",
       "      <td>1</td>\n",
       "      <td>08</td>\n",
       "      <td>2</td>\n",
       "      <td>01</td>\n",
       "      <td>01</td>\n",
       "      <td>UU</td>\n",
       "      <td>5</td>\n",
       "      <td>3</td>\n",
       "      <td>...</td>\n",
       "      <td>01</td>\n",
       "      <td>01</td>\n",
       "      <td>1986</td>\n",
       "      <td>01</td>\n",
       "      <td>M</td>\n",
       "      <td>46</td>\n",
       "      <td>11</td>\n",
       "      <td>1</td>\n",
       "      <td>UU</td>\n",
       "      <td>1</td>\n",
       "    </tr>\n",
       "    <tr>\n",
       "      <th>4</th>\n",
       "      <td>1999</td>\n",
       "      <td>1</td>\n",
       "      <td>1</td>\n",
       "      <td>08</td>\n",
       "      <td>2</td>\n",
       "      <td>01</td>\n",
       "      <td>01</td>\n",
       "      <td>UU</td>\n",
       "      <td>5</td>\n",
       "      <td>3</td>\n",
       "      <td>...</td>\n",
       "      <td>99</td>\n",
       "      <td>NN</td>\n",
       "      <td>NNNN</td>\n",
       "      <td>01</td>\n",
       "      <td>M</td>\n",
       "      <td>05</td>\n",
       "      <td>99</td>\n",
       "      <td>2</td>\n",
       "      <td>UU</td>\n",
       "      <td>3</td>\n",
       "    </tr>\n",
       "  </tbody>\n",
       "</table>\n",
       "<p>5 rows × 22 columns</p>\n",
       "</div>"
      ],
      "text/plain": [
       "   C_YEAR C_MNTH C_WDAY C_HOUR  C_SEV C_VEHS C_CONF C_RCFG C_WTHR C_RSUR  ...  \\\n",
       "0    1999      1      1     20      2     02     34     UU      1      5  ...   \n",
       "1    1999      1      1     20      2     02     34     UU      1      5  ...   \n",
       "2    1999      1      1     20      2     02     34     UU      1      5  ...   \n",
       "3    1999      1      1     08      2     01     01     UU      5      3  ...   \n",
       "4    1999      1      1     08      2     01     01     UU      5      3  ...   \n",
       "\n",
       "  V_ID V_TYPE V_YEAR P_ID P_SEX P_AGE P_PSN P_ISEV P_SAFE P_USER  \n",
       "0   01     06   1990   01     M    41    11      1     UU      1  \n",
       "1   02     01   1987   01     M    19    11      1     UU      1  \n",
       "2   02     01   1987   02     F    20    13      2     02      2  \n",
       "3   01     01   1986   01     M    46    11      1     UU      1  \n",
       "4   99     NN   NNNN   01     M    05    99      2     UU      3  \n",
       "\n",
       "[5 rows x 22 columns]"
      ]
     },
     "execution_count": 3,
     "metadata": {},
     "output_type": "execute_result"
    }
   ],
   "source": [
    "df.head()"
   ]
  },
  {
   "cell_type": "code",
   "execution_count": 4,
   "id": "d6b94cb0",
   "metadata": {},
   "outputs": [
    {
     "name": "stdout",
     "output_type": "stream",
     "text": [
      "<class 'pandas.core.frame.DataFrame'>\n",
      "RangeIndex: 5860405 entries, 0 to 5860404\n",
      "Data columns (total 22 columns):\n",
      " #   Column  Dtype \n",
      "---  ------  ----- \n",
      " 0   C_YEAR  int64 \n",
      " 1   C_MNTH  object\n",
      " 2   C_WDAY  object\n",
      " 3   C_HOUR  object\n",
      " 4   C_SEV   int64 \n",
      " 5   C_VEHS  object\n",
      " 6   C_CONF  object\n",
      " 7   C_RCFG  object\n",
      " 8   C_WTHR  object\n",
      " 9   C_RSUR  object\n",
      " 10  C_RALN  object\n",
      " 11  C_TRAF  object\n",
      " 12  V_ID    object\n",
      " 13  V_TYPE  object\n",
      " 14  V_YEAR  object\n",
      " 15  P_ID    object\n",
      " 16  P_SEX   object\n",
      " 17  P_AGE   object\n",
      " 18  P_PSN   object\n",
      " 19  P_ISEV  object\n",
      " 20  P_SAFE  object\n",
      " 21  P_USER  object\n",
      "dtypes: int64(2), object(20)\n",
      "memory usage: 983.6+ MB\n"
     ]
    }
   ],
   "source": [
    "df.info()\n"
   ]
  },
  {
   "cell_type": "code",
   "execution_count": 5,
   "id": "6452caf4",
   "metadata": {},
   "outputs": [],
   "source": [
    "df = df[(df['C_YEAR'] == 1999) | (df['C_YEAR'] == 2014)]"
   ]
  },
  {
   "cell_type": "code",
   "execution_count": 6,
   "id": "cd38e594",
   "metadata": {},
   "outputs": [
    {
     "data": {
      "text/plain": [
       "(711121, 22)"
      ]
     },
     "execution_count": 6,
     "metadata": {},
     "output_type": "execute_result"
    }
   ],
   "source": [
    "df.shape"
   ]
  },
  {
   "cell_type": "code",
   "execution_count": 7,
   "id": "e149d274",
   "metadata": {
    "scrolled": false
   },
   "outputs": [
    {
     "data": {
      "text/plain": [
       "Index(['C_YEAR', 'C_MNTH', 'C_WDAY', 'C_HOUR', 'C_SEV', 'C_VEHS', 'C_CONF',\n",
       "       'C_RCFG', 'C_WTHR', 'C_RSUR', 'C_RALN', 'C_TRAF', 'V_ID', 'V_TYPE',\n",
       "       'V_YEAR', 'P_ID', 'P_SEX', 'P_AGE', 'P_PSN', 'P_ISEV', 'P_SAFE',\n",
       "       'P_USER'],\n",
       "      dtype='object')"
      ]
     },
     "execution_count": 7,
     "metadata": {},
     "output_type": "execute_result"
    }
   ],
   "source": [
    "df.columns"
   ]
  },
  {
   "cell_type": "code",
   "execution_count": 76,
   "id": "333b8461",
   "metadata": {},
   "outputs": [],
   "source": [
    "for i in list(range(0,16)):\n",
    "    df.loc[df['C_MNTH']==f'{i}', 'C_MNTH']=i"
   ]
  },
  {
   "cell_type": "code",
   "execution_count": 77,
   "id": "bd688815",
   "metadata": {},
   "outputs": [
    {
     "data": {
      "text/plain": [
       "array([1, 2, 3, 4, 5, 6, 7, 8, 9, 10, 11, 12, 'UU'], dtype=object)"
      ]
     },
     "execution_count": 77,
     "metadata": {},
     "output_type": "execute_result"
    }
   ],
   "source": [
    "df['C_MNTH'].unique()"
   ]
  },
  {
   "cell_type": "code",
   "execution_count": 10,
   "id": "6440f879",
   "metadata": {},
   "outputs": [],
   "source": [
    "for i in list(range(0,8)):\n",
    "    df.loc[df['C_WDAY']==f'{i}', 'C_WDAY']=i"
   ]
  },
  {
   "cell_type": "code",
   "execution_count": 11,
   "id": "1105f9b1",
   "metadata": {},
   "outputs": [
    {
     "data": {
      "text/plain": [
       "array([1, 2, 3, 4, 5, 6, 7, 'U'], dtype=object)"
      ]
     },
     "execution_count": 11,
     "metadata": {},
     "output_type": "execute_result"
    }
   ],
   "source": [
    "df['C_WDAY'].unique()"
   ]
  },
  {
   "cell_type": "code",
   "execution_count": 61,
   "id": "02c80287",
   "metadata": {},
   "outputs": [],
   "source": [
    "for i in list(range(0,len(df['C_HOUR'].unique()))):\n",
    "    df.loc[df['C_HOUR']==f'0{i}', 'C_HOUR']=i"
   ]
  },
  {
   "cell_type": "code",
   "execution_count": 62,
   "id": "263e71f4",
   "metadata": {
    "scrolled": false
   },
   "outputs": [
    {
     "data": {
      "text/plain": [
       "array([20, 8, 17, 15, 14, 1, 11, 13, 19, 16, 9, 2, 18, 12, 10, 23, 0, 6,\n",
       "       7, 21, 'UU', 5, 22, 3, 4], dtype=object)"
      ]
     },
     "execution_count": 62,
     "metadata": {},
     "output_type": "execute_result"
    }
   ],
   "source": [
    "df['C_HOUR'].unique()"
   ]
  },
  {
   "cell_type": "code",
   "execution_count": 14,
   "id": "3998262a",
   "metadata": {},
   "outputs": [],
   "source": [
    "for i in list(range(0,len(df['C_SEV'].unique()))):\n",
    "    df.loc[df['C_SEV']==f'{i}', 'C_SEV']=i"
   ]
  },
  {
   "cell_type": "code",
   "execution_count": 15,
   "id": "e1a01d67",
   "metadata": {},
   "outputs": [
    {
     "data": {
      "text/plain": [
       "array([2, 1], dtype=int64)"
      ]
     },
     "execution_count": 15,
     "metadata": {},
     "output_type": "execute_result"
    }
   ],
   "source": [
    "df['C_SEV'].unique()"
   ]
  },
  {
   "cell_type": "code",
   "execution_count": null,
   "id": "095f57c0",
   "metadata": {},
   "outputs": [],
   "source": [
    "for i in list(range(0,(73))):\n",
    "    df.loc[df['C_VEHS']==f'{i}', 'C_VEHS']=i"
   ]
  },
  {
   "cell_type": "code",
   "execution_count": 81,
   "id": "a36b1203",
   "metadata": {},
   "outputs": [],
   "source": [
    "for i in list(range(0,len(df['C_VEHS'].unique()))):\n",
    "    df.loc[df['C_VEHS']==f'0{i}', 'C_VEHS']=i"
   ]
  },
  {
   "cell_type": "code",
   "execution_count": 82,
   "id": "9ee12d78",
   "metadata": {},
   "outputs": [
    {
     "data": {
      "text/plain": [
       "array([2, 1, 3, 4, 6, 7, 9, 'UU', 5, 13, 8, 12, 14, 10, 11, 16, 26, 71,\n",
       "       19, 25, 21, 27, 51, 22, 15, 57, 17, 43, 20, 36, 37, 18],\n",
       "      dtype=object)"
      ]
     },
     "execution_count": 82,
     "metadata": {},
     "output_type": "execute_result"
    }
   ],
   "source": [
    "df['C_VEHS'].unique()"
   ]
  },
  {
   "cell_type": "code",
   "execution_count": 63,
   "id": "fbc3c856",
   "metadata": {},
   "outputs": [],
   "source": [
    "for i in list(range(0,len(df['C_CONF'].unique()))):\n",
    "    df.loc[df['C_CONF']==f'0{i}', 'C_CONF']=i"
   ]
  },
  {
   "cell_type": "code",
   "execution_count": 64,
   "id": "87dc995d",
   "metadata": {},
   "outputs": [
    {
     "data": {
      "text/plain": [
       "array(['34', 1, 'QQ', 4, '31', '21', '23', 3, 2, '33', 'UU', '24', '35',\n",
       "       '41', 6, '32', '36', 5, '22', '25'], dtype=object)"
      ]
     },
     "execution_count": 64,
     "metadata": {},
     "output_type": "execute_result"
    }
   ],
   "source": [
    "df['C_CONF'].unique()"
   ]
  },
  {
   "cell_type": "code",
   "execution_count": 65,
   "id": "968b7349",
   "metadata": {},
   "outputs": [],
   "source": [
    "for i in list(range(0,len(df['C_RCFG'].unique()))):\n",
    "    df.loc[df['C_RCFG']==f'0{i}', 'C_RCFG']=i"
   ]
  },
  {
   "cell_type": "code",
   "execution_count": 66,
   "id": "28b1083c",
   "metadata": {},
   "outputs": [
    {
     "data": {
      "text/plain": [
       "array(['UU', 'QQ', 1, 2, 3, 5, 4, 6, 8, 7, 9, 10], dtype=object)"
      ]
     },
     "execution_count": 66,
     "metadata": {},
     "output_type": "execute_result"
    }
   ],
   "source": [
    "df['C_RCFG'].unique()"
   ]
  },
  {
   "cell_type": "code",
   "execution_count": 22,
   "id": "af385c8d",
   "metadata": {},
   "outputs": [],
   "source": [
    "for i in list(range(0,len(df['C_WTHR'].unique()))):\n",
    "    df.loc[df['C_WTHR']==f'{i}', 'C_WTHR']=i"
   ]
  },
  {
   "cell_type": "code",
   "execution_count": 23,
   "id": "3cddc08d",
   "metadata": {
    "scrolled": true
   },
   "outputs": [
    {
     "data": {
      "text/plain": [
       "array([1, 5, 3, 4, 7, 2, 'U', 6, 'Q'], dtype=object)"
      ]
     },
     "execution_count": 23,
     "metadata": {},
     "output_type": "execute_result"
    }
   ],
   "source": [
    "df['C_WTHR'].unique()"
   ]
  },
  {
   "cell_type": "code",
   "execution_count": 24,
   "id": "17446d31",
   "metadata": {},
   "outputs": [],
   "source": [
    "for i in list(range(0,len(df['C_RSUR'].unique()))):\n",
    "    df.loc[df['C_RSUR']==f'{i}', 'C_RSUR']=i"
   ]
  },
  {
   "cell_type": "code",
   "execution_count": 25,
   "id": "dc8797f9",
   "metadata": {},
   "outputs": [
    {
     "data": {
      "text/plain": [
       "array([5, 3, 2, 4, 1, 6, 'U', 'Q', 7, 9, 8], dtype=object)"
      ]
     },
     "execution_count": 25,
     "metadata": {},
     "output_type": "execute_result"
    }
   ],
   "source": [
    "df['C_RSUR'].unique()"
   ]
  },
  {
   "cell_type": "code",
   "execution_count": 26,
   "id": "8b1a8126",
   "metadata": {},
   "outputs": [],
   "source": [
    "for i in list(range(0,len(df['C_RALN'].unique()))):\n",
    "    df.loc[df['C_RALN']==f'{i}', 'C_RALN']=i"
   ]
  },
  {
   "cell_type": "code",
   "execution_count": 27,
   "id": "2604d55f",
   "metadata": {},
   "outputs": [
    {
     "data": {
      "text/plain": [
       "array([3, 6, 1, 'U', 2, 5, 4, 'Q'], dtype=object)"
      ]
     },
     "execution_count": 27,
     "metadata": {},
     "output_type": "execute_result"
    }
   ],
   "source": [
    "df['C_RALN'].unique()"
   ]
  },
  {
   "cell_type": "code",
   "execution_count": 67,
   "id": "1bc3af08",
   "metadata": {},
   "outputs": [],
   "source": [
    "for i in list(range(0,len(df['C_TRAF'].unique()))):\n",
    "    df.loc[df['C_TRAF']==f'0{i}', 'C_TRAF']=i"
   ]
  },
  {
   "cell_type": "code",
   "execution_count": 68,
   "id": "3e82d4ec",
   "metadata": {
    "scrolled": true
   },
   "outputs": [
    {
     "data": {
      "text/plain": [
       "array([3, 18, 1, 'UU', 6, 10, 5, 4, 11, 'QQ', 7, 8, 16, 17, 2, 13, 15, 9,\n",
       "       12], dtype=object)"
      ]
     },
     "execution_count": 68,
     "metadata": {},
     "output_type": "execute_result"
    }
   ],
   "source": [
    "df['C_TRAF'].unique()"
   ]
  },
  {
   "cell_type": "code",
   "execution_count": null,
   "id": "534e82e5",
   "metadata": {},
   "outputs": [],
   "source": [
    "for i in list(range(0,len(df['V_ID'].unique()))):\n",
    "    df.loc[df['V_ID']==f'0{i}', 'V_ID']=i"
   ]
  },
  {
   "cell_type": "code",
   "execution_count": 70,
   "id": "d9ea86f5",
   "metadata": {},
   "outputs": [],
   "source": [
    "for i in list(range(0,len(df['V_ID'].unique()))):\n",
    "    df.loc[df['V_ID']==f'{i}', 'V_ID']=i"
   ]
  },
  {
   "cell_type": "code",
   "execution_count": 71,
   "id": "db68149f",
   "metadata": {},
   "outputs": [
    {
     "data": {
      "text/plain": [
       "array([1, 2, 99, 3, 4, 'UU', 5, 6, 7, 8, 9, 10, 11, 12, 13, 14, 15, 16,\n",
       "       17, 18, 19, 20, 21, 22, 23, 24, 25, 26, 27, 28, 29, 30, 31, 32, 33,\n",
       "       34, 35, 36, 37, 38, 39, 40, 41, 42, 43, 44, 45, 46, 47, 48, 49, 50,\n",
       "       51, 52, 53, 54, 55, 56, 57, 58, 59, 60, 61, 62, 63, 64, 65, 66, 67,\n",
       "       68, 69, 70, 71], dtype=object)"
      ]
     },
     "execution_count": 71,
     "metadata": {},
     "output_type": "execute_result"
    }
   ],
   "source": [
    "df['V_ID'].unique()"
   ]
  },
  {
   "cell_type": "code",
   "execution_count": 104,
   "id": "7684f163",
   "metadata": {},
   "outputs": [],
   "source": [
    "for i in list(range(0,len(df['V_TYPE'].unique()))):\n",
    "    df.loc[df['V_TYPE']==f'{i}', 'V_TYPE']=i"
   ]
  },
  {
   "cell_type": "code",
   "execution_count": 105,
   "id": "601c46ee",
   "metadata": {},
   "outputs": [
    {
     "data": {
      "text/plain": [
       "array([6, 1, 'NN', 11, 'UU', '20', 17, 7, 8, 'QQ', 9, '22', 14, '23', 5,\n",
       "       16, 19, 18, 10, '21'], dtype=object)"
      ]
     },
     "execution_count": 105,
     "metadata": {},
     "output_type": "execute_result"
    }
   ],
   "source": [
    "df['V_TYPE'].unique()"
   ]
  },
  {
   "cell_type": "code",
   "execution_count": 87,
   "id": "e395e21d",
   "metadata": {},
   "outputs": [],
   "source": [
    "for i in list(range(0,len(df['V_YEAR'].unique()))):\n",
    "    df.loc[df['V_YEAR']==f'{i}', 'V_YEAR']=i"
   ]
  },
  {
   "cell_type": "code",
   "execution_count": 88,
   "id": "dcead7de",
   "metadata": {},
   "outputs": [
    {
     "data": {
      "text/plain": [
       "array(['1990', '1987', '1986', 'NNNN', '1984', '1991', '1992', '1997',\n",
       "       '1993', '1985', '1988', '1994', '1995', '1998', '1989', 'UUUU',\n",
       "       '1996', '1983', '1999', '1965', '1977', '1978', '1968', '1981',\n",
       "       '1979', '1976', '1972', '2000', '1982', '1975', '1973', '1974',\n",
       "       '1980', '1967', '1970', '1971', '1962', '1969', '1966', '1945',\n",
       "       '1963', '1960', '1950', '1964', '1959', '1955', '1958', '1903',\n",
       "       '1909', '1949', '1923', '1961', '1914', '1908', '1953', '1906',\n",
       "       '1939', '1925', '1948', '1938', '1907', '1952', '1904', '1917',\n",
       "       '1912', '1944', '1956', '1930', '1931', '1951', '1946', '1947',\n",
       "       '1957', '1954', '1943', '1901', '1937', '1905', '1935', '1926',\n",
       "       '1941', '1932', '1920', '1933', '1919', '1915', '1929', '1928',\n",
       "       '2008', '2007', '2006', '2014', '2012', '2003', '2011', '2010',\n",
       "       '2004', '2005', '2009', '2013', '2001', '2002', '2015', '1936',\n",
       "       '1911', '1927', '1916'], dtype=object)"
      ]
     },
     "execution_count": 88,
     "metadata": {},
     "output_type": "execute_result"
    }
   ],
   "source": [
    "df['V_YEAR'].unique()"
   ]
  },
  {
   "cell_type": "code",
   "execution_count": 36,
   "id": "4b35888e",
   "metadata": {},
   "outputs": [],
   "source": [
    "for i in list(range(0,len(df['P_ID'].unique()))):\n",
    "    df.loc[df['P_ID']==f'{i}', 'P_ID']=i"
   ]
  },
  {
   "cell_type": "code",
   "execution_count": 89,
   "id": "84e9f69a",
   "metadata": {},
   "outputs": [],
   "source": [
    "for i in list(range(0,len(df['P_ID'].unique()))):\n",
    "    df.loc[df['P_ID']==f'0{i}', 'P_ID']=i"
   ]
  },
  {
   "cell_type": "code",
   "execution_count": 90,
   "id": "85802fde",
   "metadata": {},
   "outputs": [
    {
     "data": {
      "text/plain": [
       "array([1, 2, 3, 4, 5, 6, 'NN', 7, 8, 9, 10, 11, 12, 13, 14, 15, 16, 17,\n",
       "       18, 19, 20, 21, 22, 23, 24, 25, 26, 27, 28, 29, 30, 31, 32, 33, 34,\n",
       "       35, 36, 37, 38, 39, 40, 41, 42, 43, 44, 45, 46, 47, 48, 49, 50, 51,\n",
       "       52, 53, 54, 55, 56, 57, 58, 59, 60, 61, 62, 63, 64, 65, 66, 67, 68,\n",
       "       69, 70, 71, 72, 73, 74, 75, 76, 77, 78, 79, 80, 81, 82, 83, 84, 85,\n",
       "       86, 87, 88, 89, 90, 91, 92, 93, 94, 95], dtype=object)"
      ]
     },
     "execution_count": 90,
     "metadata": {},
     "output_type": "execute_result"
    }
   ],
   "source": [
    "df['P_ID'].unique()"
   ]
  },
  {
   "cell_type": "code",
   "execution_count": 38,
   "id": "c6392923",
   "metadata": {},
   "outputs": [],
   "source": [
    "for i in list(range(0,len(df['P_SEX'].unique()))):\n",
    "    df.loc[df['P_SEX']==f'{i}', 'P_SEX']=i"
   ]
  },
  {
   "cell_type": "code",
   "execution_count": 39,
   "id": "bd0189cc",
   "metadata": {},
   "outputs": [
    {
     "data": {
      "text/plain": [
       "array(['M', 'F', 'U', 'N'], dtype=object)"
      ]
     },
     "execution_count": 39,
     "metadata": {},
     "output_type": "execute_result"
    }
   ],
   "source": [
    "df['P_SEX'].unique()"
   ]
  },
  {
   "cell_type": "code",
   "execution_count": 91,
   "id": "9b97d06c",
   "metadata": {},
   "outputs": [],
   "source": [
    "for i in list(range(0,len(df['P_AGE'].unique()))):\n",
    "    df.loc[df['P_AGE']==f'{i}', 'P_AGE']=i\n",
    "for i in list(range(0,len(df['P_AGE'].unique()))):\n",
    "    df.loc[df['P_AGE']==f'0{i}', 'P_AGE']=i"
   ]
  },
  {
   "cell_type": "code",
   "execution_count": 92,
   "id": "851b3042",
   "metadata": {},
   "outputs": [
    {
     "data": {
      "text/plain": [
       "array([41, 19, 20, 46, 5, 28, 21, 'UU', 61, 56, 34, 22, 30, 49, 32, 31,\n",
       "       68, 8, 45, 17, 33, 82, 39, 37, 55, 38, 43, 35, 23, 25, 65, 44, 36,\n",
       "       70, 50, 40, 27, 26, 15, 53, 16, 13, 14, 12, 18, 77, 86, 42, 24, 47,\n",
       "       62, 6, 57, 83, 74, 67, 51, 29, 1, 2, 54, 71, 10, 79, 63, 58, 48,\n",
       "       60, 7, 64, 75, 52, 85, 93, 92, 69, 72, 11, 59, 9, 66, 76, 73, 4,\n",
       "       78, 80, 84, 3, 81, 89, 87, 88, 90, 'NN', 91, 95, 97, 94, 99, 98,\n",
       "       96], dtype=object)"
      ]
     },
     "execution_count": 92,
     "metadata": {},
     "output_type": "execute_result"
    }
   ],
   "source": [
    "df['P_AGE'].unique()"
   ]
  },
  {
   "cell_type": "code",
   "execution_count": 106,
   "id": "55ceb5c1",
   "metadata": {},
   "outputs": [],
   "source": [
    "for i in list(range(0,len(df['P_PSN'].unique()))):\n",
    "    df.loc[df['P_PSN']==f'{i}', 'P_PSN']=i\n"
   ]
  },
  {
   "cell_type": "code",
   "execution_count": 115,
   "id": "103374e7",
   "metadata": {},
   "outputs": [],
   "source": [
    "for i in list(range(0,len(df['P_PSN'].unique()))):\n",
    "    df.loc[df['P_PSN']==f'{i}', 'P_PSN']=i"
   ]
  },
  {
   "cell_type": "code",
   "execution_count": 116,
   "id": "7db3610c",
   "metadata": {},
   "outputs": [
    {
     "data": {
      "text/plain": [
       "array([11, 13, 9, '23', '98', '21', 2, 12, 'QQ', '96', '32', 'UU', 'NN',\n",
       "       '31', 3, '97'], dtype=object)"
      ]
     },
     "execution_count": 116,
     "metadata": {},
     "output_type": "execute_result"
    }
   ],
   "source": [
    "df['P_PSN'].unique()"
   ]
  },
  {
   "cell_type": "code",
   "execution_count": 44,
   "id": "e6ff287b",
   "metadata": {},
   "outputs": [],
   "source": [
    "for i in list(range(0,len(df['P_ISEV'].unique()))):\n",
    "    df.loc[df['P_ISEV']==f'{i}', 'P_ISEV']=i"
   ]
  },
  {
   "cell_type": "code",
   "execution_count": 45,
   "id": "fb65a176",
   "metadata": {},
   "outputs": [
    {
     "data": {
      "text/plain": [
       "array([1, 2, 3, 'U', 'N'], dtype=object)"
      ]
     },
     "execution_count": 45,
     "metadata": {},
     "output_type": "execute_result"
    }
   ],
   "source": [
    "df['P_ISEV'].unique()"
   ]
  },
  {
   "cell_type": "code",
   "execution_count": 100,
   "id": "304aa1a6",
   "metadata": {},
   "outputs": [],
   "source": [
    "for i in list(range(0,len(df['P_SAFE'].unique()))):\n",
    "    df.loc[df['P_SAFE']==f'{i}', 'P_SAFE']=i"
   ]
  },
  {
   "cell_type": "code",
   "execution_count": 101,
   "id": "43fb355f",
   "metadata": {},
   "outputs": [
    {
     "data": {
      "text/plain": [
       "array(['UU', 2, 'NN', 1, '13', '12', '09', 'QQ'], dtype=object)"
      ]
     },
     "execution_count": 101,
     "metadata": {},
     "output_type": "execute_result"
    }
   ],
   "source": [
    "df['P_SAFE'].unique()"
   ]
  },
  {
   "cell_type": "code",
   "execution_count": 48,
   "id": "5fa9c437",
   "metadata": {},
   "outputs": [],
   "source": [
    "for i in list(range(0,len(df['P_USER'].unique()))):\n",
    "    df.loc[df['P_USER']==f'{i}', 'P_USER']=i"
   ]
  },
  {
   "cell_type": "code",
   "execution_count": 49,
   "id": "c2714455",
   "metadata": {},
   "outputs": [
    {
     "data": {
      "text/plain": [
       "array([1, 2, 3, 'U', 4, 5], dtype=object)"
      ]
     },
     "execution_count": 49,
     "metadata": {},
     "output_type": "execute_result"
    }
   ],
   "source": [
    "df['P_USER'].unique()"
   ]
  },
  {
   "cell_type": "code",
   "execution_count": null,
   "id": "2bf87668",
   "metadata": {},
   "outputs": [],
   "source": []
  },
  {
   "cell_type": "code",
   "execution_count": 50,
   "id": "8ee1bef7",
   "metadata": {},
   "outputs": [],
   "source": [
    "#hacemos una varible antiguedad, en vez de año del vehículo"
   ]
  },
  {
   "cell_type": "code",
   "execution_count": 51,
   "id": "588f78dc",
   "metadata": {},
   "outputs": [],
   "source": [
    "df['V_YEAR_NUM'] = pd.to_numeric(df['V_YEAR'], errors = 'coerce')"
   ]
  },
  {
   "cell_type": "code",
   "execution_count": 52,
   "id": "850933df",
   "metadata": {},
   "outputs": [],
   "source": [
    "df['V_ANT'] = df['C_YEAR'] - df['V_YEAR_NUM']"
   ]
  },
  {
   "cell_type": "code",
   "execution_count": 53,
   "id": "7ccc2de6",
   "metadata": {},
   "outputs": [
    {
     "data": {
      "text/plain": [
       "1.0     48938\n",
       "7.0     45572\n",
       "2.0     42932\n",
       "9.0     42670\n",
       "4.0     42407\n",
       "        ...  \n",
       "78.0        1\n",
       "63.0        1\n",
       "95.0        1\n",
       "74.0        1\n",
       "93.0        1\n",
       "Name: V_ANT, Length: 93, dtype: int64"
      ]
     },
     "execution_count": 53,
     "metadata": {},
     "output_type": "execute_result"
    }
   ],
   "source": [
    "df['V_ANT'].value_counts()"
   ]
  },
  {
   "cell_type": "code",
   "execution_count": 54,
   "id": "312d570b",
   "metadata": {},
   "outputs": [
    {
     "data": {
      "text/plain": [
       "array([20, '08', 17, 15, 14, '01', 11, 13, 19, 16, '09', '02', 18, 12, 10,\n",
       "       23, '00', '06', '07', 21, 'UU', '05', 22, '03', '04'], dtype=object)"
      ]
     },
     "execution_count": 54,
     "metadata": {},
     "output_type": "execute_result"
    }
   ],
   "source": [
    "df['C_HOUR'].unique()"
   ]
  },
  {
   "cell_type": "code",
   "execution_count": 55,
   "id": "c12c230a",
   "metadata": {},
   "outputs": [
    {
     "data": {
      "text/plain": [
       "16    64071\n",
       "17    61531\n",
       "15    61434\n",
       "14    48840\n",
       "18    45669\n",
       "13    44677\n",
       "12    44601\n",
       "08    36950\n",
       "11    36883\n",
       "19    35108\n",
       "10    30988\n",
       "09    27520\n",
       "20    26408\n",
       "07    25214\n",
       "21    24336\n",
       "22    19317\n",
       "23    15130\n",
       "06    12325\n",
       "00    10521\n",
       "02     8671\n",
       "01     8406\n",
       "03     7002\n",
       "UU     6110\n",
       "05     5170\n",
       "04     4239\n",
       "Name: C_HOUR, dtype: int64"
      ]
     },
     "execution_count": 55,
     "metadata": {},
     "output_type": "execute_result"
    }
   ],
   "source": [
    "df['C_HOUR'].value_counts()"
   ]
  },
  {
   "cell_type": "code",
   "execution_count": 56,
   "id": "10ce239a",
   "metadata": {},
   "outputs": [],
   "source": [
    "a = df[(df['V_ANT'] > 30)] #pensamos quitarlos"
   ]
  },
  {
   "cell_type": "code",
   "execution_count": 57,
   "id": "dc44af6c",
   "metadata": {},
   "outputs": [
    {
     "data": {
      "text/plain": [
       "(1484, 24)"
      ]
     },
     "execution_count": 57,
     "metadata": {},
     "output_type": "execute_result"
    }
   ],
   "source": [
    "a.shape"
   ]
  },
  {
   "cell_type": "code",
   "execution_count": 58,
   "id": "33931e04",
   "metadata": {},
   "outputs": [
    {
     "data": {
      "text/plain": [
       "<AxesSubplot:>"
      ]
     },
     "execution_count": 58,
     "metadata": {},
     "output_type": "execute_result"
    },
    {
     "data": {
      "image/png": "[encoded data removed]",
      "text/plain": [
       "<Figure size 432x288 with 1 Axes>"
      ]
     },
     "metadata": {
      "needs_background": "light"
     },
     "output_type": "display_data"
    }
   ],
   "source": [
    "df['V_ANT'].hist()"
   ]
  }
 ],
 "metadata": {
  "kernelspec": {
   "display_name": "Python 3 (ipykernel)",
   "language": "python",
   "name": "python3"
  },
  "language_info": {
   "codemirror_mode": {
    "name": "ipython",
    "version": 3
   },
   "file_extension": ".py",
   "mimetype": "text/x-python",
   "name": "python",
   "nbconvert_exporter": "python",
   "pygments_lexer": "ipython3",
   "version": "3.9.7"
  }
 },
 "nbformat": 4,
 "nbformat_minor": 5
}
