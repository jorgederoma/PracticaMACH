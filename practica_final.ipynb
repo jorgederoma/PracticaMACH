{
 "cells": [
  {
   "cell_type": "code",
   "execution_count": 1,
   "id": "6b658714",
   "metadata": {},
   "outputs": [],
   "source": [
    "import pandas as pd"
   ]
  },
  {
   "cell_type": "code",
   "execution_count": 10,
   "id": "fc7dea6b",
   "metadata": {},
   "outputs": [],
   "source": [
    "import funciones_auxiliares as f_aux"
   ]
  },
  {
   "cell_type": "code",
   "execution_count": 2,
   "id": "5d6cdf00",
   "metadata": {},
   "outputs": [
    {
     "name": "stderr",
     "output_type": "stream",
     "text": [
      "C:\\Users\\ANA\\anaconda3\\lib\\site-packages\\IPython\\core\\interactiveshell.py:3444: DtypeWarning: Columns (1,2,5,12) have mixed types.Specify dtype option on import or set low_memory=False.\n",
      "  exec(code_obj, self.user_global_ns, self.user_ns)\n"
     ]
    }
   ],
   "source": [
    "df = pd.read_csv('NCDB_1999_to_2014.csv')"
   ]
  },
  {
   "cell_type": "code",
   "execution_count": 3,
   "id": "480e4e89",
   "metadata": {},
   "outputs": [
    {
     "data": {
      "text/html": [
       "<div>\n",
       "<style scoped>\n",
       "    .dataframe tbody tr th:only-of-type {\n",
       "        vertical-align: middle;\n",
       "    }\n",
       "\n",
       "    .dataframe tbody tr th {\n",
       "        vertical-align: top;\n",
       "    }\n",
       "\n",
       "    .dataframe thead th {\n",
       "        text-align: right;\n",
       "    }\n",
       "</style>\n",
       "<table border=\"1\" class=\"dataframe\">\n",
       "  <thead>\n",
       "    <tr style=\"text-align: right;\">\n",
       "      <th></th>\n",
       "      <th>C_YEAR</th>\n",
       "      <th>C_MNTH</th>\n",
       "      <th>C_WDAY</th>\n",
       "      <th>C_HOUR</th>\n",
       "      <th>C_SEV</th>\n",
       "      <th>C_VEHS</th>\n",
       "      <th>C_CONF</th>\n",
       "      <th>C_RCFG</th>\n",
       "      <th>C_WTHR</th>\n",
       "      <th>C_RSUR</th>\n",
       "      <th>...</th>\n",
       "      <th>V_ID</th>\n",
       "      <th>V_TYPE</th>\n",
       "      <th>V_YEAR</th>\n",
       "      <th>P_ID</th>\n",
       "      <th>P_SEX</th>\n",
       "      <th>P_AGE</th>\n",
       "      <th>P_PSN</th>\n",
       "      <th>P_ISEV</th>\n",
       "      <th>P_SAFE</th>\n",
       "      <th>P_USER</th>\n",
       "    </tr>\n",
       "  </thead>\n",
       "  <tbody>\n",
       "    <tr>\n",
       "      <th>0</th>\n",
       "      <td>1999</td>\n",
       "      <td>1</td>\n",
       "      <td>1</td>\n",
       "      <td>20</td>\n",
       "      <td>2</td>\n",
       "      <td>02</td>\n",
       "      <td>34</td>\n",
       "      <td>UU</td>\n",
       "      <td>1</td>\n",
       "      <td>5</td>\n",
       "      <td>...</td>\n",
       "      <td>01</td>\n",
       "      <td>06</td>\n",
       "      <td>1990</td>\n",
       "      <td>01</td>\n",
       "      <td>M</td>\n",
       "      <td>41</td>\n",
       "      <td>11</td>\n",
       "      <td>1</td>\n",
       "      <td>UU</td>\n",
       "      <td>1</td>\n",
       "    </tr>\n",
       "    <tr>\n",
       "      <th>1</th>\n",
       "      <td>1999</td>\n",
       "      <td>1</td>\n",
       "      <td>1</td>\n",
       "      <td>20</td>\n",
       "      <td>2</td>\n",
       "      <td>02</td>\n",
       "      <td>34</td>\n",
       "      <td>UU</td>\n",
       "      <td>1</td>\n",
       "      <td>5</td>\n",
       "      <td>...</td>\n",
       "      <td>02</td>\n",
       "      <td>01</td>\n",
       "      <td>1987</td>\n",
       "      <td>01</td>\n",
       "      <td>M</td>\n",
       "      <td>19</td>\n",
       "      <td>11</td>\n",
       "      <td>1</td>\n",
       "      <td>UU</td>\n",
       "      <td>1</td>\n",
       "    </tr>\n",
       "    <tr>\n",
       "      <th>2</th>\n",
       "      <td>1999</td>\n",
       "      <td>1</td>\n",
       "      <td>1</td>\n",
       "      <td>20</td>\n",
       "      <td>2</td>\n",
       "      <td>02</td>\n",
       "      <td>34</td>\n",
       "      <td>UU</td>\n",
       "      <td>1</td>\n",
       "      <td>5</td>\n",
       "      <td>...</td>\n",
       "      <td>02</td>\n",
       "      <td>01</td>\n",
       "      <td>1987</td>\n",
       "      <td>02</td>\n",
       "      <td>F</td>\n",
       "      <td>20</td>\n",
       "      <td>13</td>\n",
       "      <td>2</td>\n",
       "      <td>02</td>\n",
       "      <td>2</td>\n",
       "    </tr>\n",
       "    <tr>\n",
       "      <th>3</th>\n",
       "      <td>1999</td>\n",
       "      <td>1</td>\n",
       "      <td>1</td>\n",
       "      <td>08</td>\n",
       "      <td>2</td>\n",
       "      <td>01</td>\n",
       "      <td>01</td>\n",
       "      <td>UU</td>\n",
       "      <td>5</td>\n",
       "      <td>3</td>\n",
       "      <td>...</td>\n",
       "      <td>01</td>\n",
       "      <td>01</td>\n",
       "      <td>1986</td>\n",
       "      <td>01</td>\n",
       "      <td>M</td>\n",
       "      <td>46</td>\n",
       "      <td>11</td>\n",
       "      <td>1</td>\n",
       "      <td>UU</td>\n",
       "      <td>1</td>\n",
       "    </tr>\n",
       "    <tr>\n",
       "      <th>4</th>\n",
       "      <td>1999</td>\n",
       "      <td>1</td>\n",
       "      <td>1</td>\n",
       "      <td>08</td>\n",
       "      <td>2</td>\n",
       "      <td>01</td>\n",
       "      <td>01</td>\n",
       "      <td>UU</td>\n",
       "      <td>5</td>\n",
       "      <td>3</td>\n",
       "      <td>...</td>\n",
       "      <td>99</td>\n",
       "      <td>NN</td>\n",
       "      <td>NNNN</td>\n",
       "      <td>01</td>\n",
       "      <td>M</td>\n",
       "      <td>05</td>\n",
       "      <td>99</td>\n",
       "      <td>2</td>\n",
       "      <td>UU</td>\n",
       "      <td>3</td>\n",
       "    </tr>\n",
       "  </tbody>\n",
       "</table>\n",
       "<p>5 rows × 22 columns</p>\n",
       "</div>"
      ],
      "text/plain": [
       "   C_YEAR C_MNTH C_WDAY C_HOUR  C_SEV C_VEHS C_CONF C_RCFG C_WTHR C_RSUR  ...  \\\n",
       "0    1999      1      1     20      2     02     34     UU      1      5  ...   \n",
       "1    1999      1      1     20      2     02     34     UU      1      5  ...   \n",
       "2    1999      1      1     20      2     02     34     UU      1      5  ...   \n",
       "3    1999      1      1     08      2     01     01     UU      5      3  ...   \n",
       "4    1999      1      1     08      2     01     01     UU      5      3  ...   \n",
       "\n",
       "  V_ID V_TYPE V_YEAR P_ID P_SEX P_AGE P_PSN P_ISEV P_SAFE P_USER  \n",
       "0   01     06   1990   01     M    41    11      1     UU      1  \n",
       "1   02     01   1987   01     M    19    11      1     UU      1  \n",
       "2   02     01   1987   02     F    20    13      2     02      2  \n",
       "3   01     01   1986   01     M    46    11      1     UU      1  \n",
       "4   99     NN   NNNN   01     M    05    99      2     UU      3  \n",
       "\n",
       "[5 rows x 22 columns]"
      ]
     },
     "execution_count": 3,
     "metadata": {},
     "output_type": "execute_result"
    }
   ],
   "source": [
    "df.head()"
   ]
  },
  {
   "cell_type": "code",
   "execution_count": 6,
   "id": "d6b94cb0",
   "metadata": {},
   "outputs": [
    {
     "data": {
      "text/plain": [
       "(5860405, 22)"
      ]
     },
     "execution_count": 6,
     "metadata": {},
     "output_type": "execute_result"
    }
   ],
   "source": [
    "df.shape"
   ]
  },
  {
   "cell_type": "code",
   "execution_count": 23,
   "id": "6452caf4",
   "metadata": {},
   "outputs": [],
   "source": [
    "df = df[(df['C_YEAR'] == 1999) | (df['C_YEAR'] == 2014)]"
   ]
  },
  {
   "cell_type": "code",
   "execution_count": 24,
   "id": "cd38e594",
   "metadata": {},
   "outputs": [
    {
     "data": {
      "text/plain": [
       "(711121, 22)"
      ]
     },
     "execution_count": 24,
     "metadata": {},
     "output_type": "execute_result"
    }
   ],
   "source": [
    "df.shape"
   ]
  },
  {
   "cell_type": "code",
   "execution_count": 25,
   "id": "f0d41ae9",
   "metadata": {},
   "outputs": [
    {
     "data": {
      "text/plain": [
       "C_YEAR     int64\n",
       "C_MNTH    object\n",
       "C_WDAY    object\n",
       "C_HOUR    object\n",
       "C_SEV      int64\n",
       "C_VEHS    object\n",
       "C_CONF    object\n",
       "C_RCFG    object\n",
       "C_WTHR    object\n",
       "C_RSUR    object\n",
       "C_RALN    object\n",
       "C_TRAF    object\n",
       "V_ID      object\n",
       "V_TYPE    object\n",
       "V_YEAR    object\n",
       "P_ID      object\n",
       "P_SEX     object\n",
       "P_AGE     object\n",
       "P_PSN     object\n",
       "P_ISEV    object\n",
       "P_SAFE    object\n",
       "P_USER    object\n",
       "dtype: object"
      ]
     },
     "execution_count": 25,
     "metadata": {},
     "output_type": "execute_result"
    }
   ],
   "source": [
    "df.dtypes"
   ]
  },
  {
   "cell_type": "code",
   "execution_count": 26,
   "id": "e149d274",
   "metadata": {},
   "outputs": [
    {
     "data": {
      "text/plain": [
       "Index(['C_YEAR', 'C_MNTH', 'C_WDAY', 'C_HOUR', 'C_SEV', 'C_VEHS', 'C_CONF',\n",
       "       'C_RCFG', 'C_WTHR', 'C_RSUR', 'C_RALN', 'C_TRAF', 'V_ID', 'V_TYPE',\n",
       "       'V_YEAR', 'P_ID', 'P_SEX', 'P_AGE', 'P_PSN', 'P_ISEV', 'P_SAFE',\n",
       "       'P_USER'],\n",
       "      dtype='object')"
      ]
     },
     "execution_count": 26,
     "metadata": {},
     "output_type": "execute_result"
    }
   ],
   "source": [
    "df.columns"
   ]
  },
  {
   "cell_type": "code",
   "execution_count": 29,
   "id": "ef83f475",
   "metadata": {},
   "outputs": [
    {
     "data": {
      "text/plain": [
       "C_YEAR      2\n",
       "C_MNTH     16\n",
       "C_WDAY     15\n",
       "C_HOUR     25\n",
       "C_SEV       2\n",
       "C_VEHS     46\n",
       "C_CONF     20\n",
       "C_RCFG     12\n",
       "C_WTHR      9\n",
       "C_RSUR     11\n",
       "C_RALN      8\n",
       "C_TRAF     19\n",
       "V_ID      131\n",
       "V_TYPE     20\n",
       "V_YEAR    107\n",
       "P_ID       96\n",
       "P_SEX       4\n",
       "P_AGE     101\n",
       "P_PSN      16\n",
       "P_ISEV      5\n",
       "P_SAFE      9\n",
       "P_USER      6\n",
       "dtype: int64"
      ]
     },
     "execution_count": 29,
     "metadata": {},
     "output_type": "execute_result"
    }
   ],
   "source": [
    "df.nunique()"
   ]
  },
  {
   "cell_type": "code",
   "execution_count": 74,
   "id": "a90808c1",
   "metadata": {},
   "outputs": [
    {
     "data": {
      "text/plain": [
       "array(['1990', '1987', '1986', 'NNNN', '1984', '1991', '1992', '1997',\n",
       "       '1993', '1985', '1988', '1994', '1995', '1998', '1989', 'UUUU',\n",
       "       '1996', '1983', '1999', '1965', '1977', '1978', '1968', '1981',\n",
       "       '1979', '1976', '1972', '2000', '1982', '1975', '1973', '1974',\n",
       "       '1980', '1967', '1970', '1971', '1962', '1969', '1966', '1945',\n",
       "       '1963', '1960', '1950', '1964', '1959', '1955', '1958', '1903',\n",
       "       '1909', '1949', '1923', '1961', '1914', '1908', '1953', '1906',\n",
       "       '1939', '1925', '1948', '1938', '1907', '1952', '1904', '1917',\n",
       "       '1912', '1944', '1956', '1930', '1931', '1951', '1946', '1947',\n",
       "       '1957', '1954', '1943', '1901', '1937', '1905', '1935', '1926',\n",
       "       '1941', '1932', '1920', '1933', '1919', '1915', '1929', '1928',\n",
       "       '2008', '2007', '2006', '2014', '2012', '2003', '2011', '2010',\n",
       "       '2004', '2005', '2009', '2013', '2001', '2002', '2015', '1936',\n",
       "       '1911', '1927', '1916'], dtype=object)"
      ]
     },
     "execution_count": 74,
     "metadata": {},
     "output_type": "execute_result"
    }
   ],
   "source": [
    "df['V_YEAR'].unique()"
   ]
  },
  {
   "cell_type": "code",
   "execution_count": 71,
   "id": "f8329c30",
   "metadata": {},
   "outputs": [
    {
     "data": {
      "text/plain": [
       "UUUU    40452\n",
       "1998    35310\n",
       "NNNN    31470\n",
       "1997    29524\n",
       "1999    28520\n",
       "        ...  \n",
       "1906        1\n",
       "1943        1\n",
       "1904        1\n",
       "1919        1\n",
       "1916        1\n",
       "Name: V_YEAR, Length: 107, dtype: int64"
      ]
     },
     "execution_count": 71,
     "metadata": {},
     "output_type": "execute_result"
    }
   ],
   "source": [
    "df['V_YEAR'].value_counts()"
   ]
  },
  {
   "cell_type": "code",
   "execution_count": null,
   "id": "8ee1bef7",
   "metadata": {},
   "outputs": [],
   "source": [
    "#hacemos una varible antiguedad, en vez de año del vehículo"
   ]
  },
  {
   "cell_type": "code",
   "execution_count": 86,
   "id": "588f78dc",
   "metadata": {},
   "outputs": [],
   "source": [
    "df['V_YEAR_NUM'] = pd.to_numeric(df['V_YEAR'], errors = 'coerce')"
   ]
  },
  {
   "cell_type": "code",
   "execution_count": 88,
   "id": "850933df",
   "metadata": {},
   "outputs": [],
   "source": [
    "df['V_ANT'] = df['C_YEAR'] - df['V_YEAR_NUM']"
   ]
  },
  {
   "cell_type": "code",
   "execution_count": 90,
   "id": "7ccc2de6",
   "metadata": {},
   "outputs": [
    {
     "data": {
      "text/plain": [
       "1.0     48938\n",
       "7.0     45572\n",
       "2.0     42932\n",
       "9.0     42670\n",
       "4.0     42407\n",
       "        ...  \n",
       "78.0        1\n",
       "63.0        1\n",
       "95.0        1\n",
       "74.0        1\n",
       "93.0        1\n",
       "Name: V_ANT, Length: 93, dtype: int64"
      ]
     },
     "execution_count": 90,
     "metadata": {},
     "output_type": "execute_result"
    }
   ],
   "source": [
    "df['V_ANT'].value_counts()"
   ]
  },
  {
   "cell_type": "code",
   "execution_count": 110,
   "id": "312d570b",
   "metadata": {},
   "outputs": [
    {
     "data": {
      "text/plain": [
       "array(['20', '08', '17', '15', '14', '01', '11', '13', '19', '16', '09',\n",
       "       '02', '18', '12', '10', '23', '00', '06', '07', '21', 'UU', '05',\n",
       "       '22', '03', '04'], dtype=object)"
      ]
     },
     "execution_count": 110,
     "metadata": {},
     "output_type": "execute_result"
    }
   ],
   "source": [
    "df['C_HOUR'].unique()"
   ]
  },
  {
   "cell_type": "code",
   "execution_count": 111,
   "id": "c12c230a",
   "metadata": {},
   "outputs": [
    {
     "data": {
      "text/plain": [
       "16    64071\n",
       "17    61531\n",
       "15    61434\n",
       "14    48840\n",
       "18    45669\n",
       "13    44677\n",
       "12    44601\n",
       "08    36950\n",
       "11    36883\n",
       "19    35108\n",
       "10    30988\n",
       "09    27520\n",
       "20    26408\n",
       "07    25214\n",
       "21    24336\n",
       "22    19317\n",
       "23    15130\n",
       "06    12325\n",
       "00    10521\n",
       "02     8671\n",
       "01     8406\n",
       "03     7002\n",
       "UU     6110\n",
       "05     5170\n",
       "04     4239\n",
       "Name: C_HOUR, dtype: int64"
      ]
     },
     "execution_count": 111,
     "metadata": {},
     "output_type": "execute_result"
    }
   ],
   "source": [
    "df['C_HOUR'].value_counts()"
   ]
  },
  {
   "cell_type": "code",
   "execution_count": 106,
   "id": "10ce239a",
   "metadata": {},
   "outputs": [],
   "source": [
    "a = df[(df['V_ANT'] > 30)] #pensamos quitarlos"
   ]
  },
  {
   "cell_type": "code",
   "execution_count": 107,
   "id": "dc44af6c",
   "metadata": {},
   "outputs": [
    {
     "data": {
      "text/plain": [
       "(1484, 24)"
      ]
     },
     "execution_count": 107,
     "metadata": {},
     "output_type": "execute_result"
    }
   ],
   "source": [
    "a.shape"
   ]
  },
  {
   "cell_type": "code",
   "execution_count": 101,
   "id": "33931e04",
   "metadata": {},
   "outputs": [
    {
     "data": {
      "text/plain": [
       "<AxesSubplot:>"
      ]
     },
     "execution_count": 101,
     "metadata": {},
     "output_type": "execute_result"
    },
    {
     "data": {
      "image/png": "[encoded data removed]",
      "text/plain": [
       "<Figure size 432x288 with 1 Axes>"
      ]
     },
     "metadata": {
      "needs_background": "light"
     },
     "output_type": "display_data"
    }
   ],
   "source": [
    "df['V_ANT'].hist()"
   ]
  },
  {
   "cell_type": "code",
   "execution_count": 28,
   "id": "b52559f7",
   "metadata": {},
   "outputs": [],
   "source": [
    "lista_var_cat, otros = f_aux.dame_variables_categoricas(df)"
   ]
  },
  {
   "cell_type": "code",
   "execution_count": 14,
   "id": "9cb4cafd",
   "metadata": {},
   "outputs": [
    {
     "data": {
      "text/plain": [
       "['C_YEAR',\n",
       " 'C_MNTH',\n",
       " 'C_WDAY',\n",
       " 'C_HOUR',\n",
       " 'C_SEV',\n",
       " 'C_VEHS',\n",
       " 'C_CONF',\n",
       " 'C_RCFG',\n",
       " 'C_WTHR',\n",
       " 'C_RSUR',\n",
       " 'C_RALN',\n",
       " 'C_TRAF',\n",
       " 'V_TYPE',\n",
       " 'P_ID',\n",
       " 'P_SEX',\n",
       " 'P_PSN',\n",
       " 'P_ISEV',\n",
       " 'P_SAFE',\n",
       " 'P_USER']"
      ]
     },
     "execution_count": 14,
     "metadata": {},
     "output_type": "execute_result"
    }
   ],
   "source": [
    "lista_var_cat"
   ]
  },
  {
   "cell_type": "code",
   "execution_count": 15,
   "id": "0ce8897c",
   "metadata": {},
   "outputs": [
    {
     "data": {
      "text/plain": [
       "19"
      ]
     },
     "execution_count": 15,
     "metadata": {},
     "output_type": "execute_result"
    }
   ],
   "source": [
    "len(lista_var_cat)"
   ]
  },
  {
   "cell_type": "code",
   "execution_count": 16,
   "id": "9c186bc4",
   "metadata": {},
   "outputs": [
    {
     "data": {
      "text/plain": [
       "['V_ID', 'V_YEAR', 'P_AGE']"
      ]
     },
     "execution_count": 16,
     "metadata": {},
     "output_type": "execute_result"
    }
   ],
   "source": [
    "otros"
   ]
  },
  {
   "cell_type": "code",
   "execution_count": 17,
   "id": "b1e8de72",
   "metadata": {},
   "outputs": [
    {
     "data": {
      "text/plain": [
       "3"
      ]
     },
     "execution_count": 17,
     "metadata": {},
     "output_type": "execute_result"
    }
   ],
   "source": [
    "len(otros)"
   ]
  }
 ],
 "metadata": {
  "kernelspec": {
   "display_name": "Python 3 (ipykernel)",
   "language": "python",
   "name": "python3"
  },
  "language_info": {
   "codemirror_mode": {
    "name": "ipython",
    "version": 3
   },
   "file_extension": ".py",
   "mimetype": "text/x-python",
   "name": "python",
   "nbconvert_exporter": "python",
   "pygments_lexer": "ipython3",
   "version": "3.9.7"
  }
 },
 "nbformat": 4,
 "nbformat_minor": 5
}
